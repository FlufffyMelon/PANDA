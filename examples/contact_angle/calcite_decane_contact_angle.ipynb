{
 "cells": [
  {
   "cell_type": "code",
   "execution_count": 1,
   "metadata": {},
   "outputs": [],
   "source": [
    "import panda\n",
    "import numpy as np\n",
    "import os\n",
    "import os.path as osp\n",
    "import matplotlib.pyplot as plt"
   ]
  },
  {
   "cell_type": "markdown",
   "metadata": {},
   "source": [
    "---"
   ]
  },
  {
   "cell_type": "code",
   "execution_count": 2,
   "metadata": {},
   "outputs": [],
   "source": [
    "# Set up paths and configuration\n",
    "\n",
    "# Replace to your path\n",
    "folder = os.environ['HOME'] + '/PANDA_exp/panda_nn/calcite_decane_water_roll' # Folder containing the trajectory and topology files\n",
    "trajectory_file = osp.join(folder, 'cal_dec_tip4p.xtc') # Path to the trajectory file (XTC format)\n",
    "topology_file = osp.join(folder, 'cal_dec_tip4p.gro') # Path to the topology file (GRO format)\n",
    "residue = 'DECAN' # Name of the residue for which the density profile is calculated\n",
    "H = 6.0 # Height of the system in nanometers\n",
    "l = 11.6235 / H # Length scale for normalization\n",
    "phi = 0.5 # Volume fraction of the phase\n",
    "rho_bulk = 3.0896 * 10 # Bulk density of the residue (1 / nm^3)\n",
    "interface_type = 'roll' # Type of interface (geometry of the interface, e.g., 'roll', 'worm', etc.)\n",
    "sl = 200 # Number of bins for the density profile (spatial resolution)\n",
    "units = 'ps' # Time units used in the trajectory ('ps' for picoseconds, 'ns' for nanoseconds)\n",
    "timestep = 2 # Time step of the simulation in picoseconds (ps)\n",
    "chunk_length = 1000 # Number of frames to load from trajectory (chunk size)\n",
    "begin_time = 0 # Time (in ps) to start analysis from (usually 0)\n",
    "time = 20000000 * timestep // 1000 # Total simulation time in ps (nsteps * timestep / 1000)\n",
    "\n",
    "block_length = 1000 # Number of frames per block for averaging"
   ]
  },
  {
   "cell_type": "code",
   "execution_count": 3,
   "metadata": {},
   "outputs": [
    {
     "name": "stderr",
     "output_type": "stream",
     "text": [
      "Chunk: 100%|██████████| 40/40 [04:17<00:00,  6.45s/it]\n"
     ]
    }
   ],
   "source": [
    "# Calculate density profiles for each chunk of the trajectory\n",
    "axises, denses = panda.get_density_profile(\n",
    "    trajectory_file,\n",
    "    topology_file,\n",
    "    residue,\n",
    "    sl,\n",
    "    chunk_length,\n",
    "    begin_time,\n",
    "    time,\n",
    "    timestep,\n",
    "    units\n",
    ")\n",
    "\n",
    "# Save for later use (optional)\n",
    "np.save('axises', axises)\n",
    "np.save('denses', denses)"
   ]
  },
  {
   "cell_type": "code",
   "execution_count": 6,
   "metadata": {},
   "outputs": [
    {
     "name": "stdout",
     "output_type": "stream",
     "text": [
      "Averaged axises shape: (20, 200)\n",
      "Averaged denses shape: (20, 200)\n"
     ]
    }
   ],
   "source": [
    "# Block average using PANDA's function\n",
    "axises_avg, denses_avg = panda.block_average_density_profile(axises, denses, block_length)\n",
    "print('Averaged axises shape:', axises_avg.shape)\n",
    "print('Averaged denses shape:', denses_avg.shape)"
   ]
  },
  {
   "cell_type": "code",
   "execution_count": 7,
   "metadata": {},
   "outputs": [
    {
     "name": "stdout",
     "output_type": "stream",
     "text": [
      "Block 0: Contact angle = 102.29 degrees\n",
      "Block 1: Contact angle = 110.88 degrees\n",
      "Block 2: Contact angle = 114.15 degrees\n",
      "Block 3: Contact angle = 111.86 degrees\n",
      "Block 4: Contact angle = 113.17 degrees\n",
      "Block 5: Contact angle = 115.41 degrees\n",
      "Block 6: Contact angle = 125.16 degrees\n",
      "Block 7: Contact angle = 119.54 degrees\n",
      "Block 8: Contact angle = 119.59 degrees\n",
      "Block 9: Contact angle = 120.52 degrees\n",
      "Block 10: Contact angle = 115.86 degrees\n",
      "Block 11: Contact angle = 115.92 degrees\n",
      "Block 12: Contact angle = 109.24 degrees\n",
      "Block 13: Contact angle = 112.49 degrees\n",
      "Block 14: Contact angle = 113.86 degrees\n",
      "Block 15: Contact angle = 112.89 degrees\n",
      "Block 16: Contact angle = 115.24 degrees\n",
      "Block 17: Contact angle = 113.20 degrees\n",
      "Block 18: Contact angle = 112.05 degrees\n",
      "Block 19: Contact angle = 115.21 degrees\n"
     ]
    }
   ],
   "source": [
    "angles_deg = []\n",
    "for i in range(len(denses_avg)):\n",
    "    axis_i, dens_i, result = panda.profile_approx_from_array(\n",
    "        denses_avg[i, :],\n",
    "        axises_avg[i, :],\n",
    "        rho_bulk,\n",
    "        l,\n",
    "        phi,\n",
    "        H,\n",
    "        interface_type=interface_type,\n",
    "        display=False\n",
    "    )\n",
    "    angle_deg = np.rad2deg(result['theta'])\n",
    "    angles_deg.append(angle_deg)\n",
    "    print(f'Block {i}: Contact angle = {angle_deg:.2f} degrees')"
   ]
  },
  {
   "cell_type": "markdown",
   "metadata": {},
   "source": [
    "---"
   ]
  },
  {
   "cell_type": "code",
   "execution_count": 8,
   "metadata": {},
   "outputs": [
    {
     "data": {
      "image/png": "[encoded data removed]",
      "text/plain": [
       "<Figure size 800x600 with 1 Axes>"
      ]
     },
     "metadata": {},
     "output_type": "display_data"
    }
   ],
   "source": [
    "plt.figure(figsize=(8, 6))\n",
    "plt.grid(alpha=0.5)\n",
    "\n",
    "t = np.arange(2, 41, 2)\n",
    "plt.scatter(t, angles_deg, s=50)\n",
    "\n",
    "plt.xticks(fontsize=12)\n",
    "plt.yticks(fontsize=12)\n",
    "plt.xlabel('time, ns', fontsize=14)\n",
    "plt.ylabel('contact angle, º', fontsize=14)\n",
    "plt.ylim(90, 130)\n",
    "plt.show()"
   ]
  },
  {
   "cell_type": "code",
   "execution_count": null,
   "metadata": {},
   "outputs": [],
   "source": []
  }
 ],
 "metadata": {
  "kernelspec": {
   "display_name": ".venv",
   "language": "python",
   "name": "python3"
  },
  "language_info": {
   "codemirror_mode": {
    "name": "ipython",
    "version": 3
   },
   "file_extension": ".py",
   "mimetype": "text/x-python",
   "name": "python",
   "nbconvert_exporter": "python",
   "pygments_lexer": "ipython3",
   "version": "3.12.4"
  }
 },
 "nbformat": 4,
 "nbformat_minor": 2
}
