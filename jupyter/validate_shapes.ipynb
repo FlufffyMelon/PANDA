{
 "cells": [
  {
   "cell_type": "code",
   "execution_count": 5,
   "metadata": {},
   "outputs": [],
   "source": [
    "import numpy as np\n",
    "import sys\n",
    "import os\n",
    "sys.path.append(os.path.abspath('..'))\n",
    "from src.utils_py.auxil import *\n",
    "from src.utils_py.io.gro import read_gro, write_gro\n",
    "from src.utils_py.geom.Box import Box\n",
    "from src.utils_py.geom.Droplet import Droplet\n",
    "from src.utils_py.geom.Doughnut import Doughnut\n",
    "from src.utils_py.geom.Worm import Worm\n",
    "from src.utils_py.geom.Roll import Roll\n",
    "from src.utils_py.geom.Perforation import Perforation\n",
    "from src.utils_py.assembler.build import build_system\n",
    "from src.utils_py.gro.Structure import Structure"
   ]
  },
  {
   "cell_type": "markdown",
   "metadata": {},
   "source": [
    "---"
   ]
  },
  {
   "cell_type": "markdown",
   "metadata": {},
   "source": [
    "## Interface generators validation"
   ]
  },
  {
   "cell_type": "code",
   "execution_count": 6,
   "metadata": {},
   "outputs": [],
   "source": [
    "''' Don't change!!! '''\n",
    "insertion_limit = int(1e5)\n",
    "rotation_limit = 1000\n",
    "package = 0.3\n",
    "distance = {'min': 0.08**2, 'opt': 0.12**2}"
   ]
  },
  {
   "cell_type": "code",
   "execution_count": 7,
   "metadata": {},
   "outputs": [],
   "source": [
    "interface_type = 'doughnut'\n",
    "extention = 'delta'\n",
    "\n",
    "WIDTH_X, WIDTH_Y, H = 15, 15, 15\n",
    "# WIDTH_X, WIDTH_Y, H = 5, 5, 2.5\n",
    "l = WIDTH_X / H\n",
    "phi = 0.1\n",
    "th = np.deg2rad(120)\n",
    "delta = 0.0\n",
    "\n",
    "centering = False"
   ]
  },
  {
   "cell_type": "code",
   "execution_count": 8,
   "metadata": {},
   "outputs": [
    {
     "name": "stdout",
     "output_type": "stream",
     "text": [
      "Number of molecules:\n",
      "point \t 4050\n",
      "\n",
      "Filling system:\n"
     ]
    },
    {
     "name": "stderr",
     "output_type": "stream",
     "text": [
      "  0%|          | 0/4050 [00:00<?, ?it/s]"
     ]
    },
    {
     "name": "stderr",
     "output_type": "stream",
     "text": [
      "100%|██████████| 4050/4050 [00:01<00:00, 3422.27it/s]\n"
     ]
    }
   ],
   "source": [
    "box = np.array([WIDTH_X, WIDTH_Y, H])\n",
    "\n",
    "structure = Structure(\n",
    "    title='Points',\n",
    "    box=box,\n",
    "    atoms=np.empty(0, dtype=object),\n",
    "    atoms_xyz=np.zeros((0, 3))\n",
    ")\n",
    "\n",
    "points = structure.atoms_xyz\n",
    "\n",
    "names = ['point']\n",
    "density = [12] # nm-3 Water like density\n",
    "\n",
    "\n",
    "region = Worm(\n",
    "    box / 2,\n",
    "    box,\n",
    "    l,\n",
    "    phi,\n",
    "    th=th,\n",
    "    delta=delta,\n",
    "    extention=extention,\n",
    "    # centering=centering\n",
    ")\n",
    "\n",
    "insert_shapes = [region]\n",
    "shapes = [region]\n",
    "numbers = list(np.round(np.array([shapes[i].get_volume() * density[i] for i in range(len(names))])).astype(int))\n",
    "# numbers = [600]\n",
    "\n",
    "structure = build_system(\n",
    "    '../', structure, names, numbers, insert_shapes, points,\n",
    "    insertion_limit=insertion_limit,\n",
    "    rotation_limit=rotation_limit,\n",
    "    package=package,\n",
    "    min_dist2=distance['min']\n",
    ")\n",
    "\n",
    "filename = '1'\n",
    "\n",
    "dir_path = '../data/test'\n",
    "if not os.path.exists(dir_path):\n",
    "    os.makedirs(dir_path)\n",
    "\n",
    "with open(os.path.join(dir_path, f'{filename}.gro'), 'w') as f:\n",
    "    f.write(write_gro(structure))"
   ]
  },
  {
   "cell_type": "code",
   "execution_count": 12,
   "metadata": {},
   "outputs": [
    {
     "data": {
      "text/plain": [
       "2.6761861742291564"
      ]
     },
     "execution_count": 12,
     "metadata": {},
     "output_type": "execute_result"
    }
   ],
   "source": [
    "r_worm_delta(1, 0.1, 0) * H"
   ]
  },
  {
   "cell_type": "code",
   "execution_count": 10,
   "metadata": {},
   "outputs": [
    {
     "data": {
      "text/plain": [
       "4.319117867227291"
      ]
     },
     "execution_count": 10,
     "metadata": {},
     "output_type": "execute_result"
    }
   ],
   "source": [
    "region.rd * H"
   ]
  },
  {
   "cell_type": "markdown",
   "metadata": {},
   "source": [
    "---"
   ]
  },
  {
   "cell_type": "code",
   "execution_count": 32,
   "metadata": {},
   "outputs": [],
   "source": [
    "import matplotlib.pyplot as plt"
   ]
  },
  {
   "cell_type": "code",
   "execution_count": 31,
   "metadata": {},
   "outputs": [],
   "source": [
    "z = np.linspace(-0.5, 0.5, 100)\n",
    "y = y_perforation_theta(z, 2, 0.5, np.pi)"
   ]
  },
  {
   "cell_type": "code",
   "execution_count": 33,
   "metadata": {},
   "outputs": [
    {
     "data": {
      "text/plain": [
       "[<matplotlib.lines.Line2D at 0x13e5de520>]"
      ]
     },
     "execution_count": 33,
     "metadata": {},
     "output_type": "execute_result"
    },
    {
     "data": {
      "image/png": "[encoded data removed]",
      "text/plain": [
       "<Figure size 640x480 with 1 Axes>"
      ]
     },
     "metadata": {},
     "output_type": "display_data"
    }
   ],
   "source": [
    "plt.plot(z, y)"
   ]
  },
  {
   "cell_type": "code",
   "execution_count": 34,
   "metadata": {},
   "outputs": [
    {
     "data": {
      "text/plain": [
       "0.7785165166045581"
      ]
     },
     "execution_count": 34,
     "metadata": {},
     "output_type": "execute_result"
    }
   ],
   "source": [
    "np.trapz(y, z)"
   ]
  },
  {
   "cell_type": "code",
   "execution_count": null,
   "metadata": {},
   "outputs": [],
   "source": []
  }
 ],
 "metadata": {
  "kernelspec": {
   "display_name": ".venv",
   "language": "python",
   "name": "python3"
  },
  "language_info": {
   "codemirror_mode": {
    "name": "ipython",
    "version": 3
   },
   "file_extension": ".py",
   "mimetype": "text/x-python",
   "name": "python",
   "nbconvert_exporter": "python",
   "pygments_lexer": "ipython3",
   "version": "3.9.6"
  }
 },
 "nbformat": 4,
 "nbformat_minor": 2
}
