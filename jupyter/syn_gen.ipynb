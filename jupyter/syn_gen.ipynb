{
 "cells": [
  {
   "cell_type": "code",
   "execution_count": 7,
   "metadata": {},
   "outputs": [],
   "source": [
    "import numpy as np\n",
    "import os\n",
    "from src.utils_py.io.gro import read_gro, write_gro\n",
    "from src.utils_py.geom.Box import Box\n",
    "from src.utils_py.geom.Droplet import Droplet\n",
    "from src.utils_py.geom.Doughnut import Doughnut\n",
    "from src.utils_py.geom.Worm import Worm\n",
    "from src.utils_py.geom.Roll import Roll\n",
    "from src.utils_py.geom.Perforation import Perforation\n",
    "from src.utils_py.assembler.build import build_system\n",
    "from src.utils_py.gro.Structure import Structure"
   ]
  },
  {
   "cell_type": "markdown",
   "metadata": {},
   "source": [
    "---"
   ]
  },
  {
   "cell_type": "markdown",
   "metadata": {},
   "source": [
    "# Тесты капелек"
   ]
  },
  {
   "cell_type": "code",
   "execution_count": 8,
   "metadata": {},
   "outputs": [],
   "source": [
    "''' ПАРАМЕТРЫ НЕ ТРОГАТЬ!!! '''\n",
    "insertion_limit = int(1e5)\n",
    "rotation_limit = 1000\n",
    "package = 0.3\n",
    "distance = {'min': 0.08**2, 'opt': 0.12**2}"
   ]
  },
  {
   "cell_type": "code",
   "execution_count": 58,
   "metadata": {},
   "outputs": [],
   "source": [
    "shape_type = 'doughnut'\n",
    "\n",
    "WIDTH_X, WIDTH_Y, H = 15, 15, 7.5\n",
    "phi = 0.2\n",
    "th = np.deg2rad(180)"
   ]
  },
  {
   "cell_type": "code",
   "execution_count": 59,
   "metadata": {},
   "outputs": [
    {
     "name": "stdout",
     "output_type": "stream",
     "text": [
      "Number of molecules:\n",
      "point \t 4050\n",
      "\n",
      "Filling system:\n"
     ]
    },
    {
     "name": "stderr",
     "output_type": "stream",
     "text": [
      "100%|██████████| 4050/4050 [00:01<00:00, 3189.84it/s]\n",
      "mkdir: synthetic/doughnut: File exists\n"
     ]
    }
   ],
   "source": [
    "box = np.array([WIDTH_X, WIDTH_Y, H])\n",
    "\n",
    "structure = Structure(\n",
    "    title='Points',\n",
    "    box=box,\n",
    "    atoms=np.empty(0, dtype=object),\n",
    "    atoms_xyz=np.zeros((0, 3))\n",
    ")\n",
    "\n",
    "points = structure.atoms_xyz\n",
    "\n",
    "names = ['point']\n",
    "density = [12] # nm-3 Плотность, как у воды\n",
    "\n",
    "# XZ surface\n",
    "region = Doughnut(\n",
    "    center = np.array([WIDTH_X / 2, WIDTH_Y / 2, H / 2]),\n",
    "    borders = np.array([WIDTH_X, WIDTH_Y, H]),\n",
    "    phi = phi,\n",
    "    th = th,\n",
    "    H = H\n",
    ")\n",
    "\n",
    "insert_shapes = [region]\n",
    "shapes = [region]\n",
    "numbers = list(np.round(np.array([shapes[i].get_volume() * density[i] for i in range(len(names))])).astype(int))\n",
    "\n",
    "structure = build_system(\n",
    "    './', structure, names, numbers, insert_shapes, points,\n",
    "    insertion_limit=insertion_limit,\n",
    "    rotation_limit=rotation_limit,\n",
    "    package=package,\n",
    "    min_dist2=distance['min']\n",
    ")\n",
    "\n",
    "filename = '1'\n",
    "\n",
    "os.system(f'mkdir synthetic/{shape_type}')\n",
    "\n",
    "with open(f'synthetic/{shape_type}/{filename}.gro', 'w') as f:\n",
    "    f.write(write_gro(structure))"
   ]
  },
  {
   "cell_type": "markdown",
   "metadata": {},
   "source": [
    "---"
   ]
  },
  {
   "cell_type": "markdown",
   "metadata": {},
   "source": [
    "# Генерация искуственных датасетов"
   ]
  },
  {
   "cell_type": "code",
   "execution_count": 9,
   "metadata": {},
   "outputs": [],
   "source": [
    "regions = [ Droplet ,  Doughnut ,  Worm ,  Roll ,  Perforation]\n",
    "types   = ['droplet', 'doughnut', 'worm', 'roll', 'perforation']\n",
    "phi     = np.array([0.1, 0.2, 0.3, 0.5, 0.8])\n",
    "WIDTH_X = np.array([15 , 15 , 15 , 15 , 15 ])\n",
    "WIDTH_Y = np.array([15 , 15 , 15 , 15 , 15 ])\n",
    "H       = np.array([7.5, 7.5, 7.5, 5  , 7.5])\n",
    "c  = H / 2\n",
    "c[0] = 0\n",
    "c[2] = 0\n",
    "thetas    = [180, 170, 160, 150, 140, 130, 120, 110, 100, 90.1]"
   ]
  },
  {
   "cell_type": "code",
   "execution_count": 10,
   "metadata": {},
   "outputs": [],
   "source": [
    "iterations = 10"
   ]
  },
  {
   "cell_type": "code",
   "execution_count": 11,
   "metadata": {},
   "outputs": [
    {
     "name": "stdout",
     "output_type": "stream",
     "text": [
      "Number of molecules:\n",
      "point \t 2025\n",
      "\n",
      "Filling system:\n"
     ]
    },
    {
     "name": "stderr",
     "output_type": "stream",
     "text": [
      "100%|██████████| 2025/2025 [00:00<00:00, 6740.21it/s]\n",
      "mkdir: synthetic/180: File exists\n",
      "mkdir: synthetic/180/droplet: File exists\n"
     ]
    },
    {
     "name": "stdout",
     "output_type": "stream",
     "text": [
      "Number of molecules:\n",
      "point \t 2025\n",
      "\n",
      "Filling system:\n"
     ]
    },
    {
     "name": "stderr",
     "output_type": "stream",
     "text": [
      "100%|██████████| 2025/2025 [00:00<00:00, 6864.76it/s]\n",
      "mkdir: synthetic/180: File exists\n",
      "mkdir: synthetic/180/droplet: File exists\n"
     ]
    },
    {
     "name": "stdout",
     "output_type": "stream",
     "text": [
      "Number of molecules:\n",
      "point \t 2025\n",
      "\n",
      "Filling system:\n"
     ]
    },
    {
     "name": "stderr",
     "output_type": "stream",
     "text": [
      "100%|██████████| 2025/2025 [00:00<00:00, 6805.29it/s]\n",
      "mkdir: synthetic/180: File exists\n",
      "mkdir: synthetic/180/droplet: File exists\n"
     ]
    },
    {
     "name": "stdout",
     "output_type": "stream",
     "text": [
      "Number of molecules:\n",
      "point \t 2025\n",
      "\n",
      "Filling system:\n"
     ]
    },
    {
     "name": "stderr",
     "output_type": "stream",
     "text": [
      "100%|██████████| 2025/2025 [00:00<00:00, 6246.57it/s]\n",
      "mkdir: synthetic/180: File exists\n",
      "mkdir: synthetic/180/droplet: File exists\n"
     ]
    },
    {
     "name": "stdout",
     "output_type": "stream",
     "text": [
      "Number of molecules:\n",
      "point \t 2025\n",
      "\n",
      "Filling system:\n"
     ]
    },
    {
     "name": "stderr",
     "output_type": "stream",
     "text": [
      "100%|██████████| 2025/2025 [00:00<00:00, 6536.22it/s]\n",
      "mkdir: synthetic/180: File exists\n",
      "mkdir: synthetic/180/droplet: File exists\n"
     ]
    },
    {
     "name": "stdout",
     "output_type": "stream",
     "text": [
      "Number of molecules:\n",
      "point \t 2025\n",
      "\n",
      "Filling system:\n"
     ]
    },
    {
     "name": "stderr",
     "output_type": "stream",
     "text": [
      "100%|██████████| 2025/2025 [00:00<00:00, 6838.72it/s]\n",
      "mkdir: synthetic/180: File exists\n",
      "mkdir: synthetic/180/droplet: File exists\n"
     ]
    },
    {
     "name": "stdout",
     "output_type": "stream",
     "text": [
      "Number of molecules:\n",
      "point \t 2025\n",
      "\n",
      "Filling system:\n"
     ]
    },
    {
     "name": "stderr",
     "output_type": "stream",
     "text": [
      "100%|██████████| 2025/2025 [00:00<00:00, 6687.54it/s]\n",
      "mkdir: synthetic/180: File exists\n",
      "mkdir: synthetic/180/droplet: File exists\n"
     ]
    },
    {
     "name": "stdout",
     "output_type": "stream",
     "text": [
      "Number of molecules:\n",
      "point \t 2025\n",
      "\n",
      "Filling system:\n"
     ]
    },
    {
     "name": "stderr",
     "output_type": "stream",
     "text": [
      "100%|██████████| 2025/2025 [00:00<00:00, 6793.98it/s]\n",
      "mkdir: synthetic/180: File exists\n",
      "mkdir: synthetic/180/droplet: File exists\n"
     ]
    },
    {
     "name": "stdout",
     "output_type": "stream",
     "text": [
      "Number of molecules:\n",
      "point \t 2025\n",
      "\n",
      "Filling system:\n"
     ]
    },
    {
     "name": "stderr",
     "output_type": "stream",
     "text": [
      "100%|██████████| 2025/2025 [00:00<00:00, 6901.58it/s]\n",
      "mkdir: synthetic/180: File exists\n",
      "mkdir: synthetic/180/droplet: File exists\n"
     ]
    },
    {
     "name": "stdout",
     "output_type": "stream",
     "text": [
      "Number of molecules:\n",
      "point \t 2025\n",
      "\n",
      "Filling system:\n"
     ]
    },
    {
     "name": "stderr",
     "output_type": "stream",
     "text": [
      "100%|██████████| 2025/2025 [00:00<00:00, 6968.89it/s]\n",
      "mkdir: synthetic/180: File exists\n",
      "mkdir: synthetic/180/droplet: File exists\n"
     ]
    },
    {
     "name": "stdout",
     "output_type": "stream",
     "text": [
      "Number of molecules:\n",
      "point \t 4050\n",
      "\n",
      "Filling system:\n"
     ]
    },
    {
     "name": "stderr",
     "output_type": "stream",
     "text": [
      "100%|██████████| 4050/4050 [00:00<00:00, 4279.45it/s]\n",
      "mkdir: synthetic/180: File exists\n",
      "mkdir: synthetic/180/doughnut: File exists\n"
     ]
    },
    {
     "name": "stdout",
     "output_type": "stream",
     "text": [
      "Number of molecules:\n",
      "point \t 4050\n",
      "\n",
      "Filling system:\n"
     ]
    },
    {
     "name": "stderr",
     "output_type": "stream",
     "text": [
      "100%|██████████| 4050/4050 [00:00<00:00, 4276.65it/s]\n",
      "mkdir: synthetic/180: File exists\n",
      "mkdir: synthetic/180/doughnut: File exists\n"
     ]
    },
    {
     "name": "stdout",
     "output_type": "stream",
     "text": [
      "Number of molecules:\n",
      "point \t 4050\n",
      "\n",
      "Filling system:\n"
     ]
    },
    {
     "name": "stderr",
     "output_type": "stream",
     "text": [
      "100%|██████████| 4050/4050 [00:00<00:00, 4324.74it/s]\n",
      "mkdir: synthetic/180: File exists\n",
      "mkdir: synthetic/180/doughnut: File exists\n"
     ]
    },
    {
     "name": "stdout",
     "output_type": "stream",
     "text": [
      "Number of molecules:\n",
      "point \t 4050\n",
      "\n",
      "Filling system:\n"
     ]
    },
    {
     "name": "stderr",
     "output_type": "stream",
     "text": [
      "100%|██████████| 4050/4050 [00:00<00:00, 4374.14it/s]\n",
      "mkdir: synthetic/180: File exists\n",
      "mkdir: synthetic/180/doughnut: File exists\n"
     ]
    },
    {
     "name": "stdout",
     "output_type": "stream",
     "text": [
      "Number of molecules:\n",
      "point \t 4050\n",
      "\n",
      "Filling system:\n"
     ]
    },
    {
     "name": "stderr",
     "output_type": "stream",
     "text": [
      "100%|██████████| 4050/4050 [00:00<00:00, 4426.56it/s]\n",
      "mkdir: synthetic/180: File exists\n",
      "mkdir: synthetic/180/doughnut: File exists\n"
     ]
    },
    {
     "name": "stdout",
     "output_type": "stream",
     "text": [
      "Number of molecules:\n",
      "point \t 4050\n",
      "\n",
      "Filling system:\n"
     ]
    },
    {
     "name": "stderr",
     "output_type": "stream",
     "text": [
      "100%|██████████| 4050/4050 [00:00<00:00, 4327.84it/s]\n",
      "mkdir: synthetic/180: File exists\n",
      "mkdir: synthetic/180/doughnut: File exists\n"
     ]
    },
    {
     "name": "stdout",
     "output_type": "stream",
     "text": [
      "Number of molecules:\n",
      "point \t 4050\n",
      "\n",
      "Filling system:\n"
     ]
    },
    {
     "name": "stderr",
     "output_type": "stream",
     "text": [
      "100%|██████████| 4050/4050 [00:00<00:00, 4424.65it/s]\n",
      "mkdir: synthetic/180: File exists\n",
      "mkdir: synthetic/180/doughnut: File exists\n"
     ]
    },
    {
     "name": "stdout",
     "output_type": "stream",
     "text": [
      "Number of molecules:\n",
      "point \t 4050\n",
      "\n",
      "Filling system:\n"
     ]
    },
    {
     "name": "stderr",
     "output_type": "stream",
     "text": [
      "100%|██████████| 4050/4050 [00:00<00:00, 4395.52it/s]\n",
      "mkdir: synthetic/180: File exists\n",
      "mkdir: synthetic/180/doughnut: File exists\n"
     ]
    },
    {
     "name": "stdout",
     "output_type": "stream",
     "text": [
      "Number of molecules:\n",
      "point \t 4050\n",
      "\n",
      "Filling system:\n"
     ]
    },
    {
     "name": "stderr",
     "output_type": "stream",
     "text": [
      "100%|██████████| 4050/4050 [00:00<00:00, 4335.40it/s]\n",
      "mkdir: synthetic/180: File exists\n",
      "mkdir: synthetic/180/doughnut: File exists\n"
     ]
    },
    {
     "name": "stdout",
     "output_type": "stream",
     "text": [
      "Number of molecules:\n",
      "point \t 4050\n",
      "\n",
      "Filling system:\n"
     ]
    },
    {
     "name": "stderr",
     "output_type": "stream",
     "text": [
      "100%|██████████| 4050/4050 [00:00<00:00, 4390.60it/s]\n",
      "mkdir: synthetic/180: File exists\n",
      "mkdir: synthetic/180/doughnut: File exists\n"
     ]
    },
    {
     "name": "stdout",
     "output_type": "stream",
     "text": [
      "Number of molecules:\n",
      "point \t 6075\n",
      "\n",
      "Filling system:\n"
     ]
    },
    {
     "name": "stderr",
     "output_type": "stream",
     "text": [
      "100%|██████████| 6075/6075 [00:01<00:00, 3468.49it/s] \n",
      "mkdir: synthetic/180: File exists\n",
      "mkdir: synthetic/180/worm: File exists\n"
     ]
    },
    {
     "name": "stdout",
     "output_type": "stream",
     "text": [
      "Number of molecules:\n",
      "point \t 6075\n",
      "\n",
      "Filling system:\n"
     ]
    },
    {
     "name": "stderr",
     "output_type": "stream",
     "text": [
      "100%|██████████| 6075/6075 [00:01<00:00, 3426.43it/s] \n",
      "mkdir: synthetic/180: File exists\n",
      "mkdir: synthetic/180/worm: File exists\n"
     ]
    },
    {
     "name": "stdout",
     "output_type": "stream",
     "text": [
      "Number of molecules:\n",
      "point \t 6075\n",
      "\n",
      "Filling system:\n"
     ]
    },
    {
     "name": "stderr",
     "output_type": "stream",
     "text": [
      "100%|██████████| 6075/6075 [00:01<00:00, 3451.27it/s] \n",
      "mkdir: synthetic/180: File exists\n",
      "mkdir: synthetic/180/worm: File exists\n"
     ]
    },
    {
     "name": "stdout",
     "output_type": "stream",
     "text": [
      "Number of molecules:\n",
      "point \t 6075\n",
      "\n",
      "Filling system:\n"
     ]
    },
    {
     "name": "stderr",
     "output_type": "stream",
     "text": [
      "100%|██████████| 6075/6075 [00:01<00:00, 3485.79it/s] \n",
      "mkdir: synthetic/180: File exists\n",
      "mkdir: synthetic/180/worm: File exists\n"
     ]
    },
    {
     "name": "stdout",
     "output_type": "stream",
     "text": [
      "Number of molecules:\n",
      "point \t 6075\n",
      "\n",
      "Filling system:\n"
     ]
    },
    {
     "name": "stderr",
     "output_type": "stream",
     "text": [
      "100%|██████████| 6075/6075 [00:01<00:00, 3607.62it/s] \n",
      "mkdir: synthetic/180: File exists\n",
      "mkdir: synthetic/180/worm: File exists\n"
     ]
    },
    {
     "name": "stdout",
     "output_type": "stream",
     "text": [
      "Number of molecules:\n",
      "point \t 6075\n",
      "\n",
      "Filling system:\n"
     ]
    },
    {
     "name": "stderr",
     "output_type": "stream",
     "text": [
      "100%|██████████| 6075/6075 [00:01<00:00, 3522.79it/s] \n",
      "mkdir: synthetic/180: File exists\n",
      "mkdir: synthetic/180/worm: File exists\n"
     ]
    },
    {
     "name": "stdout",
     "output_type": "stream",
     "text": [
      "Number of molecules:\n",
      "point \t 6075\n",
      "\n",
      "Filling system:\n"
     ]
    },
    {
     "name": "stderr",
     "output_type": "stream",
     "text": [
      "100%|██████████| 6075/6075 [00:01<00:00, 3517.65it/s] \n",
      "mkdir: synthetic/180: File exists\n",
      "mkdir: synthetic/180/worm: File exists\n"
     ]
    },
    {
     "name": "stdout",
     "output_type": "stream",
     "text": [
      "Number of molecules:\n",
      "point \t 6075\n",
      "\n",
      "Filling system:\n"
     ]
    },
    {
     "name": "stderr",
     "output_type": "stream",
     "text": [
      "100%|██████████| 6075/6075 [00:01<00:00, 3612.87it/s] \n",
      "mkdir: synthetic/180: File exists\n",
      "mkdir: synthetic/180/worm: File exists\n"
     ]
    },
    {
     "name": "stdout",
     "output_type": "stream",
     "text": [
      "Number of molecules:\n",
      "point \t 6075\n",
      "\n",
      "Filling system:\n"
     ]
    },
    {
     "name": "stderr",
     "output_type": "stream",
     "text": [
      "100%|██████████| 6075/6075 [00:01<00:00, 3479.65it/s] \n",
      "mkdir: synthetic/180: File exists\n",
      "mkdir: synthetic/180/worm: File exists\n"
     ]
    },
    {
     "name": "stdout",
     "output_type": "stream",
     "text": [
      "Number of molecules:\n",
      "point \t 6075\n",
      "\n",
      "Filling system:\n"
     ]
    },
    {
     "name": "stderr",
     "output_type": "stream",
     "text": [
      "100%|██████████| 6075/6075 [00:01<00:00, 3598.99it/s] \n",
      "mkdir: synthetic/180: File exists\n",
      "mkdir: synthetic/180/worm: File exists\n"
     ]
    },
    {
     "name": "stdout",
     "output_type": "stream",
     "text": [
      "Number of molecules:\n",
      "point \t 6750\n",
      "\n",
      "Filling system:\n"
     ]
    },
    {
     "name": "stderr",
     "output_type": "stream",
     "text": [
      "100%|██████████| 6750/6750 [00:02<00:00, 3318.95it/s] \n",
      "mkdir: synthetic/180: File exists\n",
      "mkdir: synthetic/180/roll: File exists\n"
     ]
    },
    {
     "name": "stdout",
     "output_type": "stream",
     "text": [
      "Number of molecules:\n",
      "point \t 6750\n",
      "\n",
      "Filling system:\n"
     ]
    },
    {
     "name": "stderr",
     "output_type": "stream",
     "text": [
      "100%|██████████| 6750/6750 [00:02<00:00, 3327.00it/s] \n",
      "mkdir: synthetic/180: File exists\n",
      "mkdir: synthetic/180/roll: File exists\n"
     ]
    },
    {
     "name": "stdout",
     "output_type": "stream",
     "text": [
      "Number of molecules:\n",
      "point \t 6750\n",
      "\n",
      "Filling system:\n"
     ]
    },
    {
     "name": "stderr",
     "output_type": "stream",
     "text": [
      "100%|██████████| 6750/6750 [00:02<00:00, 3276.79it/s] \n",
      "mkdir: synthetic/180: File exists\n",
      "mkdir: synthetic/180/roll: File exists\n"
     ]
    },
    {
     "name": "stdout",
     "output_type": "stream",
     "text": [
      "Number of molecules:\n",
      "point \t 6750\n",
      "\n",
      "Filling system:\n"
     ]
    },
    {
     "name": "stderr",
     "output_type": "stream",
     "text": [
      "100%|██████████| 6750/6750 [00:02<00:00, 3255.36it/s] \n",
      "mkdir: synthetic/180: File exists\n",
      "mkdir: synthetic/180/roll: File exists\n"
     ]
    },
    {
     "name": "stdout",
     "output_type": "stream",
     "text": [
      "Number of molecules:\n",
      "point \t 6750\n",
      "\n",
      "Filling system:\n"
     ]
    },
    {
     "name": "stderr",
     "output_type": "stream",
     "text": [
      "100%|██████████| 6750/6750 [00:02<00:00, 3291.93it/s] \n",
      "mkdir: synthetic/180: File exists\n",
      "mkdir: synthetic/180/roll: File exists\n"
     ]
    },
    {
     "name": "stdout",
     "output_type": "stream",
     "text": [
      "Number of molecules:\n",
      "point \t 6750\n",
      "\n",
      "Filling system:\n"
     ]
    },
    {
     "name": "stderr",
     "output_type": "stream",
     "text": [
      "100%|██████████| 6750/6750 [00:02<00:00, 3262.93it/s] \n",
      "mkdir: synthetic/180: File exists\n",
      "mkdir: synthetic/180/roll: File exists\n"
     ]
    },
    {
     "name": "stdout",
     "output_type": "stream",
     "text": [
      "Number of molecules:\n",
      "point \t 6750\n",
      "\n",
      "Filling system:\n"
     ]
    },
    {
     "name": "stderr",
     "output_type": "stream",
     "text": [
      "100%|██████████| 6750/6750 [00:02<00:00, 3300.33it/s] \n",
      "mkdir: synthetic/180: File exists\n",
      "mkdir: synthetic/180/roll: File exists\n"
     ]
    },
    {
     "name": "stdout",
     "output_type": "stream",
     "text": [
      "Number of molecules:\n",
      "point \t 6750\n",
      "\n",
      "Filling system:\n"
     ]
    },
    {
     "name": "stderr",
     "output_type": "stream",
     "text": [
      "100%|██████████| 6750/6750 [00:02<00:00, 3300.65it/s] \n",
      "mkdir: synthetic/180: File exists\n",
      "mkdir: synthetic/180/roll: File exists\n"
     ]
    },
    {
     "name": "stdout",
     "output_type": "stream",
     "text": [
      "Number of molecules:\n",
      "point \t 6750\n",
      "\n",
      "Filling system:\n"
     ]
    },
    {
     "name": "stderr",
     "output_type": "stream",
     "text": [
      "100%|██████████| 6750/6750 [00:02<00:00, 3324.11it/s] \n",
      "mkdir: synthetic/180: File exists\n",
      "mkdir: synthetic/180/roll: File exists\n"
     ]
    },
    {
     "name": "stdout",
     "output_type": "stream",
     "text": [
      "Number of molecules:\n",
      "point \t 6750\n",
      "\n",
      "Filling system:\n"
     ]
    },
    {
     "name": "stderr",
     "output_type": "stream",
     "text": [
      "100%|██████████| 6750/6750 [00:02<00:00, 3286.21it/s] \n",
      "mkdir: synthetic/180: File exists\n",
      "mkdir: synthetic/180/roll: File exists\n"
     ]
    },
    {
     "name": "stdout",
     "output_type": "stream",
     "text": [
      "Number of molecules:\n",
      "point \t 16200\n",
      "\n",
      "Filling system:\n"
     ]
    },
    {
     "name": "stderr",
     "output_type": "stream",
     "text": [
      "100%|██████████| 16200/16200 [00:10<00:00, 1580.32it/s]\n",
      "mkdir: synthetic/180: File exists\n",
      "mkdir: synthetic/180/perforation: File exists\n"
     ]
    },
    {
     "name": "stdout",
     "output_type": "stream",
     "text": [
      "Number of molecules:\n",
      "point \t 16200\n",
      "\n",
      "Filling system:\n"
     ]
    },
    {
     "name": "stderr",
     "output_type": "stream",
     "text": [
      "100%|██████████| 16200/16200 [00:10<00:00, 1538.73it/s]\n",
      "mkdir: synthetic/180: File exists\n",
      "mkdir: synthetic/180/perforation: File exists\n"
     ]
    },
    {
     "name": "stdout",
     "output_type": "stream",
     "text": [
      "Number of molecules:\n",
      "point \t 16200\n",
      "\n",
      "Filling system:\n"
     ]
    },
    {
     "name": "stderr",
     "output_type": "stream",
     "text": [
      "100%|██████████| 16200/16200 [00:10<00:00, 1588.25it/s]\n",
      "mkdir: synthetic/180: File exists\n",
      "mkdir: synthetic/180/perforation: File exists\n"
     ]
    },
    {
     "name": "stdout",
     "output_type": "stream",
     "text": [
      "Number of molecules:\n",
      "point \t 16200\n",
      "\n",
      "Filling system:\n"
     ]
    },
    {
     "name": "stderr",
     "output_type": "stream",
     "text": [
      "100%|██████████| 16200/16200 [00:10<00:00, 1560.15it/s]\n",
      "mkdir: synthetic/180: File exists\n",
      "mkdir: synthetic/180/perforation: File exists\n"
     ]
    },
    {
     "name": "stdout",
     "output_type": "stream",
     "text": [
      "Number of molecules:\n",
      "point \t 16200\n",
      "\n",
      "Filling system:\n"
     ]
    },
    {
     "name": "stderr",
     "output_type": "stream",
     "text": [
      "100%|██████████| 16200/16200 [00:10<00:00, 1528.81it/s]\n",
      "mkdir: synthetic/180: File exists\n",
      "mkdir: synthetic/180/perforation: File exists\n"
     ]
    },
    {
     "name": "stdout",
     "output_type": "stream",
     "text": [
      "Number of molecules:\n",
      "point \t 16200\n",
      "\n",
      "Filling system:\n"
     ]
    },
    {
     "name": "stderr",
     "output_type": "stream",
     "text": [
      "100%|██████████| 16200/16200 [00:10<00:00, 1522.99it/s]\n",
      "mkdir: synthetic/180: File exists\n",
      "mkdir: synthetic/180/perforation: File exists\n"
     ]
    },
    {
     "name": "stdout",
     "output_type": "stream",
     "text": [
      "Number of molecules:\n",
      "point \t 16200\n",
      "\n",
      "Filling system:\n"
     ]
    },
    {
     "name": "stderr",
     "output_type": "stream",
     "text": [
      "100%|██████████| 16200/16200 [00:10<00:00, 1521.76it/s]\n",
      "mkdir: synthetic/180: File exists\n",
      "mkdir: synthetic/180/perforation: File exists\n"
     ]
    },
    {
     "name": "stdout",
     "output_type": "stream",
     "text": [
      "Number of molecules:\n",
      "point \t 16200\n",
      "\n",
      "Filling system:\n"
     ]
    },
    {
     "name": "stderr",
     "output_type": "stream",
     "text": [
      "100%|██████████| 16200/16200 [00:10<00:00, 1503.78it/s]\n",
      "mkdir: synthetic/180: File exists\n",
      "mkdir: synthetic/180/perforation: File exists\n"
     ]
    },
    {
     "name": "stdout",
     "output_type": "stream",
     "text": [
      "Number of molecules:\n",
      "point \t 16200\n",
      "\n",
      "Filling system:\n"
     ]
    },
    {
     "name": "stderr",
     "output_type": "stream",
     "text": [
      "100%|██████████| 16200/16200 [00:10<00:00, 1538.60it/s]\n",
      "mkdir: synthetic/180: File exists\n",
      "mkdir: synthetic/180/perforation: File exists\n"
     ]
    },
    {
     "name": "stdout",
     "output_type": "stream",
     "text": [
      "Number of molecules:\n",
      "point \t 16200\n",
      "\n",
      "Filling system:\n"
     ]
    },
    {
     "name": "stderr",
     "output_type": "stream",
     "text": [
      "100%|██████████| 16200/16200 [00:10<00:00, 1522.64it/s]\n",
      "mkdir: synthetic/180: File exists\n",
      "mkdir: synthetic/180/perforation: File exists\n"
     ]
    },
    {
     "name": "stdout",
     "output_type": "stream",
     "text": [
      "Number of molecules:\n",
      "point \t 2025\n",
      "\n",
      "Filling system:\n"
     ]
    },
    {
     "name": "stderr",
     "output_type": "stream",
     "text": [
      "100%|██████████| 2025/2025 [00:00<00:00, 7405.75it/s] \n",
      "mkdir: synthetic/170: File exists\n",
      "mkdir: synthetic/170/droplet: File exists\n"
     ]
    },
    {
     "name": "stdout",
     "output_type": "stream",
     "text": [
      "Number of molecules:\n",
      "point \t 2025\n",
      "\n",
      "Filling system:\n"
     ]
    },
    {
     "name": "stderr",
     "output_type": "stream",
     "text": [
      "100%|██████████| 2025/2025 [00:00<00:00, 7328.06it/s] \n",
      "mkdir: synthetic/170: File exists\n",
      "mkdir: synthetic/170/droplet: File exists\n"
     ]
    },
    {
     "name": "stdout",
     "output_type": "stream",
     "text": [
      "Number of molecules:\n",
      "point \t 2025\n",
      "\n",
      "Filling system:\n"
     ]
    },
    {
     "name": "stderr",
     "output_type": "stream",
     "text": [
      "100%|██████████| 2025/2025 [00:00<00:00, 7329.76it/s] \n",
      "mkdir: synthetic/170: File exists\n",
      "mkdir: synthetic/170/droplet: File exists\n"
     ]
    },
    {
     "name": "stdout",
     "output_type": "stream",
     "text": [
      "Number of molecules:\n",
      "point \t 2025\n",
      "\n",
      "Filling system:\n"
     ]
    },
    {
     "name": "stderr",
     "output_type": "stream",
     "text": [
      "100%|██████████| 2025/2025 [00:00<00:00, 7257.39it/s] \n",
      "mkdir: synthetic/170: File exists\n",
      "mkdir: synthetic/170/droplet: File exists\n"
     ]
    },
    {
     "name": "stdout",
     "output_type": "stream",
     "text": [
      "Number of molecules:\n",
      "point \t 2025\n",
      "\n",
      "Filling system:\n"
     ]
    },
    {
     "name": "stderr",
     "output_type": "stream",
     "text": [
      "100%|██████████| 2025/2025 [00:00<00:00, 6825.20it/s]\n",
      "mkdir: synthetic/170: File exists\n",
      "mkdir: synthetic/170/droplet: File exists\n"
     ]
    },
    {
     "name": "stdout",
     "output_type": "stream",
     "text": [
      "Number of molecules:\n",
      "point \t 2025\n",
      "\n",
      "Filling system:\n"
     ]
    },
    {
     "name": "stderr",
     "output_type": "stream",
     "text": [
      "100%|██████████| 2025/2025 [00:00<00:00, 7297.50it/s] \n",
      "mkdir: synthetic/170: File exists\n",
      "mkdir: synthetic/170/droplet: File exists\n"
     ]
    },
    {
     "name": "stdout",
     "output_type": "stream",
     "text": [
      "Number of molecules:\n",
      "point \t 2025\n",
      "\n",
      "Filling system:\n"
     ]
    },
    {
     "name": "stderr",
     "output_type": "stream",
     "text": [
      "100%|██████████| 2025/2025 [00:00<00:00, 7358.38it/s] \n",
      "mkdir: synthetic/170: File exists\n",
      "mkdir: synthetic/170/droplet: File exists\n"
     ]
    },
    {
     "name": "stdout",
     "output_type": "stream",
     "text": [
      "Number of molecules:\n",
      "point \t 2025\n",
      "\n",
      "Filling system:\n"
     ]
    },
    {
     "name": "stderr",
     "output_type": "stream",
     "text": [
      "100%|██████████| 2025/2025 [00:00<00:00, 7208.67it/s] \n",
      "mkdir: synthetic/170: File exists\n",
      "mkdir: synthetic/170/droplet: File exists\n"
     ]
    },
    {
     "name": "stdout",
     "output_type": "stream",
     "text": [
      "Number of molecules:\n",
      "point \t 2025\n",
      "\n",
      "Filling system:\n"
     ]
    },
    {
     "name": "stderr",
     "output_type": "stream",
     "text": [
      "100%|██████████| 2025/2025 [00:00<00:00, 7314.32it/s] \n",
      "mkdir: synthetic/170: File exists\n",
      "mkdir: synthetic/170/droplet: File exists\n"
     ]
    },
    {
     "name": "stdout",
     "output_type": "stream",
     "text": [
      "Number of molecules:\n",
      "point \t 2025\n",
      "\n",
      "Filling system:\n"
     ]
    },
    {
     "name": "stderr",
     "output_type": "stream",
     "text": [
      "100%|██████████| 2025/2025 [00:00<00:00, 7332.68it/s] \n",
      "mkdir: synthetic/170: File exists\n",
      "mkdir: synthetic/170/droplet: File exists\n"
     ]
    },
    {
     "name": "stdout",
     "output_type": "stream",
     "text": [
      "Number of molecules:\n",
      "point \t 4050\n",
      "\n",
      "Filling system:\n"
     ]
    },
    {
     "name": "stderr",
     "output_type": "stream",
     "text": [
      "100%|██████████| 4050/4050 [00:00<00:00, 4458.40it/s]\n",
      "mkdir: synthetic/170: File exists\n",
      "mkdir: synthetic/170/doughnut: File exists\n"
     ]
    },
    {
     "name": "stdout",
     "output_type": "stream",
     "text": [
      "Number of molecules:\n",
      "point \t 4050\n",
      "\n",
      "Filling system:\n"
     ]
    },
    {
     "name": "stderr",
     "output_type": "stream",
     "text": [
      "100%|██████████| 4050/4050 [00:00<00:00, 4367.07it/s]\n",
      "mkdir: synthetic/170: File exists\n",
      "mkdir: synthetic/170/doughnut: File exists\n"
     ]
    },
    {
     "name": "stdout",
     "output_type": "stream",
     "text": [
      "Number of molecules:\n",
      "point \t 4050\n",
      "\n",
      "Filling system:\n"
     ]
    },
    {
     "name": "stderr",
     "output_type": "stream",
     "text": [
      "100%|██████████| 4050/4050 [00:00<00:00, 4356.18it/s]\n",
      "mkdir: synthetic/170: File exists\n",
      "mkdir: synthetic/170/doughnut: File exists\n"
     ]
    },
    {
     "name": "stdout",
     "output_type": "stream",
     "text": [
      "Number of molecules:\n",
      "point \t 4050\n",
      "\n",
      "Filling system:\n"
     ]
    },
    {
     "name": "stderr",
     "output_type": "stream",
     "text": [
      "100%|██████████| 4050/4050 [00:00<00:00, 4395.01it/s]\n",
      "mkdir: synthetic/170: File exists\n",
      "mkdir: synthetic/170/doughnut: File exists\n"
     ]
    },
    {
     "name": "stdout",
     "output_type": "stream",
     "text": [
      "Number of molecules:\n",
      "point \t 4050\n",
      "\n",
      "Filling system:\n"
     ]
    },
    {
     "name": "stderr",
     "output_type": "stream",
     "text": [
      "100%|██████████| 4050/4050 [00:00<00:00, 4380.26it/s]\n",
      "mkdir: synthetic/170: File exists\n",
      "mkdir: synthetic/170/doughnut: File exists\n"
     ]
    },
    {
     "name": "stdout",
     "output_type": "stream",
     "text": [
      "Number of molecules:\n",
      "point \t 4050\n",
      "\n",
      "Filling system:\n"
     ]
    },
    {
     "name": "stderr",
     "output_type": "stream",
     "text": [
      "100%|██████████| 4050/4050 [00:00<00:00, 4424.85it/s]\n",
      "mkdir: synthetic/170: File exists\n",
      "mkdir: synthetic/170/doughnut: File exists\n"
     ]
    },
    {
     "name": "stdout",
     "output_type": "stream",
     "text": [
      "Number of molecules:\n",
      "point \t 4050\n",
      "\n",
      "Filling system:\n"
     ]
    },
    {
     "name": "stderr",
     "output_type": "stream",
     "text": [
      "100%|██████████| 4050/4050 [00:00<00:00, 4341.98it/s]\n",
      "mkdir: synthetic/170: File exists\n",
      "mkdir: synthetic/170/doughnut: File exists\n"
     ]
    },
    {
     "name": "stdout",
     "output_type": "stream",
     "text": [
      "Number of molecules:\n",
      "point \t 4050\n",
      "\n",
      "Filling system:\n"
     ]
    },
    {
     "name": "stderr",
     "output_type": "stream",
     "text": [
      "100%|██████████| 4050/4050 [00:00<00:00, 4336.77it/s]\n",
      "mkdir: synthetic/170: File exists\n",
      "mkdir: synthetic/170/doughnut: File exists\n"
     ]
    },
    {
     "name": "stdout",
     "output_type": "stream",
     "text": [
      "Number of molecules:\n",
      "point \t 4050\n",
      "\n",
      "Filling system:\n"
     ]
    },
    {
     "name": "stderr",
     "output_type": "stream",
     "text": [
      "100%|██████████| 4050/4050 [00:00<00:00, 4408.39it/s]\n",
      "mkdir: synthetic/170: File exists\n",
      "mkdir: synthetic/170/doughnut: File exists\n"
     ]
    },
    {
     "name": "stdout",
     "output_type": "stream",
     "text": [
      "Number of molecules:\n",
      "point \t 4050\n",
      "\n",
      "Filling system:\n"
     ]
    },
    {
     "name": "stderr",
     "output_type": "stream",
     "text": [
      "100%|██████████| 4050/4050 [00:00<00:00, 4431.50it/s]\n",
      "mkdir: synthetic/170: File exists\n",
      "mkdir: synthetic/170/doughnut: File exists\n"
     ]
    },
    {
     "name": "stdout",
     "output_type": "stream",
     "text": [
      "Number of molecules:\n",
      "point \t 6075\n",
      "\n",
      "Filling system:\n"
     ]
    },
    {
     "name": "stderr",
     "output_type": "stream",
     "text": [
      "100%|██████████| 6075/6075 [00:01<00:00, 3647.98it/s] \n",
      "mkdir: synthetic/170: File exists\n",
      "mkdir: synthetic/170/worm: File exists\n"
     ]
    },
    {
     "name": "stdout",
     "output_type": "stream",
     "text": [
      "Number of molecules:\n",
      "point \t 6075\n",
      "\n",
      "Filling system:\n"
     ]
    },
    {
     "name": "stderr",
     "output_type": "stream",
     "text": [
      "100%|██████████| 6075/6075 [00:01<00:00, 3639.72it/s] \n",
      "mkdir: synthetic/170: File exists\n",
      "mkdir: synthetic/170/worm: File exists\n"
     ]
    },
    {
     "name": "stdout",
     "output_type": "stream",
     "text": [
      "Number of molecules:\n",
      "point \t 6075\n",
      "\n",
      "Filling system:\n"
     ]
    },
    {
     "name": "stderr",
     "output_type": "stream",
     "text": [
      "100%|██████████| 6075/6075 [00:01<00:00, 3576.12it/s] \n",
      "mkdir: synthetic/170: File exists\n",
      "mkdir: synthetic/170/worm: File exists\n"
     ]
    },
    {
     "name": "stdout",
     "output_type": "stream",
     "text": [
      "Number of molecules:\n",
      "point \t 6075\n",
      "\n",
      "Filling system:\n"
     ]
    },
    {
     "name": "stderr",
     "output_type": "stream",
     "text": [
      "100%|██████████| 6075/6075 [00:01<00:00, 3636.16it/s] \n",
      "mkdir: synthetic/170: File exists\n",
      "mkdir: synthetic/170/worm: File exists\n"
     ]
    },
    {
     "name": "stdout",
     "output_type": "stream",
     "text": [
      "Number of molecules:\n",
      "point \t 6075\n",
      "\n",
      "Filling system:\n"
     ]
    },
    {
     "name": "stderr",
     "output_type": "stream",
     "text": [
      "100%|██████████| 6075/6075 [00:01<00:00, 3628.50it/s] \n",
      "mkdir: synthetic/170: File exists\n",
      "mkdir: synthetic/170/worm: File exists\n"
     ]
    },
    {
     "name": "stdout",
     "output_type": "stream",
     "text": [
      "Number of molecules:\n",
      "point \t 6075\n",
      "\n",
      "Filling system:\n"
     ]
    },
    {
     "name": "stderr",
     "output_type": "stream",
     "text": [
      "100%|██████████| 6075/6075 [00:01<00:00, 3512.90it/s] \n",
      "mkdir: synthetic/170: File exists\n",
      "mkdir: synthetic/170/worm: File exists\n"
     ]
    },
    {
     "name": "stdout",
     "output_type": "stream",
     "text": [
      "Number of molecules:\n",
      "point \t 6075\n",
      "\n",
      "Filling system:\n"
     ]
    },
    {
     "name": "stderr",
     "output_type": "stream",
     "text": [
      "100%|██████████| 6075/6075 [00:01<00:00, 3627.55it/s] \n",
      "mkdir: synthetic/170: File exists\n",
      "mkdir: synthetic/170/worm: File exists\n"
     ]
    },
    {
     "name": "stdout",
     "output_type": "stream",
     "text": [
      "Number of molecules:\n",
      "point \t 6075\n",
      "\n",
      "Filling system:\n"
     ]
    },
    {
     "name": "stderr",
     "output_type": "stream",
     "text": [
      "100%|██████████| 6075/6075 [00:01<00:00, 3587.08it/s] \n",
      "mkdir: synthetic/170: File exists\n",
      "mkdir: synthetic/170/worm: File exists\n"
     ]
    },
    {
     "name": "stdout",
     "output_type": "stream",
     "text": [
      "Number of molecules:\n",
      "point \t 6075\n",
      "\n",
      "Filling system:\n"
     ]
    },
    {
     "name": "stderr",
     "output_type": "stream",
     "text": [
      "100%|██████████| 6075/6075 [00:01<00:00, 3604.78it/s] \n",
      "mkdir: synthetic/170: File exists\n",
      "mkdir: synthetic/170/worm: File exists\n"
     ]
    },
    {
     "name": "stdout",
     "output_type": "stream",
     "text": [
      "Number of molecules:\n",
      "point \t 6075\n",
      "\n",
      "Filling system:\n"
     ]
    },
    {
     "name": "stderr",
     "output_type": "stream",
     "text": [
      "100%|██████████| 6075/6075 [00:01<00:00, 3556.28it/s] \n",
      "mkdir: synthetic/170: File exists\n",
      "mkdir: synthetic/170/worm: File exists\n"
     ]
    },
    {
     "name": "stdout",
     "output_type": "stream",
     "text": [
      "Number of molecules:\n",
      "point \t 6750\n",
      "\n",
      "Filling system:\n"
     ]
    },
    {
     "name": "stderr",
     "output_type": "stream",
     "text": [
      "100%|██████████| 6750/6750 [00:02<00:00, 3209.33it/s] \n",
      "mkdir: synthetic/170: File exists\n",
      "mkdir: synthetic/170/roll: File exists\n"
     ]
    },
    {
     "name": "stdout",
     "output_type": "stream",
     "text": [
      "Number of molecules:\n",
      "point \t 6750\n",
      "\n",
      "Filling system:\n"
     ]
    },
    {
     "name": "stderr",
     "output_type": "stream",
     "text": [
      "100%|██████████| 6750/6750 [00:02<00:00, 3294.30it/s] \n",
      "mkdir: synthetic/170: File exists\n",
      "mkdir: synthetic/170/roll: File exists\n"
     ]
    },
    {
     "name": "stdout",
     "output_type": "stream",
     "text": [
      "Number of molecules:\n",
      "point \t 6750\n",
      "\n",
      "Filling system:\n"
     ]
    },
    {
     "name": "stderr",
     "output_type": "stream",
     "text": [
      "100%|██████████| 6750/6750 [00:02<00:00, 3271.99it/s] \n",
      "mkdir: synthetic/170: File exists\n",
      "mkdir: synthetic/170/roll: File exists\n"
     ]
    },
    {
     "name": "stdout",
     "output_type": "stream",
     "text": [
      "Number of molecules:\n",
      "point \t 6750\n",
      "\n",
      "Filling system:\n"
     ]
    },
    {
     "name": "stderr",
     "output_type": "stream",
     "text": [
      "100%|██████████| 6750/6750 [00:02<00:00, 3262.21it/s] \n",
      "mkdir: synthetic/170: File exists\n",
      "mkdir: synthetic/170/roll: File exists\n"
     ]
    },
    {
     "name": "stdout",
     "output_type": "stream",
     "text": [
      "Number of molecules:\n",
      "point \t 6750\n",
      "\n",
      "Filling system:\n"
     ]
    },
    {
     "name": "stderr",
     "output_type": "stream",
     "text": [
      "100%|██████████| 6750/6750 [00:02<00:00, 3191.47it/s] \n",
      "mkdir: synthetic/170: File exists\n",
      "mkdir: synthetic/170/roll: File exists\n"
     ]
    },
    {
     "name": "stdout",
     "output_type": "stream",
     "text": [
      "Number of molecules:\n",
      "point \t 6750\n",
      "\n",
      "Filling system:\n"
     ]
    },
    {
     "name": "stderr",
     "output_type": "stream",
     "text": [
      "100%|██████████| 6750/6750 [00:02<00:00, 3232.11it/s] \n",
      "mkdir: synthetic/170: File exists\n",
      "mkdir: synthetic/170/roll: File exists\n"
     ]
    },
    {
     "name": "stdout",
     "output_type": "stream",
     "text": [
      "Number of molecules:\n",
      "point \t 6750\n",
      "\n",
      "Filling system:\n"
     ]
    },
    {
     "name": "stderr",
     "output_type": "stream",
     "text": [
      "100%|██████████| 6750/6750 [00:02<00:00, 3235.54it/s] \n",
      "mkdir: synthetic/170: File exists\n",
      "mkdir: synthetic/170/roll: File exists\n"
     ]
    },
    {
     "name": "stdout",
     "output_type": "stream",
     "text": [
      "Number of molecules:\n",
      "point \t 6750\n",
      "\n",
      "Filling system:\n"
     ]
    },
    {
     "name": "stderr",
     "output_type": "stream",
     "text": [
      "100%|██████████| 6750/6750 [00:02<00:00, 3217.37it/s] \n",
      "mkdir: synthetic/170: File exists\n",
      "mkdir: synthetic/170/roll: File exists\n"
     ]
    },
    {
     "name": "stdout",
     "output_type": "stream",
     "text": [
      "Number of molecules:\n",
      "point \t 6750\n",
      "\n",
      "Filling system:\n"
     ]
    },
    {
     "name": "stderr",
     "output_type": "stream",
     "text": [
      "100%|██████████| 6750/6750 [00:02<00:00, 3318.98it/s] \n",
      "mkdir: synthetic/170: File exists\n",
      "mkdir: synthetic/170/roll: File exists\n"
     ]
    },
    {
     "name": "stdout",
     "output_type": "stream",
     "text": [
      "Number of molecules:\n",
      "point \t 6750\n",
      "\n",
      "Filling system:\n"
     ]
    },
    {
     "name": "stderr",
     "output_type": "stream",
     "text": [
      "100%|██████████| 6750/6750 [00:02<00:00, 3322.53it/s] \n",
      "mkdir: synthetic/170: File exists\n",
      "mkdir: synthetic/170/roll: File exists\n"
     ]
    },
    {
     "name": "stdout",
     "output_type": "stream",
     "text": [
      "Number of molecules:\n",
      "point \t 16200\n",
      "\n",
      "Filling system:\n"
     ]
    },
    {
     "name": "stderr",
     "output_type": "stream",
     "text": [
      "100%|██████████| 16200/16200 [00:10<00:00, 1515.18it/s]\n",
      "mkdir: synthetic/170: File exists\n",
      "mkdir: synthetic/170/perforation: File exists\n"
     ]
    },
    {
     "name": "stdout",
     "output_type": "stream",
     "text": [
      "Number of molecules:\n",
      "point \t 16200\n",
      "\n",
      "Filling system:\n"
     ]
    },
    {
     "name": "stderr",
     "output_type": "stream",
     "text": [
      "100%|██████████| 16200/16200 [00:10<00:00, 1545.85it/s]\n",
      "mkdir: synthetic/170: File exists\n",
      "mkdir: synthetic/170/perforation: File exists\n"
     ]
    },
    {
     "name": "stdout",
     "output_type": "stream",
     "text": [
      "Number of molecules:\n",
      "point \t 16200\n",
      "\n",
      "Filling system:\n"
     ]
    },
    {
     "name": "stderr",
     "output_type": "stream",
     "text": [
      "100%|██████████| 16200/16200 [00:10<00:00, 1542.58it/s]\n",
      "mkdir: synthetic/170: File exists\n",
      "mkdir: synthetic/170/perforation: File exists\n"
     ]
    },
    {
     "name": "stdout",
     "output_type": "stream",
     "text": [
      "Number of molecules:\n",
      "point \t 16200\n",
      "\n",
      "Filling system:\n"
     ]
    },
    {
     "name": "stderr",
     "output_type": "stream",
     "text": [
      "100%|██████████| 16200/16200 [00:10<00:00, 1539.66it/s]\n",
      "mkdir: synthetic/170: File exists\n",
      "mkdir: synthetic/170/perforation: File exists\n"
     ]
    },
    {
     "name": "stdout",
     "output_type": "stream",
     "text": [
      "Number of molecules:\n",
      "point \t 16200\n",
      "\n",
      "Filling system:\n"
     ]
    },
    {
     "name": "stderr",
     "output_type": "stream",
     "text": [
      "100%|██████████| 16200/16200 [00:10<00:00, 1535.86it/s]\n",
      "mkdir: synthetic/170: File exists\n",
      "mkdir: synthetic/170/perforation: File exists\n"
     ]
    },
    {
     "name": "stdout",
     "output_type": "stream",
     "text": [
      "Number of molecules:\n",
      "point \t 16200\n",
      "\n",
      "Filling system:\n"
     ]
    },
    {
     "name": "stderr",
     "output_type": "stream",
     "text": [
      "100%|██████████| 16200/16200 [00:10<00:00, 1542.85it/s]\n",
      "mkdir: synthetic/170: File exists\n",
      "mkdir: synthetic/170/perforation: File exists\n"
     ]
    },
    {
     "name": "stdout",
     "output_type": "stream",
     "text": [
      "Number of molecules:\n",
      "point \t 16200\n",
      "\n",
      "Filling system:\n"
     ]
    },
    {
     "name": "stderr",
     "output_type": "stream",
     "text": [
      "100%|██████████| 16200/16200 [00:10<00:00, 1511.66it/s]\n",
      "mkdir: synthetic/170: File exists\n",
      "mkdir: synthetic/170/perforation: File exists\n"
     ]
    },
    {
     "name": "stdout",
     "output_type": "stream",
     "text": [
      "Number of molecules:\n",
      "point \t 16200\n",
      "\n",
      "Filling system:\n"
     ]
    },
    {
     "name": "stderr",
     "output_type": "stream",
     "text": [
      "100%|██████████| 16200/16200 [00:10<00:00, 1537.15it/s]\n",
      "mkdir: synthetic/170: File exists\n",
      "mkdir: synthetic/170/perforation: File exists\n"
     ]
    },
    {
     "name": "stdout",
     "output_type": "stream",
     "text": [
      "Number of molecules:\n",
      "point \t 16200\n",
      "\n",
      "Filling system:\n"
     ]
    },
    {
     "name": "stderr",
     "output_type": "stream",
     "text": [
      "100%|██████████| 16200/16200 [00:10<00:00, 1539.32it/s]\n",
      "mkdir: synthetic/170: File exists\n",
      "mkdir: synthetic/170/perforation: File exists\n"
     ]
    },
    {
     "name": "stdout",
     "output_type": "stream",
     "text": [
      "Number of molecules:\n",
      "point \t 16200\n",
      "\n",
      "Filling system:\n"
     ]
    },
    {
     "name": "stderr",
     "output_type": "stream",
     "text": [
      "100%|██████████| 16200/16200 [00:10<00:00, 1517.11it/s]\n",
      "mkdir: synthetic/170: File exists\n",
      "mkdir: synthetic/170/perforation: File exists\n"
     ]
    },
    {
     "name": "stdout",
     "output_type": "stream",
     "text": [
      "Number of molecules:\n",
      "point \t 2025\n",
      "\n",
      "Filling system:\n"
     ]
    },
    {
     "name": "stderr",
     "output_type": "stream",
     "text": [
      "100%|██████████| 2025/2025 [00:00<00:00, 7388.49it/s] \n",
      "mkdir: synthetic/160: File exists\n",
      "mkdir: synthetic/160/droplet: File exists\n"
     ]
    },
    {
     "name": "stdout",
     "output_type": "stream",
     "text": [
      "Number of molecules:\n",
      "point \t 2025\n",
      "\n",
      "Filling system:\n"
     ]
    },
    {
     "name": "stderr",
     "output_type": "stream",
     "text": [
      "100%|██████████| 2025/2025 [00:00<00:00, 6920.41it/s]\n",
      "mkdir: synthetic/160: File exists\n",
      "mkdir: synthetic/160/droplet: File exists\n"
     ]
    },
    {
     "name": "stdout",
     "output_type": "stream",
     "text": [
      "Number of molecules:\n",
      "point \t 2025\n",
      "\n",
      "Filling system:\n"
     ]
    },
    {
     "name": "stderr",
     "output_type": "stream",
     "text": [
      "100%|██████████| 2025/2025 [00:00<00:00, 7398.53it/s] \n",
      "mkdir: synthetic/160: File exists\n",
      "mkdir: synthetic/160/droplet: File exists\n"
     ]
    },
    {
     "name": "stdout",
     "output_type": "stream",
     "text": [
      "Number of molecules:\n",
      "point \t 2025\n",
      "\n",
      "Filling system:\n"
     ]
    },
    {
     "name": "stderr",
     "output_type": "stream",
     "text": [
      "100%|██████████| 2025/2025 [00:00<00:00, 7322.13it/s] \n",
      "mkdir: synthetic/160: File exists\n",
      "mkdir: synthetic/160/droplet: File exists\n"
     ]
    },
    {
     "name": "stdout",
     "output_type": "stream",
     "text": [
      "Number of molecules:\n",
      "point \t 2025\n",
      "\n",
      "Filling system:\n"
     ]
    },
    {
     "name": "stderr",
     "output_type": "stream",
     "text": [
      "100%|██████████| 2025/2025 [00:00<00:00, 7253.67it/s] \n",
      "mkdir: synthetic/160: File exists\n",
      "mkdir: synthetic/160/droplet: File exists\n"
     ]
    },
    {
     "name": "stdout",
     "output_type": "stream",
     "text": [
      "Number of molecules:\n",
      "point \t 2025\n",
      "\n",
      "Filling system:\n"
     ]
    },
    {
     "name": "stderr",
     "output_type": "stream",
     "text": [
      "100%|██████████| 2025/2025 [00:00<00:00, 7295.32it/s] \n",
      "mkdir: synthetic/160: File exists\n",
      "mkdir: synthetic/160/droplet: File exists\n"
     ]
    },
    {
     "name": "stdout",
     "output_type": "stream",
     "text": [
      "Number of molecules:\n",
      "point \t 2025\n",
      "\n",
      "Filling system:\n"
     ]
    },
    {
     "name": "stderr",
     "output_type": "stream",
     "text": [
      "100%|██████████| 2025/2025 [00:00<00:00, 7443.89it/s] \n",
      "mkdir: synthetic/160: File exists\n",
      "mkdir: synthetic/160/droplet: File exists\n"
     ]
    },
    {
     "name": "stdout",
     "output_type": "stream",
     "text": [
      "Number of molecules:\n",
      "point \t 2025\n",
      "\n",
      "Filling system:\n"
     ]
    },
    {
     "name": "stderr",
     "output_type": "stream",
     "text": [
      "100%|██████████| 2025/2025 [00:00<00:00, 7249.23it/s] \n",
      "mkdir: synthetic/160: File exists\n",
      "mkdir: synthetic/160/droplet: File exists\n"
     ]
    },
    {
     "name": "stdout",
     "output_type": "stream",
     "text": [
      "Number of molecules:\n",
      "point \t 2025\n",
      "\n",
      "Filling system:\n"
     ]
    },
    {
     "name": "stderr",
     "output_type": "stream",
     "text": [
      "100%|██████████| 2025/2025 [00:00<00:00, 7344.54it/s] \n",
      "mkdir: synthetic/160: File exists\n",
      "mkdir: synthetic/160/droplet: File exists\n"
     ]
    },
    {
     "name": "stdout",
     "output_type": "stream",
     "text": [
      "Number of molecules:\n",
      "point \t 2025\n",
      "\n",
      "Filling system:\n"
     ]
    },
    {
     "name": "stderr",
     "output_type": "stream",
     "text": [
      "100%|██████████| 2025/2025 [00:00<00:00, 7294.25it/s] \n",
      "mkdir: synthetic/160: File exists\n",
      "mkdir: synthetic/160/droplet: File exists\n"
     ]
    },
    {
     "name": "stdout",
     "output_type": "stream",
     "text": [
      "Number of molecules:\n",
      "point \t 4050\n",
      "\n",
      "Filling system:\n"
     ]
    },
    {
     "name": "stderr",
     "output_type": "stream",
     "text": [
      "100%|██████████| 4050/4050 [00:00<00:00, 4464.47it/s]\n",
      "mkdir: synthetic/160: File exists\n",
      "mkdir: synthetic/160/doughnut: File exists\n"
     ]
    },
    {
     "name": "stdout",
     "output_type": "stream",
     "text": [
      "Number of molecules:\n",
      "point \t 4050\n",
      "\n",
      "Filling system:\n"
     ]
    },
    {
     "name": "stderr",
     "output_type": "stream",
     "text": [
      "100%|██████████| 4050/4050 [00:00<00:00, 4380.74it/s]\n",
      "mkdir: synthetic/160: File exists\n",
      "mkdir: synthetic/160/doughnut: File exists\n"
     ]
    },
    {
     "name": "stdout",
     "output_type": "stream",
     "text": [
      "Number of molecules:\n",
      "point \t 4050\n",
      "\n",
      "Filling system:\n"
     ]
    },
    {
     "name": "stderr",
     "output_type": "stream",
     "text": [
      "100%|██████████| 4050/4050 [00:00<00:00, 4365.86it/s]\n",
      "mkdir: synthetic/160: File exists\n",
      "mkdir: synthetic/160/doughnut: File exists\n"
     ]
    },
    {
     "name": "stdout",
     "output_type": "stream",
     "text": [
      "Number of molecules:\n",
      "point \t 4050\n",
      "\n",
      "Filling system:\n"
     ]
    },
    {
     "name": "stderr",
     "output_type": "stream",
     "text": [
      "100%|██████████| 4050/4050 [00:00<00:00, 4425.36it/s]\n",
      "mkdir: synthetic/160: File exists\n",
      "mkdir: synthetic/160/doughnut: File exists\n"
     ]
    },
    {
     "name": "stdout",
     "output_type": "stream",
     "text": [
      "Number of molecules:\n",
      "point \t 4050\n",
      "\n",
      "Filling system:\n"
     ]
    },
    {
     "name": "stderr",
     "output_type": "stream",
     "text": [
      "100%|██████████| 4050/4050 [00:00<00:00, 4395.33it/s]\n",
      "mkdir: synthetic/160: File exists\n",
      "mkdir: synthetic/160/doughnut: File exists\n"
     ]
    },
    {
     "name": "stdout",
     "output_type": "stream",
     "text": [
      "Number of molecules:\n",
      "point \t 4050\n",
      "\n",
      "Filling system:\n"
     ]
    },
    {
     "name": "stderr",
     "output_type": "stream",
     "text": [
      "100%|██████████| 4050/4050 [00:00<00:00, 4416.61it/s]\n",
      "mkdir: synthetic/160: File exists\n",
      "mkdir: synthetic/160/doughnut: File exists\n"
     ]
    },
    {
     "name": "stdout",
     "output_type": "stream",
     "text": [
      "Number of molecules:\n",
      "point \t 4050\n",
      "\n",
      "Filling system:\n"
     ]
    },
    {
     "name": "stderr",
     "output_type": "stream",
     "text": [
      "100%|██████████| 4050/4050 [00:00<00:00, 4367.42it/s]\n",
      "mkdir: synthetic/160: File exists\n",
      "mkdir: synthetic/160/doughnut: File exists\n"
     ]
    },
    {
     "name": "stdout",
     "output_type": "stream",
     "text": [
      "Number of molecules:\n",
      "point \t 4050\n",
      "\n",
      "Filling system:\n"
     ]
    },
    {
     "name": "stderr",
     "output_type": "stream",
     "text": [
      "100%|██████████| 4050/4050 [00:00<00:00, 4346.32it/s]\n",
      "mkdir: synthetic/160: File exists\n",
      "mkdir: synthetic/160/doughnut: File exists\n"
     ]
    },
    {
     "name": "stdout",
     "output_type": "stream",
     "text": [
      "Number of molecules:\n",
      "point \t 4050\n",
      "\n",
      "Filling system:\n"
     ]
    },
    {
     "name": "stderr",
     "output_type": "stream",
     "text": [
      "100%|██████████| 4050/4050 [00:00<00:00, 4224.59it/s]\n",
      "mkdir: synthetic/160: File exists\n",
      "mkdir: synthetic/160/doughnut: File exists\n"
     ]
    },
    {
     "name": "stdout",
     "output_type": "stream",
     "text": [
      "Number of molecules:\n",
      "point \t 4050\n",
      "\n",
      "Filling system:\n"
     ]
    },
    {
     "name": "stderr",
     "output_type": "stream",
     "text": [
      "100%|██████████| 4050/4050 [00:00<00:00, 4438.98it/s]\n",
      "mkdir: synthetic/160: File exists\n",
      "mkdir: synthetic/160/doughnut: File exists\n"
     ]
    },
    {
     "name": "stdout",
     "output_type": "stream",
     "text": [
      "Number of molecules:\n",
      "point \t 6075\n",
      "\n",
      "Filling system:\n"
     ]
    },
    {
     "name": "stderr",
     "output_type": "stream",
     "text": [
      "100%|██████████| 6075/6075 [00:01<00:00, 3563.95it/s] \n",
      "mkdir: synthetic/160: File exists\n",
      "mkdir: synthetic/160/worm: File exists\n"
     ]
    },
    {
     "name": "stdout",
     "output_type": "stream",
     "text": [
      "Number of molecules:\n",
      "point \t 6075\n",
      "\n",
      "Filling system:\n"
     ]
    },
    {
     "name": "stderr",
     "output_type": "stream",
     "text": [
      "100%|██████████| 6075/6075 [00:01<00:00, 3548.86it/s] \n",
      "mkdir: synthetic/160: File exists\n",
      "mkdir: synthetic/160/worm: File exists\n"
     ]
    },
    {
     "name": "stdout",
     "output_type": "stream",
     "text": [
      "Number of molecules:\n",
      "point \t 6075\n",
      "\n",
      "Filling system:\n"
     ]
    },
    {
     "name": "stderr",
     "output_type": "stream",
     "text": [
      "100%|██████████| 6075/6075 [00:01<00:00, 3548.73it/s] \n",
      "mkdir: synthetic/160: File exists\n",
      "mkdir: synthetic/160/worm: File exists\n"
     ]
    },
    {
     "name": "stdout",
     "output_type": "stream",
     "text": [
      "Number of molecules:\n",
      "point \t 6075\n",
      "\n",
      "Filling system:\n"
     ]
    },
    {
     "name": "stderr",
     "output_type": "stream",
     "text": [
      "100%|██████████| 6075/6075 [00:01<00:00, 3394.85it/s] \n",
      "mkdir: synthetic/160: File exists\n",
      "mkdir: synthetic/160/worm: File exists\n"
     ]
    },
    {
     "name": "stdout",
     "output_type": "stream",
     "text": [
      "Number of molecules:\n",
      "point \t 6075\n",
      "\n",
      "Filling system:\n"
     ]
    },
    {
     "name": "stderr",
     "output_type": "stream",
     "text": [
      "100%|██████████| 6075/6075 [00:01<00:00, 3547.23it/s] \n",
      "mkdir: synthetic/160: File exists\n",
      "mkdir: synthetic/160/worm: File exists\n"
     ]
    },
    {
     "name": "stdout",
     "output_type": "stream",
     "text": [
      "Number of molecules:\n",
      "point \t 6075\n",
      "\n",
      "Filling system:\n"
     ]
    },
    {
     "name": "stderr",
     "output_type": "stream",
     "text": [
      "100%|██████████| 6075/6075 [00:01<00:00, 3604.31it/s] \n",
      "mkdir: synthetic/160: File exists\n",
      "mkdir: synthetic/160/worm: File exists\n"
     ]
    },
    {
     "name": "stdout",
     "output_type": "stream",
     "text": [
      "Number of molecules:\n",
      "point \t 6075\n",
      "\n",
      "Filling system:\n"
     ]
    },
    {
     "name": "stderr",
     "output_type": "stream",
     "text": [
      "100%|██████████| 6075/6075 [00:01<00:00, 3518.00it/s] \n",
      "mkdir: synthetic/160: File exists\n",
      "mkdir: synthetic/160/worm: File exists\n"
     ]
    },
    {
     "name": "stdout",
     "output_type": "stream",
     "text": [
      "Number of molecules:\n",
      "point \t 6075\n",
      "\n",
      "Filling system:\n"
     ]
    },
    {
     "name": "stderr",
     "output_type": "stream",
     "text": [
      "100%|██████████| 6075/6075 [00:01<00:00, 3577.89it/s] \n",
      "mkdir: synthetic/160: File exists\n",
      "mkdir: synthetic/160/worm: File exists\n"
     ]
    },
    {
     "name": "stdout",
     "output_type": "stream",
     "text": [
      "Number of molecules:\n",
      "point \t 6075\n",
      "\n",
      "Filling system:\n"
     ]
    },
    {
     "name": "stderr",
     "output_type": "stream",
     "text": [
      "100%|██████████| 6075/6075 [00:01<00:00, 3617.04it/s] \n",
      "mkdir: synthetic/160: File exists\n",
      "mkdir: synthetic/160/worm: File exists\n"
     ]
    },
    {
     "name": "stdout",
     "output_type": "stream",
     "text": [
      "Number of molecules:\n",
      "point \t 6075\n",
      "\n",
      "Filling system:\n"
     ]
    },
    {
     "name": "stderr",
     "output_type": "stream",
     "text": [
      "100%|██████████| 6075/6075 [00:01<00:00, 3611.62it/s] \n",
      "mkdir: synthetic/160: File exists\n",
      "mkdir: synthetic/160/worm: File exists\n"
     ]
    },
    {
     "name": "stdout",
     "output_type": "stream",
     "text": [
      "Number of molecules:\n",
      "point \t 6750\n",
      "\n",
      "Filling system:\n"
     ]
    },
    {
     "name": "stderr",
     "output_type": "stream",
     "text": [
      "100%|██████████| 6750/6750 [00:02<00:00, 3247.66it/s] \n",
      "mkdir: synthetic/160: File exists\n",
      "mkdir: synthetic/160/roll: File exists\n"
     ]
    },
    {
     "name": "stdout",
     "output_type": "stream",
     "text": [
      "Number of molecules:\n",
      "point \t 6750\n",
      "\n",
      "Filling system:\n"
     ]
    },
    {
     "name": "stderr",
     "output_type": "stream",
     "text": [
      "100%|██████████| 6750/6750 [00:02<00:00, 3225.61it/s] \n",
      "mkdir: synthetic/160: File exists\n",
      "mkdir: synthetic/160/roll: File exists\n"
     ]
    },
    {
     "name": "stdout",
     "output_type": "stream",
     "text": [
      "Number of molecules:\n",
      "point \t 6750\n",
      "\n",
      "Filling system:\n"
     ]
    },
    {
     "name": "stderr",
     "output_type": "stream",
     "text": [
      "100%|██████████| 6750/6750 [00:02<00:00, 3278.28it/s] \n",
      "mkdir: synthetic/160: File exists\n",
      "mkdir: synthetic/160/roll: File exists\n"
     ]
    },
    {
     "name": "stdout",
     "output_type": "stream",
     "text": [
      "Number of molecules:\n",
      "point \t 6750\n",
      "\n",
      "Filling system:\n"
     ]
    },
    {
     "name": "stderr",
     "output_type": "stream",
     "text": [
      "100%|██████████| 6750/6750 [00:02<00:00, 3240.13it/s] \n",
      "mkdir: synthetic/160: File exists\n",
      "mkdir: synthetic/160/roll: File exists\n"
     ]
    },
    {
     "name": "stdout",
     "output_type": "stream",
     "text": [
      "Number of molecules:\n",
      "point \t 6750\n",
      "\n",
      "Filling system:\n"
     ]
    },
    {
     "name": "stderr",
     "output_type": "stream",
     "text": [
      "100%|██████████| 6750/6750 [00:02<00:00, 3239.99it/s] \n",
      "mkdir: synthetic/160: File exists\n",
      "mkdir: synthetic/160/roll: File exists\n"
     ]
    },
    {
     "name": "stdout",
     "output_type": "stream",
     "text": [
      "Number of molecules:\n",
      "point \t 6750\n",
      "\n",
      "Filling system:\n"
     ]
    },
    {
     "name": "stderr",
     "output_type": "stream",
     "text": [
      "100%|██████████| 6750/6750 [00:02<00:00, 3233.73it/s] \n",
      "mkdir: synthetic/160: File exists\n",
      "mkdir: synthetic/160/roll: File exists\n"
     ]
    },
    {
     "name": "stdout",
     "output_type": "stream",
     "text": [
      "Number of molecules:\n",
      "point \t 6750\n",
      "\n",
      "Filling system:\n"
     ]
    },
    {
     "name": "stderr",
     "output_type": "stream",
     "text": [
      "100%|██████████| 6750/6750 [00:02<00:00, 3278.29it/s] \n",
      "mkdir: synthetic/160: File exists\n",
      "mkdir: synthetic/160/roll: File exists\n"
     ]
    },
    {
     "name": "stdout",
     "output_type": "stream",
     "text": [
      "Number of molecules:\n",
      "point \t 6750\n",
      "\n",
      "Filling system:\n"
     ]
    },
    {
     "name": "stderr",
     "output_type": "stream",
     "text": [
      "100%|██████████| 6750/6750 [00:02<00:00, 3217.82it/s] \n",
      "mkdir: synthetic/160: File exists\n",
      "mkdir: synthetic/160/roll: File exists\n"
     ]
    },
    {
     "name": "stdout",
     "output_type": "stream",
     "text": [
      "Number of molecules:\n",
      "point \t 6750\n",
      "\n",
      "Filling system:\n"
     ]
    },
    {
     "name": "stderr",
     "output_type": "stream",
     "text": [
      "100%|██████████| 6750/6750 [00:02<00:00, 3238.87it/s] \n",
      "mkdir: synthetic/160: File exists\n",
      "mkdir: synthetic/160/roll: File exists\n"
     ]
    },
    {
     "name": "stdout",
     "output_type": "stream",
     "text": [
      "Number of molecules:\n",
      "point \t 6750\n",
      "\n",
      "Filling system:\n"
     ]
    },
    {
     "name": "stderr",
     "output_type": "stream",
     "text": [
      "100%|██████████| 6750/6750 [00:02<00:00, 3209.80it/s] \n",
      "mkdir: synthetic/160: File exists\n",
      "mkdir: synthetic/160/roll: File exists\n"
     ]
    },
    {
     "name": "stdout",
     "output_type": "stream",
     "text": [
      "Number of molecules:\n",
      "point \t 16200\n",
      "\n",
      "Filling system:\n"
     ]
    },
    {
     "name": "stderr",
     "output_type": "stream",
     "text": [
      "100%|██████████| 16200/16200 [00:10<00:00, 1502.09it/s]\n",
      "mkdir: synthetic/160: File exists\n",
      "mkdir: synthetic/160/perforation: File exists\n"
     ]
    },
    {
     "name": "stdout",
     "output_type": "stream",
     "text": [
      "Number of molecules:\n",
      "point \t 16200\n",
      "\n",
      "Filling system:\n"
     ]
    },
    {
     "name": "stderr",
     "output_type": "stream",
     "text": [
      "100%|██████████| 16200/16200 [00:10<00:00, 1507.91it/s]\n",
      "mkdir: synthetic/160: File exists\n",
      "mkdir: synthetic/160/perforation: File exists\n"
     ]
    },
    {
     "name": "stdout",
     "output_type": "stream",
     "text": [
      "Number of molecules:\n",
      "point \t 16200\n",
      "\n",
      "Filling system:\n"
     ]
    },
    {
     "name": "stderr",
     "output_type": "stream",
     "text": [
      "100%|██████████| 16200/16200 [00:10<00:00, 1535.10it/s]\n",
      "mkdir: synthetic/160: File exists\n",
      "mkdir: synthetic/160/perforation: File exists\n"
     ]
    },
    {
     "name": "stdout",
     "output_type": "stream",
     "text": [
      "Number of molecules:\n",
      "point \t 16200\n",
      "\n",
      "Filling system:\n"
     ]
    },
    {
     "name": "stderr",
     "output_type": "stream",
     "text": [
      "100%|██████████| 16200/16200 [00:10<00:00, 1538.99it/s]\n",
      "mkdir: synthetic/160: File exists\n",
      "mkdir: synthetic/160/perforation: File exists\n"
     ]
    },
    {
     "name": "stdout",
     "output_type": "stream",
     "text": [
      "Number of molecules:\n",
      "point \t 16200\n",
      "\n",
      "Filling system:\n"
     ]
    },
    {
     "name": "stderr",
     "output_type": "stream",
     "text": [
      "100%|██████████| 16200/16200 [00:10<00:00, 1542.84it/s]\n",
      "mkdir: synthetic/160: File exists\n",
      "mkdir: synthetic/160/perforation: File exists\n"
     ]
    },
    {
     "name": "stdout",
     "output_type": "stream",
     "text": [
      "Number of molecules:\n",
      "point \t 16200\n",
      "\n",
      "Filling system:\n"
     ]
    },
    {
     "name": "stderr",
     "output_type": "stream",
     "text": [
      "100%|██████████| 16200/16200 [00:10<00:00, 1533.54it/s]\n",
      "mkdir: synthetic/160: File exists\n",
      "mkdir: synthetic/160/perforation: File exists\n"
     ]
    },
    {
     "name": "stdout",
     "output_type": "stream",
     "text": [
      "Number of molecules:\n",
      "point \t 16200\n",
      "\n",
      "Filling system:\n"
     ]
    },
    {
     "name": "stderr",
     "output_type": "stream",
     "text": [
      "100%|██████████| 16200/16200 [00:10<00:00, 1540.16it/s]\n",
      "mkdir: synthetic/160: File exists\n",
      "mkdir: synthetic/160/perforation: File exists\n"
     ]
    },
    {
     "name": "stdout",
     "output_type": "stream",
     "text": [
      "Number of molecules:\n",
      "point \t 16200\n",
      "\n",
      "Filling system:\n"
     ]
    },
    {
     "name": "stderr",
     "output_type": "stream",
     "text": [
      "100%|██████████| 16200/16200 [00:10<00:00, 1544.87it/s]\n",
      "mkdir: synthetic/160: File exists\n",
      "mkdir: synthetic/160/perforation: File exists\n"
     ]
    },
    {
     "name": "stdout",
     "output_type": "stream",
     "text": [
      "Number of molecules:\n",
      "point \t 16200\n",
      "\n",
      "Filling system:\n"
     ]
    },
    {
     "name": "stderr",
     "output_type": "stream",
     "text": [
      "100%|██████████| 16200/16200 [00:10<00:00, 1503.59it/s]\n",
      "mkdir: synthetic/160: File exists\n",
      "mkdir: synthetic/160/perforation: File exists\n"
     ]
    },
    {
     "name": "stdout",
     "output_type": "stream",
     "text": [
      "Number of molecules:\n",
      "point \t 16200\n",
      "\n",
      "Filling system:\n"
     ]
    },
    {
     "name": "stderr",
     "output_type": "stream",
     "text": [
      "100%|██████████| 16200/16200 [00:10<00:00, 1510.99it/s]\n",
      "mkdir: synthetic/160: File exists\n",
      "mkdir: synthetic/160/perforation: File exists\n"
     ]
    },
    {
     "name": "stdout",
     "output_type": "stream",
     "text": [
      "Number of molecules:\n",
      "point \t 2025\n",
      "\n",
      "Filling system:\n"
     ]
    },
    {
     "name": "stderr",
     "output_type": "stream",
     "text": [
      "100%|██████████| 2025/2025 [00:00<00:00, 7189.16it/s] \n",
      "mkdir: synthetic/150: File exists\n",
      "mkdir: synthetic/150/droplet: File exists\n"
     ]
    },
    {
     "name": "stdout",
     "output_type": "stream",
     "text": [
      "Number of molecules:\n",
      "point \t 2025\n",
      "\n",
      "Filling system:\n"
     ]
    },
    {
     "name": "stderr",
     "output_type": "stream",
     "text": [
      "100%|██████████| 2025/2025 [00:00<00:00, 7450.55it/s] \n",
      "mkdir: synthetic/150: File exists\n",
      "mkdir: synthetic/150/droplet: File exists\n"
     ]
    },
    {
     "name": "stdout",
     "output_type": "stream",
     "text": [
      "Number of molecules:\n",
      "point \t 2025\n",
      "\n",
      "Filling system:\n"
     ]
    },
    {
     "name": "stderr",
     "output_type": "stream",
     "text": [
      "100%|██████████| 2025/2025 [00:00<00:00, 7375.28it/s] \n",
      "mkdir: synthetic/150: File exists\n",
      "mkdir: synthetic/150/droplet: File exists\n"
     ]
    },
    {
     "name": "stdout",
     "output_type": "stream",
     "text": [
      "Number of molecules:\n",
      "point \t 2025\n",
      "\n",
      "Filling system:\n"
     ]
    },
    {
     "name": "stderr",
     "output_type": "stream",
     "text": [
      "100%|██████████| 2025/2025 [00:00<00:00, 7473.23it/s] \n",
      "mkdir: synthetic/150: File exists\n",
      "mkdir: synthetic/150/droplet: File exists\n"
     ]
    },
    {
     "name": "stdout",
     "output_type": "stream",
     "text": [
      "Number of molecules:\n",
      "point \t 2025\n",
      "\n",
      "Filling system:\n"
     ]
    },
    {
     "name": "stderr",
     "output_type": "stream",
     "text": [
      "100%|██████████| 2025/2025 [00:00<00:00, 7362.86it/s] \n",
      "mkdir: synthetic/150: File exists\n",
      "mkdir: synthetic/150/droplet: File exists\n"
     ]
    },
    {
     "name": "stdout",
     "output_type": "stream",
     "text": [
      "Number of molecules:\n",
      "point \t 2025\n",
      "\n",
      "Filling system:\n"
     ]
    },
    {
     "name": "stderr",
     "output_type": "stream",
     "text": [
      "100%|██████████| 2025/2025 [00:00<00:00, 7403.73it/s] \n",
      "mkdir: synthetic/150: File exists\n",
      "mkdir: synthetic/150/droplet: File exists\n"
     ]
    },
    {
     "name": "stdout",
     "output_type": "stream",
     "text": [
      "Number of molecules:\n",
      "point \t 2025\n",
      "\n",
      "Filling system:\n"
     ]
    },
    {
     "name": "stderr",
     "output_type": "stream",
     "text": [
      "100%|██████████| 2025/2025 [00:00<00:00, 7418.59it/s] \n",
      "mkdir: synthetic/150: File exists\n",
      "mkdir: synthetic/150/droplet: File exists\n"
     ]
    },
    {
     "name": "stdout",
     "output_type": "stream",
     "text": [
      "Number of molecules:\n",
      "point \t 2025\n",
      "\n",
      "Filling system:\n"
     ]
    },
    {
     "name": "stderr",
     "output_type": "stream",
     "text": [
      "100%|██████████| 2025/2025 [00:00<00:00, 7298.30it/s] \n",
      "mkdir: synthetic/150: File exists\n",
      "mkdir: synthetic/150/droplet: File exists\n"
     ]
    },
    {
     "name": "stdout",
     "output_type": "stream",
     "text": [
      "Number of molecules:\n",
      "point \t 2025\n",
      "\n",
      "Filling system:\n"
     ]
    },
    {
     "name": "stderr",
     "output_type": "stream",
     "text": [
      "100%|██████████| 2025/2025 [00:00<00:00, 7367.44it/s] \n",
      "mkdir: synthetic/150: File exists\n",
      "mkdir: synthetic/150/droplet: File exists\n"
     ]
    },
    {
     "name": "stdout",
     "output_type": "stream",
     "text": [
      "Number of molecules:\n",
      "point \t 2025\n",
      "\n",
      "Filling system:\n"
     ]
    },
    {
     "name": "stderr",
     "output_type": "stream",
     "text": [
      "100%|██████████| 2025/2025 [00:00<00:00, 7431.90it/s] \n",
      "mkdir: synthetic/150: File exists\n",
      "mkdir: synthetic/150/droplet: File exists\n"
     ]
    },
    {
     "name": "stdout",
     "output_type": "stream",
     "text": [
      "Number of molecules:\n",
      "point \t 4050\n",
      "\n",
      "Filling system:\n"
     ]
    },
    {
     "name": "stderr",
     "output_type": "stream",
     "text": [
      "100%|██████████| 4050/4050 [00:00<00:00, 4412.39it/s]\n",
      "mkdir: synthetic/150: File exists\n",
      "mkdir: synthetic/150/doughnut: File exists\n"
     ]
    },
    {
     "name": "stdout",
     "output_type": "stream",
     "text": [
      "Number of molecules:\n",
      "point \t 4050\n",
      "\n",
      "Filling system:\n"
     ]
    },
    {
     "name": "stderr",
     "output_type": "stream",
     "text": [
      "100%|██████████| 4050/4050 [00:00<00:00, 4403.31it/s]\n",
      "mkdir: synthetic/150: File exists\n",
      "mkdir: synthetic/150/doughnut: File exists\n"
     ]
    },
    {
     "name": "stdout",
     "output_type": "stream",
     "text": [
      "Number of molecules:\n",
      "point \t 4050\n",
      "\n",
      "Filling system:\n"
     ]
    },
    {
     "name": "stderr",
     "output_type": "stream",
     "text": [
      "100%|██████████| 4050/4050 [00:00<00:00, 4508.60it/s]\n",
      "mkdir: synthetic/150: File exists\n",
      "mkdir: synthetic/150/doughnut: File exists\n"
     ]
    },
    {
     "name": "stdout",
     "output_type": "stream",
     "text": [
      "Number of molecules:\n",
      "point \t 4050\n",
      "\n",
      "Filling system:\n"
     ]
    },
    {
     "name": "stderr",
     "output_type": "stream",
     "text": [
      "100%|██████████| 4050/4050 [00:00<00:00, 4403.26it/s]\n",
      "mkdir: synthetic/150: File exists\n",
      "mkdir: synthetic/150/doughnut: File exists\n"
     ]
    },
    {
     "name": "stdout",
     "output_type": "stream",
     "text": [
      "Number of molecules:\n",
      "point \t 4050\n",
      "\n",
      "Filling system:\n"
     ]
    },
    {
     "name": "stderr",
     "output_type": "stream",
     "text": [
      "100%|██████████| 4050/4050 [00:00<00:00, 4313.57it/s]\n",
      "mkdir: synthetic/150: File exists\n",
      "mkdir: synthetic/150/doughnut: File exists\n"
     ]
    },
    {
     "name": "stdout",
     "output_type": "stream",
     "text": [
      "Number of molecules:\n",
      "point \t 4050\n",
      "\n",
      "Filling system:\n"
     ]
    },
    {
     "name": "stderr",
     "output_type": "stream",
     "text": [
      "100%|██████████| 4050/4050 [00:00<00:00, 4465.86it/s]\n",
      "mkdir: synthetic/150: File exists\n",
      "mkdir: synthetic/150/doughnut: File exists\n"
     ]
    },
    {
     "name": "stdout",
     "output_type": "stream",
     "text": [
      "Number of molecules:\n",
      "point \t 4050\n",
      "\n",
      "Filling system:\n"
     ]
    },
    {
     "name": "stderr",
     "output_type": "stream",
     "text": [
      "100%|██████████| 4050/4050 [00:00<00:00, 4481.91it/s]\n",
      "mkdir: synthetic/150: File exists\n",
      "mkdir: synthetic/150/doughnut: File exists\n"
     ]
    },
    {
     "name": "stdout",
     "output_type": "stream",
     "text": [
      "Number of molecules:\n",
      "point \t 4050\n",
      "\n",
      "Filling system:\n"
     ]
    },
    {
     "name": "stderr",
     "output_type": "stream",
     "text": [
      "100%|██████████| 4050/4050 [00:00<00:00, 4380.50it/s]\n",
      "mkdir: synthetic/150: File exists\n",
      "mkdir: synthetic/150/doughnut: File exists\n"
     ]
    },
    {
     "name": "stdout",
     "output_type": "stream",
     "text": [
      "Number of molecules:\n",
      "point \t 4050\n",
      "\n",
      "Filling system:\n"
     ]
    },
    {
     "name": "stderr",
     "output_type": "stream",
     "text": [
      "100%|██████████| 4050/4050 [00:00<00:00, 4430.71it/s]\n",
      "mkdir: synthetic/150: File exists\n",
      "mkdir: synthetic/150/doughnut: File exists\n"
     ]
    },
    {
     "name": "stdout",
     "output_type": "stream",
     "text": [
      "Number of molecules:\n",
      "point \t 4050\n",
      "\n",
      "Filling system:\n"
     ]
    },
    {
     "name": "stderr",
     "output_type": "stream",
     "text": [
      "100%|██████████| 4050/4050 [00:00<00:00, 4358.28it/s]\n",
      "mkdir: synthetic/150: File exists\n",
      "mkdir: synthetic/150/doughnut: File exists\n"
     ]
    },
    {
     "name": "stdout",
     "output_type": "stream",
     "text": [
      "Number of molecules:\n",
      "point \t 6075\n",
      "\n",
      "Filling system:\n"
     ]
    },
    {
     "name": "stderr",
     "output_type": "stream",
     "text": [
      "100%|██████████| 6075/6075 [00:01<00:00, 3611.60it/s] \n",
      "mkdir: synthetic/150: File exists\n",
      "mkdir: synthetic/150/worm: File exists\n"
     ]
    },
    {
     "name": "stdout",
     "output_type": "stream",
     "text": [
      "Number of molecules:\n",
      "point \t 6075\n",
      "\n",
      "Filling system:\n"
     ]
    },
    {
     "name": "stderr",
     "output_type": "stream",
     "text": [
      "100%|██████████| 6075/6075 [00:01<00:00, 3616.43it/s] \n",
      "mkdir: synthetic/150: File exists\n",
      "mkdir: synthetic/150/worm: File exists\n"
     ]
    },
    {
     "name": "stdout",
     "output_type": "stream",
     "text": [
      "Number of molecules:\n",
      "point \t 6075\n",
      "\n",
      "Filling system:\n"
     ]
    },
    {
     "name": "stderr",
     "output_type": "stream",
     "text": [
      "100%|██████████| 6075/6075 [00:01<00:00, 3621.29it/s] \n",
      "mkdir: synthetic/150: File exists\n",
      "mkdir: synthetic/150/worm: File exists\n"
     ]
    },
    {
     "name": "stdout",
     "output_type": "stream",
     "text": [
      "Number of molecules:\n",
      "point \t 6075\n",
      "\n",
      "Filling system:\n"
     ]
    },
    {
     "name": "stderr",
     "output_type": "stream",
     "text": [
      "100%|██████████| 6075/6075 [00:01<00:00, 3612.49it/s] \n",
      "mkdir: synthetic/150: File exists\n",
      "mkdir: synthetic/150/worm: File exists\n"
     ]
    },
    {
     "name": "stdout",
     "output_type": "stream",
     "text": [
      "Number of molecules:\n",
      "point \t 6075\n",
      "\n",
      "Filling system:\n"
     ]
    },
    {
     "name": "stderr",
     "output_type": "stream",
     "text": [
      "100%|██████████| 6075/6075 [00:01<00:00, 3539.98it/s] \n",
      "mkdir: synthetic/150: File exists\n",
      "mkdir: synthetic/150/worm: File exists\n"
     ]
    },
    {
     "name": "stdout",
     "output_type": "stream",
     "text": [
      "Number of molecules:\n",
      "point \t 6075\n",
      "\n",
      "Filling system:\n"
     ]
    },
    {
     "name": "stderr",
     "output_type": "stream",
     "text": [
      "100%|██████████| 6075/6075 [00:01<00:00, 3617.13it/s] \n",
      "mkdir: synthetic/150: File exists\n",
      "mkdir: synthetic/150/worm: File exists\n"
     ]
    },
    {
     "name": "stdout",
     "output_type": "stream",
     "text": [
      "Number of molecules:\n",
      "point \t 6075\n",
      "\n",
      "Filling system:\n"
     ]
    },
    {
     "name": "stderr",
     "output_type": "stream",
     "text": [
      "100%|██████████| 6075/6075 [00:01<00:00, 3609.10it/s] \n",
      "mkdir: synthetic/150: File exists\n",
      "mkdir: synthetic/150/worm: File exists\n"
     ]
    },
    {
     "name": "stdout",
     "output_type": "stream",
     "text": [
      "Number of molecules:\n",
      "point \t 6075\n",
      "\n",
      "Filling system:\n"
     ]
    },
    {
     "name": "stderr",
     "output_type": "stream",
     "text": [
      "100%|██████████| 6075/6075 [00:01<00:00, 3576.58it/s] \n",
      "mkdir: synthetic/150: File exists\n",
      "mkdir: synthetic/150/worm: File exists\n"
     ]
    },
    {
     "name": "stdout",
     "output_type": "stream",
     "text": [
      "Number of molecules:\n",
      "point \t 6075\n",
      "\n",
      "Filling system:\n"
     ]
    },
    {
     "name": "stderr",
     "output_type": "stream",
     "text": [
      "100%|██████████| 6075/6075 [00:01<00:00, 3589.45it/s] \n",
      "mkdir: synthetic/150: File exists\n",
      "mkdir: synthetic/150/worm: File exists\n"
     ]
    },
    {
     "name": "stdout",
     "output_type": "stream",
     "text": [
      "Number of molecules:\n",
      "point \t 6075\n",
      "\n",
      "Filling system:\n"
     ]
    },
    {
     "name": "stderr",
     "output_type": "stream",
     "text": [
      "100%|██████████| 6075/6075 [00:01<00:00, 3635.87it/s] \n",
      "mkdir: synthetic/150: File exists\n",
      "mkdir: synthetic/150/worm: File exists\n"
     ]
    },
    {
     "name": "stdout",
     "output_type": "stream",
     "text": [
      "Number of molecules:\n",
      "point \t 6750\n",
      "\n",
      "Filling system:\n"
     ]
    },
    {
     "name": "stderr",
     "output_type": "stream",
     "text": [
      "100%|██████████| 6750/6750 [00:02<00:00, 3277.45it/s] \n",
      "mkdir: synthetic/150: File exists\n",
      "mkdir: synthetic/150/roll: File exists\n"
     ]
    },
    {
     "name": "stdout",
     "output_type": "stream",
     "text": [
      "Number of molecules:\n",
      "point \t 6750\n",
      "\n",
      "Filling system:\n"
     ]
    },
    {
     "name": "stderr",
     "output_type": "stream",
     "text": [
      "100%|██████████| 6750/6750 [00:02<00:00, 3260.23it/s] \n",
      "mkdir: synthetic/150: File exists\n",
      "mkdir: synthetic/150/roll: File exists\n"
     ]
    },
    {
     "name": "stdout",
     "output_type": "stream",
     "text": [
      "Number of molecules:\n",
      "point \t 6750\n",
      "\n",
      "Filling system:\n"
     ]
    },
    {
     "name": "stderr",
     "output_type": "stream",
     "text": [
      "100%|██████████| 6750/6750 [00:02<00:00, 3266.87it/s] \n",
      "mkdir: synthetic/150: File exists\n",
      "mkdir: synthetic/150/roll: File exists\n"
     ]
    },
    {
     "name": "stdout",
     "output_type": "stream",
     "text": [
      "Number of molecules:\n",
      "point \t 6750\n",
      "\n",
      "Filling system:\n"
     ]
    },
    {
     "name": "stderr",
     "output_type": "stream",
     "text": [
      "100%|██████████| 6750/6750 [00:02<00:00, 3230.25it/s] \n",
      "mkdir: synthetic/150: File exists\n",
      "mkdir: synthetic/150/roll: File exists\n"
     ]
    },
    {
     "name": "stdout",
     "output_type": "stream",
     "text": [
      "Number of molecules:\n",
      "point \t 6750\n",
      "\n",
      "Filling system:\n"
     ]
    },
    {
     "name": "stderr",
     "output_type": "stream",
     "text": [
      "100%|██████████| 6750/6750 [00:02<00:00, 3224.49it/s] \n",
      "mkdir: synthetic/150: File exists\n",
      "mkdir: synthetic/150/roll: File exists\n"
     ]
    },
    {
     "name": "stdout",
     "output_type": "stream",
     "text": [
      "Number of molecules:\n",
      "point \t 6750\n",
      "\n",
      "Filling system:\n"
     ]
    },
    {
     "name": "stderr",
     "output_type": "stream",
     "text": [
      "100%|██████████| 6750/6750 [00:02<00:00, 3256.08it/s] \n",
      "mkdir: synthetic/150: File exists\n",
      "mkdir: synthetic/150/roll: File exists\n"
     ]
    },
    {
     "name": "stdout",
     "output_type": "stream",
     "text": [
      "Number of molecules:\n",
      "point \t 6750\n",
      "\n",
      "Filling system:\n"
     ]
    },
    {
     "name": "stderr",
     "output_type": "stream",
     "text": [
      "100%|██████████| 6750/6750 [00:02<00:00, 3248.34it/s] \n",
      "mkdir: synthetic/150: File exists\n",
      "mkdir: synthetic/150/roll: File exists\n"
     ]
    },
    {
     "name": "stdout",
     "output_type": "stream",
     "text": [
      "Number of molecules:\n",
      "point \t 6750\n",
      "\n",
      "Filling system:\n"
     ]
    },
    {
     "name": "stderr",
     "output_type": "stream",
     "text": [
      "100%|██████████| 6750/6750 [00:02<00:00, 3213.32it/s] \n",
      "mkdir: synthetic/150: File exists\n",
      "mkdir: synthetic/150/roll: File exists\n"
     ]
    },
    {
     "name": "stdout",
     "output_type": "stream",
     "text": [
      "Number of molecules:\n",
      "point \t 6750\n",
      "\n",
      "Filling system:\n"
     ]
    },
    {
     "name": "stderr",
     "output_type": "stream",
     "text": [
      "100%|██████████| 6750/6750 [00:02<00:00, 3272.78it/s] \n",
      "mkdir: synthetic/150: File exists\n",
      "mkdir: synthetic/150/roll: File exists\n"
     ]
    },
    {
     "name": "stdout",
     "output_type": "stream",
     "text": [
      "Number of molecules:\n",
      "point \t 6750\n",
      "\n",
      "Filling system:\n"
     ]
    },
    {
     "name": "stderr",
     "output_type": "stream",
     "text": [
      "100%|██████████| 6750/6750 [00:02<00:00, 3192.63it/s] \n",
      "mkdir: synthetic/150: File exists\n",
      "mkdir: synthetic/150/roll: File exists\n"
     ]
    },
    {
     "name": "stdout",
     "output_type": "stream",
     "text": [
      "Number of molecules:\n",
      "point \t 16200\n",
      "\n",
      "Filling system:\n"
     ]
    },
    {
     "name": "stderr",
     "output_type": "stream",
     "text": [
      "100%|██████████| 16200/16200 [00:10<00:00, 1527.95it/s]\n",
      "mkdir: synthetic/150: File exists\n",
      "mkdir: synthetic/150/perforation: File exists\n"
     ]
    },
    {
     "name": "stdout",
     "output_type": "stream",
     "text": [
      "Number of molecules:\n",
      "point \t 16200\n",
      "\n",
      "Filling system:\n"
     ]
    },
    {
     "name": "stderr",
     "output_type": "stream",
     "text": [
      "100%|██████████| 16200/16200 [00:10<00:00, 1504.87it/s]\n",
      "mkdir: synthetic/150: File exists\n",
      "mkdir: synthetic/150/perforation: File exists\n"
     ]
    },
    {
     "name": "stdout",
     "output_type": "stream",
     "text": [
      "Number of molecules:\n",
      "point \t 16200\n",
      "\n",
      "Filling system:\n"
     ]
    },
    {
     "name": "stderr",
     "output_type": "stream",
     "text": [
      "100%|██████████| 16200/16200 [00:10<00:00, 1525.00it/s]\n",
      "mkdir: synthetic/150: File exists\n",
      "mkdir: synthetic/150/perforation: File exists\n"
     ]
    },
    {
     "name": "stdout",
     "output_type": "stream",
     "text": [
      "Number of molecules:\n",
      "point \t 16200\n",
      "\n",
      "Filling system:\n"
     ]
    },
    {
     "name": "stderr",
     "output_type": "stream",
     "text": [
      "100%|██████████| 16200/16200 [00:10<00:00, 1520.15it/s]\n",
      "mkdir: synthetic/150: File exists\n",
      "mkdir: synthetic/150/perforation: File exists\n"
     ]
    },
    {
     "name": "stdout",
     "output_type": "stream",
     "text": [
      "Number of molecules:\n",
      "point \t 16200\n",
      "\n",
      "Filling system:\n"
     ]
    },
    {
     "name": "stderr",
     "output_type": "stream",
     "text": [
      "100%|██████████| 16200/16200 [00:10<00:00, 1492.27it/s]\n",
      "mkdir: synthetic/150: File exists\n",
      "mkdir: synthetic/150/perforation: File exists\n"
     ]
    },
    {
     "name": "stdout",
     "output_type": "stream",
     "text": [
      "Number of molecules:\n",
      "point \t 16200\n",
      "\n",
      "Filling system:\n"
     ]
    },
    {
     "name": "stderr",
     "output_type": "stream",
     "text": [
      "100%|██████████| 16200/16200 [00:10<00:00, 1493.99it/s]\n",
      "mkdir: synthetic/150: File exists\n",
      "mkdir: synthetic/150/perforation: File exists\n"
     ]
    },
    {
     "name": "stdout",
     "output_type": "stream",
     "text": [
      "Number of molecules:\n",
      "point \t 16200\n",
      "\n",
      "Filling system:\n"
     ]
    },
    {
     "name": "stderr",
     "output_type": "stream",
     "text": [
      "100%|██████████| 16200/16200 [00:10<00:00, 1513.19it/s]\n",
      "mkdir: synthetic/150: File exists\n",
      "mkdir: synthetic/150/perforation: File exists\n"
     ]
    },
    {
     "name": "stdout",
     "output_type": "stream",
     "text": [
      "Number of molecules:\n",
      "point \t 16200\n",
      "\n",
      "Filling system:\n"
     ]
    },
    {
     "name": "stderr",
     "output_type": "stream",
     "text": [
      "100%|██████████| 16200/16200 [00:10<00:00, 1504.35it/s]\n",
      "mkdir: synthetic/150: File exists\n",
      "mkdir: synthetic/150/perforation: File exists\n"
     ]
    },
    {
     "name": "stdout",
     "output_type": "stream",
     "text": [
      "Number of molecules:\n",
      "point \t 16200\n",
      "\n",
      "Filling system:\n"
     ]
    },
    {
     "name": "stderr",
     "output_type": "stream",
     "text": [
      "100%|██████████| 16200/16200 [00:10<00:00, 1488.90it/s]\n",
      "mkdir: synthetic/150: File exists\n",
      "mkdir: synthetic/150/perforation: File exists\n"
     ]
    },
    {
     "name": "stdout",
     "output_type": "stream",
     "text": [
      "Number of molecules:\n",
      "point \t 16200\n",
      "\n",
      "Filling system:\n"
     ]
    },
    {
     "name": "stderr",
     "output_type": "stream",
     "text": [
      "100%|██████████| 16200/16200 [00:10<00:00, 1495.70it/s]\n",
      "mkdir: synthetic/150: File exists\n",
      "mkdir: synthetic/150/perforation: File exists\n"
     ]
    },
    {
     "name": "stdout",
     "output_type": "stream",
     "text": [
      "Number of molecules:\n",
      "point \t 2025\n",
      "\n",
      "Filling system:\n"
     ]
    },
    {
     "name": "stderr",
     "output_type": "stream",
     "text": [
      "100%|██████████| 2025/2025 [00:00<00:00, 7215.68it/s] \n",
      "mkdir: synthetic/140: File exists\n",
      "mkdir: synthetic/140/droplet: File exists\n"
     ]
    },
    {
     "name": "stdout",
     "output_type": "stream",
     "text": [
      "Number of molecules:\n",
      "point \t 2025\n",
      "\n",
      "Filling system:\n"
     ]
    },
    {
     "name": "stderr",
     "output_type": "stream",
     "text": [
      "100%|██████████| 2025/2025 [00:00<00:00, 7300.43it/s] \n",
      "mkdir: synthetic/140: File exists\n",
      "mkdir: synthetic/140/droplet: File exists\n"
     ]
    },
    {
     "name": "stdout",
     "output_type": "stream",
     "text": [
      "Number of molecules:\n",
      "point \t 2025\n",
      "\n",
      "Filling system:\n"
     ]
    },
    {
     "name": "stderr",
     "output_type": "stream",
     "text": [
      "100%|██████████| 2025/2025 [00:00<00:00, 7479.89it/s] \n",
      "mkdir: synthetic/140: File exists\n",
      "mkdir: synthetic/140/droplet: File exists\n"
     ]
    },
    {
     "name": "stdout",
     "output_type": "stream",
     "text": [
      "Number of molecules:\n",
      "point \t 2025\n",
      "\n",
      "Filling system:\n"
     ]
    },
    {
     "name": "stderr",
     "output_type": "stream",
     "text": [
      "100%|██████████| 2025/2025 [00:00<00:00, 7445.76it/s] \n",
      "mkdir: synthetic/140: File exists\n",
      "mkdir: synthetic/140/droplet: File exists\n"
     ]
    },
    {
     "name": "stdout",
     "output_type": "stream",
     "text": [
      "Number of molecules:\n",
      "point \t 2025\n",
      "\n",
      "Filling system:\n"
     ]
    },
    {
     "name": "stderr",
     "output_type": "stream",
     "text": [
      "100%|██████████| 2025/2025 [00:00<00:00, 7367.98it/s] \n",
      "mkdir: synthetic/140: File exists\n",
      "mkdir: synthetic/140/droplet: File exists\n"
     ]
    },
    {
     "name": "stdout",
     "output_type": "stream",
     "text": [
      "Number of molecules:\n",
      "point \t 2025\n",
      "\n",
      "Filling system:\n"
     ]
    },
    {
     "name": "stderr",
     "output_type": "stream",
     "text": [
      "100%|██████████| 2025/2025 [00:00<00:00, 6886.53it/s] \n",
      "mkdir: synthetic/140: File exists\n",
      "mkdir: synthetic/140/droplet: File exists\n"
     ]
    },
    {
     "name": "stdout",
     "output_type": "stream",
     "text": [
      "Number of molecules:\n",
      "point \t 2025\n",
      "\n",
      "Filling system:\n"
     ]
    },
    {
     "name": "stderr",
     "output_type": "stream",
     "text": [
      "100%|██████████| 2025/2025 [00:00<00:00, 7284.41it/s] \n",
      "mkdir: synthetic/140: File exists\n",
      "mkdir: synthetic/140/droplet: File exists\n"
     ]
    },
    {
     "name": "stdout",
     "output_type": "stream",
     "text": [
      "Number of molecules:\n",
      "point \t 2025\n",
      "\n",
      "Filling system:\n"
     ]
    },
    {
     "name": "stderr",
     "output_type": "stream",
     "text": [
      "100%|██████████| 2025/2025 [00:00<00:00, 7125.37it/s] \n",
      "mkdir: synthetic/140: File exists\n",
      "mkdir: synthetic/140/droplet: File exists\n"
     ]
    },
    {
     "name": "stdout",
     "output_type": "stream",
     "text": [
      "Number of molecules:\n",
      "point \t 2025\n",
      "\n",
      "Filling system:\n"
     ]
    },
    {
     "name": "stderr",
     "output_type": "stream",
     "text": [
      "100%|██████████| 2025/2025 [00:00<00:00, 7202.13it/s] \n",
      "mkdir: synthetic/140: File exists\n",
      "mkdir: synthetic/140/droplet: File exists\n"
     ]
    },
    {
     "name": "stdout",
     "output_type": "stream",
     "text": [
      "Number of molecules:\n",
      "point \t 2025\n",
      "\n",
      "Filling system:\n"
     ]
    },
    {
     "name": "stderr",
     "output_type": "stream",
     "text": [
      "100%|██████████| 2025/2025 [00:00<00:00, 7278.38it/s] \n",
      "mkdir: synthetic/140: File exists\n",
      "mkdir: synthetic/140/droplet: File exists\n"
     ]
    },
    {
     "name": "stdout",
     "output_type": "stream",
     "text": [
      "Number of molecules:\n",
      "point \t 4050\n",
      "\n",
      "Filling system:\n"
     ]
    },
    {
     "name": "stderr",
     "output_type": "stream",
     "text": [
      "100%|██████████| 4050/4050 [00:00<00:00, 4455.52it/s]\n",
      "mkdir: synthetic/140: File exists\n",
      "mkdir: synthetic/140/doughnut: File exists\n"
     ]
    },
    {
     "name": "stdout",
     "output_type": "stream",
     "text": [
      "Number of molecules:\n",
      "point \t 4050\n",
      "\n",
      "Filling system:\n"
     ]
    },
    {
     "name": "stderr",
     "output_type": "stream",
     "text": [
      "100%|██████████| 4050/4050 [00:00<00:00, 4317.43it/s]\n",
      "mkdir: synthetic/140: File exists\n",
      "mkdir: synthetic/140/doughnut: File exists\n"
     ]
    },
    {
     "name": "stdout",
     "output_type": "stream",
     "text": [
      "Number of molecules:\n",
      "point \t 4050\n",
      "\n",
      "Filling system:\n"
     ]
    },
    {
     "name": "stderr",
     "output_type": "stream",
     "text": [
      "100%|██████████| 4050/4050 [00:00<00:00, 4394.72it/s]\n",
      "mkdir: synthetic/140: File exists\n",
      "mkdir: synthetic/140/doughnut: File exists\n"
     ]
    },
    {
     "name": "stdout",
     "output_type": "stream",
     "text": [
      "Number of molecules:\n",
      "point \t 4050\n",
      "\n",
      "Filling system:\n"
     ]
    },
    {
     "name": "stderr",
     "output_type": "stream",
     "text": [
      "100%|██████████| 4050/4050 [00:00<00:00, 4416.29it/s]\n",
      "mkdir: synthetic/140: File exists\n",
      "mkdir: synthetic/140/doughnut: File exists\n"
     ]
    },
    {
     "name": "stdout",
     "output_type": "stream",
     "text": [
      "Number of molecules:\n",
      "point \t 4050\n",
      "\n",
      "Filling system:\n"
     ]
    },
    {
     "name": "stderr",
     "output_type": "stream",
     "text": [
      "100%|██████████| 4050/4050 [00:00<00:00, 4465.08it/s]\n",
      "mkdir: synthetic/140: File exists\n",
      "mkdir: synthetic/140/doughnut: File exists\n"
     ]
    },
    {
     "name": "stdout",
     "output_type": "stream",
     "text": [
      "Number of molecules:\n",
      "point \t 4050\n",
      "\n",
      "Filling system:\n"
     ]
    },
    {
     "name": "stderr",
     "output_type": "stream",
     "text": [
      "100%|██████████| 4050/4050 [00:00<00:00, 4432.89it/s]\n",
      "mkdir: synthetic/140: File exists\n",
      "mkdir: synthetic/140/doughnut: File exists\n"
     ]
    },
    {
     "name": "stdout",
     "output_type": "stream",
     "text": [
      "Number of molecules:\n",
      "point \t 4050\n",
      "\n",
      "Filling system:\n"
     ]
    },
    {
     "name": "stderr",
     "output_type": "stream",
     "text": [
      "100%|██████████| 4050/4050 [00:00<00:00, 4437.81it/s]\n",
      "mkdir: synthetic/140: File exists\n",
      "mkdir: synthetic/140/doughnut: File exists\n"
     ]
    },
    {
     "name": "stdout",
     "output_type": "stream",
     "text": [
      "Number of molecules:\n",
      "point \t 4050\n",
      "\n",
      "Filling system:\n"
     ]
    },
    {
     "name": "stderr",
     "output_type": "stream",
     "text": [
      "100%|██████████| 4050/4050 [00:00<00:00, 4469.33it/s]\n",
      "mkdir: synthetic/140: File exists\n",
      "mkdir: synthetic/140/doughnut: File exists\n"
     ]
    },
    {
     "name": "stdout",
     "output_type": "stream",
     "text": [
      "Number of molecules:\n",
      "point \t 4050\n",
      "\n",
      "Filling system:\n"
     ]
    },
    {
     "name": "stderr",
     "output_type": "stream",
     "text": [
      "100%|██████████| 4050/4050 [00:00<00:00, 4496.32it/s]\n",
      "mkdir: synthetic/140: File exists\n",
      "mkdir: synthetic/140/doughnut: File exists\n"
     ]
    },
    {
     "name": "stdout",
     "output_type": "stream",
     "text": [
      "Number of molecules:\n",
      "point \t 4050\n",
      "\n",
      "Filling system:\n"
     ]
    },
    {
     "name": "stderr",
     "output_type": "stream",
     "text": [
      "100%|██████████| 4050/4050 [00:00<00:00, 4462.50it/s]\n",
      "mkdir: synthetic/140: File exists\n",
      "mkdir: synthetic/140/doughnut: File exists\n"
     ]
    },
    {
     "name": "stdout",
     "output_type": "stream",
     "text": [
      "Number of molecules:\n",
      "point \t 6075\n",
      "\n",
      "Filling system:\n"
     ]
    },
    {
     "name": "stderr",
     "output_type": "stream",
     "text": [
      "100%|██████████| 6075/6075 [00:01<00:00, 3515.77it/s] \n",
      "mkdir: synthetic/140: File exists\n",
      "mkdir: synthetic/140/worm: File exists\n"
     ]
    },
    {
     "name": "stdout",
     "output_type": "stream",
     "text": [
      "Number of molecules:\n",
      "point \t 6075\n",
      "\n",
      "Filling system:\n"
     ]
    },
    {
     "name": "stderr",
     "output_type": "stream",
     "text": [
      "100%|██████████| 6075/6075 [00:01<00:00, 3578.59it/s] \n",
      "mkdir: synthetic/140: File exists\n",
      "mkdir: synthetic/140/worm: File exists\n"
     ]
    },
    {
     "name": "stdout",
     "output_type": "stream",
     "text": [
      "Number of molecules:\n",
      "point \t 6075\n",
      "\n",
      "Filling system:\n"
     ]
    },
    {
     "name": "stderr",
     "output_type": "stream",
     "text": [
      "100%|██████████| 6075/6075 [00:01<00:00, 3551.57it/s] \n",
      "mkdir: synthetic/140: File exists\n",
      "mkdir: synthetic/140/worm: File exists\n"
     ]
    },
    {
     "name": "stdout",
     "output_type": "stream",
     "text": [
      "Number of molecules:\n",
      "point \t 6075\n",
      "\n",
      "Filling system:\n"
     ]
    },
    {
     "name": "stderr",
     "output_type": "stream",
     "text": [
      "100%|██████████| 6075/6075 [00:01<00:00, 3571.78it/s] \n",
      "mkdir: synthetic/140: File exists\n",
      "mkdir: synthetic/140/worm: File exists\n"
     ]
    },
    {
     "name": "stdout",
     "output_type": "stream",
     "text": [
      "Number of molecules:\n",
      "point \t 6075\n",
      "\n",
      "Filling system:\n"
     ]
    },
    {
     "name": "stderr",
     "output_type": "stream",
     "text": [
      "100%|██████████| 6075/6075 [00:01<00:00, 3572.84it/s] \n",
      "mkdir: synthetic/140: File exists\n",
      "mkdir: synthetic/140/worm: File exists\n"
     ]
    },
    {
     "name": "stdout",
     "output_type": "stream",
     "text": [
      "Number of molecules:\n",
      "point \t 6075\n",
      "\n",
      "Filling system:\n"
     ]
    },
    {
     "name": "stderr",
     "output_type": "stream",
     "text": [
      "100%|██████████| 6075/6075 [00:01<00:00, 3584.86it/s] \n",
      "mkdir: synthetic/140: File exists\n",
      "mkdir: synthetic/140/worm: File exists\n"
     ]
    },
    {
     "name": "stdout",
     "output_type": "stream",
     "text": [
      "Number of molecules:\n",
      "point \t 6075\n",
      "\n",
      "Filling system:\n"
     ]
    },
    {
     "name": "stderr",
     "output_type": "stream",
     "text": [
      "100%|██████████| 6075/6075 [00:01<00:00, 3564.07it/s] \n",
      "mkdir: synthetic/140: File exists\n",
      "mkdir: synthetic/140/worm: File exists\n"
     ]
    },
    {
     "name": "stdout",
     "output_type": "stream",
     "text": [
      "Number of molecules:\n",
      "point \t 6075\n",
      "\n",
      "Filling system:\n"
     ]
    },
    {
     "name": "stderr",
     "output_type": "stream",
     "text": [
      "100%|██████████| 6075/6075 [00:01<00:00, 3626.10it/s] \n",
      "mkdir: synthetic/140: File exists\n",
      "mkdir: synthetic/140/worm: File exists\n"
     ]
    },
    {
     "name": "stdout",
     "output_type": "stream",
     "text": [
      "Number of molecules:\n",
      "point \t 6075\n",
      "\n",
      "Filling system:\n"
     ]
    },
    {
     "name": "stderr",
     "output_type": "stream",
     "text": [
      "100%|██████████| 6075/6075 [00:01<00:00, 3617.97it/s] \n",
      "mkdir: synthetic/140: File exists\n",
      "mkdir: synthetic/140/worm: File exists\n"
     ]
    },
    {
     "name": "stdout",
     "output_type": "stream",
     "text": [
      "Number of molecules:\n",
      "point \t 6075\n",
      "\n",
      "Filling system:\n"
     ]
    },
    {
     "name": "stderr",
     "output_type": "stream",
     "text": [
      "100%|██████████| 6075/6075 [00:01<00:00, 3558.75it/s] \n",
      "mkdir: synthetic/140: File exists\n",
      "mkdir: synthetic/140/worm: File exists\n"
     ]
    },
    {
     "name": "stdout",
     "output_type": "stream",
     "text": [
      "Number of molecules:\n",
      "point \t 6750\n",
      "\n",
      "Filling system:\n"
     ]
    },
    {
     "name": "stderr",
     "output_type": "stream",
     "text": [
      "100%|██████████| 6750/6750 [00:02<00:00, 3267.79it/s] \n",
      "mkdir: synthetic/140: File exists\n",
      "mkdir: synthetic/140/roll: File exists\n"
     ]
    },
    {
     "name": "stdout",
     "output_type": "stream",
     "text": [
      "Number of molecules:\n",
      "point \t 6750\n",
      "\n",
      "Filling system:\n"
     ]
    },
    {
     "name": "stderr",
     "output_type": "stream",
     "text": [
      "100%|██████████| 6750/6750 [00:02<00:00, 3244.62it/s] \n",
      "mkdir: synthetic/140: File exists\n",
      "mkdir: synthetic/140/roll: File exists\n"
     ]
    },
    {
     "name": "stdout",
     "output_type": "stream",
     "text": [
      "Number of molecules:\n",
      "point \t 6750\n",
      "\n",
      "Filling system:\n"
     ]
    },
    {
     "name": "stderr",
     "output_type": "stream",
     "text": [
      "100%|██████████| 6750/6750 [00:02<00:00, 3215.50it/s] \n",
      "mkdir: synthetic/140: File exists\n",
      "mkdir: synthetic/140/roll: File exists\n"
     ]
    },
    {
     "name": "stdout",
     "output_type": "stream",
     "text": [
      "Number of molecules:\n",
      "point \t 6750\n",
      "\n",
      "Filling system:\n"
     ]
    },
    {
     "name": "stderr",
     "output_type": "stream",
     "text": [
      "100%|██████████| 6750/6750 [00:02<00:00, 3268.80it/s] \n",
      "mkdir: synthetic/140: File exists\n",
      "mkdir: synthetic/140/roll: File exists\n"
     ]
    },
    {
     "name": "stdout",
     "output_type": "stream",
     "text": [
      "Number of molecules:\n",
      "point \t 6750\n",
      "\n",
      "Filling system:\n"
     ]
    },
    {
     "name": "stderr",
     "output_type": "stream",
     "text": [
      "100%|██████████| 6750/6750 [00:02<00:00, 3273.92it/s] \n",
      "mkdir: synthetic/140: File exists\n",
      "mkdir: synthetic/140/roll: File exists\n"
     ]
    },
    {
     "name": "stdout",
     "output_type": "stream",
     "text": [
      "Number of molecules:\n",
      "point \t 6750\n",
      "\n",
      "Filling system:\n"
     ]
    },
    {
     "name": "stderr",
     "output_type": "stream",
     "text": [
      "100%|██████████| 6750/6750 [00:02<00:00, 3282.03it/s] \n",
      "mkdir: synthetic/140: File exists\n",
      "mkdir: synthetic/140/roll: File exists\n"
     ]
    },
    {
     "name": "stdout",
     "output_type": "stream",
     "text": [
      "Number of molecules:\n",
      "point \t 6750\n",
      "\n",
      "Filling system:\n"
     ]
    },
    {
     "name": "stderr",
     "output_type": "stream",
     "text": [
      "100%|██████████| 6750/6750 [00:02<00:00, 3243.49it/s] \n",
      "mkdir: synthetic/140: File exists\n",
      "mkdir: synthetic/140/roll: File exists\n"
     ]
    },
    {
     "name": "stdout",
     "output_type": "stream",
     "text": [
      "Number of molecules:\n",
      "point \t 6750\n",
      "\n",
      "Filling system:\n"
     ]
    },
    {
     "name": "stderr",
     "output_type": "stream",
     "text": [
      "100%|██████████| 6750/6750 [00:02<00:00, 3227.61it/s] \n",
      "mkdir: synthetic/140: File exists\n",
      "mkdir: synthetic/140/roll: File exists\n"
     ]
    },
    {
     "name": "stdout",
     "output_type": "stream",
     "text": [
      "Number of molecules:\n",
      "point \t 6750\n",
      "\n",
      "Filling system:\n"
     ]
    },
    {
     "name": "stderr",
     "output_type": "stream",
     "text": [
      "100%|██████████| 6750/6750 [00:02<00:00, 3208.40it/s] \n",
      "mkdir: synthetic/140: File exists\n",
      "mkdir: synthetic/140/roll: File exists\n"
     ]
    },
    {
     "name": "stdout",
     "output_type": "stream",
     "text": [
      "Number of molecules:\n",
      "point \t 6750\n",
      "\n",
      "Filling system:\n"
     ]
    },
    {
     "name": "stderr",
     "output_type": "stream",
     "text": [
      "100%|██████████| 6750/6750 [00:02<00:00, 3206.32it/s] \n",
      "mkdir: synthetic/140: File exists\n",
      "mkdir: synthetic/140/roll: File exists\n"
     ]
    },
    {
     "name": "stdout",
     "output_type": "stream",
     "text": [
      "Number of molecules:\n",
      "point \t 16200\n",
      "\n",
      "Filling system:\n"
     ]
    },
    {
     "name": "stderr",
     "output_type": "stream",
     "text": [
      "100%|██████████| 16200/16200 [00:10<00:00, 1518.96it/s]\n",
      "mkdir: synthetic/140: File exists\n",
      "mkdir: synthetic/140/perforation: File exists\n"
     ]
    },
    {
     "name": "stdout",
     "output_type": "stream",
     "text": [
      "Number of molecules:\n",
      "point \t 16200\n",
      "\n",
      "Filling system:\n"
     ]
    },
    {
     "name": "stderr",
     "output_type": "stream",
     "text": [
      "100%|██████████| 16200/16200 [00:10<00:00, 1493.68it/s]\n",
      "mkdir: synthetic/140: File exists\n",
      "mkdir: synthetic/140/perforation: File exists\n"
     ]
    },
    {
     "name": "stdout",
     "output_type": "stream",
     "text": [
      "Number of molecules:\n",
      "point \t 16200\n",
      "\n",
      "Filling system:\n"
     ]
    },
    {
     "name": "stderr",
     "output_type": "stream",
     "text": [
      "100%|██████████| 16200/16200 [00:10<00:00, 1553.70it/s]\n",
      "mkdir: synthetic/140: File exists\n",
      "mkdir: synthetic/140/perforation: File exists\n"
     ]
    },
    {
     "name": "stdout",
     "output_type": "stream",
     "text": [
      "Number of molecules:\n",
      "point \t 16200\n",
      "\n",
      "Filling system:\n"
     ]
    },
    {
     "name": "stderr",
     "output_type": "stream",
     "text": [
      "100%|██████████| 16200/16200 [00:10<00:00, 1498.42it/s]\n",
      "mkdir: synthetic/140: File exists\n",
      "mkdir: synthetic/140/perforation: File exists\n"
     ]
    },
    {
     "name": "stdout",
     "output_type": "stream",
     "text": [
      "Number of molecules:\n",
      "point \t 16200\n",
      "\n",
      "Filling system:\n"
     ]
    },
    {
     "name": "stderr",
     "output_type": "stream",
     "text": [
      "100%|██████████| 16200/16200 [00:10<00:00, 1505.64it/s]\n",
      "mkdir: synthetic/140: File exists\n",
      "mkdir: synthetic/140/perforation: File exists\n"
     ]
    },
    {
     "name": "stdout",
     "output_type": "stream",
     "text": [
      "Number of molecules:\n",
      "point \t 16200\n",
      "\n",
      "Filling system:\n"
     ]
    },
    {
     "name": "stderr",
     "output_type": "stream",
     "text": [
      "100%|██████████| 16200/16200 [00:10<00:00, 1514.82it/s]\n",
      "mkdir: synthetic/140: File exists\n",
      "mkdir: synthetic/140/perforation: File exists\n"
     ]
    },
    {
     "name": "stdout",
     "output_type": "stream",
     "text": [
      "Number of molecules:\n",
      "point \t 16200\n",
      "\n",
      "Filling system:\n"
     ]
    },
    {
     "name": "stderr",
     "output_type": "stream",
     "text": [
      "100%|██████████| 16200/16200 [00:10<00:00, 1487.88it/s]\n",
      "mkdir: synthetic/140: File exists\n",
      "mkdir: synthetic/140/perforation: File exists\n"
     ]
    },
    {
     "name": "stdout",
     "output_type": "stream",
     "text": [
      "Number of molecules:\n",
      "point \t 16200\n",
      "\n",
      "Filling system:\n"
     ]
    },
    {
     "name": "stderr",
     "output_type": "stream",
     "text": [
      "100%|██████████| 16200/16200 [00:10<00:00, 1506.96it/s]\n",
      "mkdir: synthetic/140: File exists\n",
      "mkdir: synthetic/140/perforation: File exists\n"
     ]
    },
    {
     "name": "stdout",
     "output_type": "stream",
     "text": [
      "Number of molecules:\n",
      "point \t 16200\n",
      "\n",
      "Filling system:\n"
     ]
    },
    {
     "name": "stderr",
     "output_type": "stream",
     "text": [
      "100%|██████████| 16200/16200 [00:10<00:00, 1493.23it/s]\n",
      "mkdir: synthetic/140: File exists\n",
      "mkdir: synthetic/140/perforation: File exists\n"
     ]
    },
    {
     "name": "stdout",
     "output_type": "stream",
     "text": [
      "Number of molecules:\n",
      "point \t 16200\n",
      "\n",
      "Filling system:\n"
     ]
    },
    {
     "name": "stderr",
     "output_type": "stream",
     "text": [
      "100%|██████████| 16200/16200 [00:10<00:00, 1505.83it/s]\n",
      "mkdir: synthetic/140: File exists\n",
      "mkdir: synthetic/140/perforation: File exists\n"
     ]
    },
    {
     "name": "stdout",
     "output_type": "stream",
     "text": [
      "Number of molecules:\n",
      "point \t 2025\n",
      "\n",
      "Filling system:\n"
     ]
    },
    {
     "name": "stderr",
     "output_type": "stream",
     "text": [
      "100%|██████████| 2025/2025 [00:00<00:00, 7455.08it/s] \n",
      "mkdir: synthetic/130: File exists\n",
      "mkdir: synthetic/130/droplet: File exists\n"
     ]
    },
    {
     "name": "stdout",
     "output_type": "stream",
     "text": [
      "Number of molecules:\n",
      "point \t 2025\n",
      "\n",
      "Filling system:\n"
     ]
    },
    {
     "name": "stderr",
     "output_type": "stream",
     "text": [
      "100%|██████████| 2025/2025 [00:00<00:00, 7349.84it/s] \n",
      "mkdir: synthetic/130: File exists\n",
      "mkdir: synthetic/130/droplet: File exists\n"
     ]
    },
    {
     "name": "stdout",
     "output_type": "stream",
     "text": [
      "Number of molecules:\n",
      "point \t 2025\n",
      "\n",
      "Filling system:\n"
     ]
    },
    {
     "name": "stderr",
     "output_type": "stream",
     "text": [
      "100%|██████████| 2025/2025 [00:00<00:00, 7558.15it/s] \n",
      "mkdir: synthetic/130: File exists\n",
      "mkdir: synthetic/130/droplet: File exists\n"
     ]
    },
    {
     "name": "stdout",
     "output_type": "stream",
     "text": [
      "Number of molecules:\n",
      "point \t 2025\n",
      "\n",
      "Filling system:\n"
     ]
    },
    {
     "name": "stderr",
     "output_type": "stream",
     "text": [
      "100%|██████████| 2025/2025 [00:00<00:00, 7395.64it/s] \n",
      "mkdir: synthetic/130: File exists\n",
      "mkdir: synthetic/130/droplet: File exists\n"
     ]
    },
    {
     "name": "stdout",
     "output_type": "stream",
     "text": [
      "Number of molecules:\n",
      "point \t 2025\n",
      "\n",
      "Filling system:\n"
     ]
    },
    {
     "name": "stderr",
     "output_type": "stream",
     "text": [
      "100%|██████████| 2025/2025 [00:00<00:00, 7186.91it/s] \n",
      "mkdir: synthetic/130: File exists\n",
      "mkdir: synthetic/130/droplet: File exists\n"
     ]
    },
    {
     "name": "stdout",
     "output_type": "stream",
     "text": [
      "Number of molecules:\n",
      "point \t 2025\n",
      "\n",
      "Filling system:\n"
     ]
    },
    {
     "name": "stderr",
     "output_type": "stream",
     "text": [
      "100%|██████████| 2025/2025 [00:00<00:00, 7467.20it/s] \n",
      "mkdir: synthetic/130: File exists\n",
      "mkdir: synthetic/130/droplet: File exists\n"
     ]
    },
    {
     "name": "stdout",
     "output_type": "stream",
     "text": [
      "Number of molecules:\n",
      "point \t 2025\n",
      "\n",
      "Filling system:\n"
     ]
    },
    {
     "name": "stderr",
     "output_type": "stream",
     "text": [
      "100%|██████████| 2025/2025 [00:00<00:00, 7357.08it/s] \n",
      "mkdir: synthetic/130: File exists\n",
      "mkdir: synthetic/130/droplet: File exists\n"
     ]
    },
    {
     "name": "stdout",
     "output_type": "stream",
     "text": [
      "Number of molecules:\n",
      "point \t 2025\n",
      "\n",
      "Filling system:\n"
     ]
    },
    {
     "name": "stderr",
     "output_type": "stream",
     "text": [
      "100%|██████████| 2025/2025 [00:00<00:00, 7428.74it/s] \n",
      "mkdir: synthetic/130: File exists\n",
      "mkdir: synthetic/130/droplet: File exists\n"
     ]
    },
    {
     "name": "stdout",
     "output_type": "stream",
     "text": [
      "Number of molecules:\n",
      "point \t 2025\n",
      "\n",
      "Filling system:\n"
     ]
    },
    {
     "name": "stderr",
     "output_type": "stream",
     "text": [
      "100%|██████████| 2025/2025 [00:00<00:00, 7461.39it/s] \n",
      "mkdir: synthetic/130: File exists\n",
      "mkdir: synthetic/130/droplet: File exists\n"
     ]
    },
    {
     "name": "stdout",
     "output_type": "stream",
     "text": [
      "Number of molecules:\n",
      "point \t 2025\n",
      "\n",
      "Filling system:\n"
     ]
    },
    {
     "name": "stderr",
     "output_type": "stream",
     "text": [
      "100%|██████████| 2025/2025 [00:00<00:00, 7479.59it/s] \n",
      "mkdir: synthetic/130: File exists\n",
      "mkdir: synthetic/130/droplet: File exists\n"
     ]
    },
    {
     "name": "stdout",
     "output_type": "stream",
     "text": [
      "Number of molecules:\n",
      "point \t 4050\n",
      "\n",
      "Filling system:\n"
     ]
    },
    {
     "name": "stderr",
     "output_type": "stream",
     "text": [
      "100%|██████████| 4050/4050 [00:00<00:00, 4460.39it/s]\n",
      "mkdir: synthetic/130: File exists\n",
      "mkdir: synthetic/130/doughnut: File exists\n"
     ]
    },
    {
     "name": "stdout",
     "output_type": "stream",
     "text": [
      "Number of molecules:\n",
      "point \t 4050\n",
      "\n",
      "Filling system:\n"
     ]
    },
    {
     "name": "stderr",
     "output_type": "stream",
     "text": [
      "100%|██████████| 4050/4050 [00:00<00:00, 4484.13it/s]\n",
      "mkdir: synthetic/130: File exists\n",
      "mkdir: synthetic/130/doughnut: File exists\n"
     ]
    },
    {
     "name": "stdout",
     "output_type": "stream",
     "text": [
      "Number of molecules:\n",
      "point \t 4050\n",
      "\n",
      "Filling system:\n"
     ]
    },
    {
     "name": "stderr",
     "output_type": "stream",
     "text": [
      "100%|██████████| 4050/4050 [00:00<00:00, 4450.06it/s]\n",
      "mkdir: synthetic/130: File exists\n",
      "mkdir: synthetic/130/doughnut: File exists\n"
     ]
    },
    {
     "name": "stdout",
     "output_type": "stream",
     "text": [
      "Number of molecules:\n",
      "point \t 4050\n",
      "\n",
      "Filling system:\n"
     ]
    },
    {
     "name": "stderr",
     "output_type": "stream",
     "text": [
      "100%|██████████| 4050/4050 [00:00<00:00, 4507.01it/s]\n",
      "mkdir: synthetic/130: File exists\n",
      "mkdir: synthetic/130/doughnut: File exists\n"
     ]
    },
    {
     "name": "stdout",
     "output_type": "stream",
     "text": [
      "Number of molecules:\n",
      "point \t 4050\n",
      "\n",
      "Filling system:\n"
     ]
    },
    {
     "name": "stderr",
     "output_type": "stream",
     "text": [
      "100%|██████████| 4050/4050 [00:00<00:00, 4456.57it/s]\n",
      "mkdir: synthetic/130: File exists\n",
      "mkdir: synthetic/130/doughnut: File exists\n"
     ]
    },
    {
     "name": "stdout",
     "output_type": "stream",
     "text": [
      "Number of molecules:\n",
      "point \t 4050\n",
      "\n",
      "Filling system:\n"
     ]
    },
    {
     "name": "stderr",
     "output_type": "stream",
     "text": [
      "100%|██████████| 4050/4050 [00:00<00:00, 4410.46it/s]\n",
      "mkdir: synthetic/130: File exists\n",
      "mkdir: synthetic/130/doughnut: File exists\n"
     ]
    },
    {
     "name": "stdout",
     "output_type": "stream",
     "text": [
      "Number of molecules:\n",
      "point \t 4050\n",
      "\n",
      "Filling system:\n"
     ]
    },
    {
     "name": "stderr",
     "output_type": "stream",
     "text": [
      "100%|██████████| 4050/4050 [00:00<00:00, 4417.94it/s]\n",
      "mkdir: synthetic/130: File exists\n",
      "mkdir: synthetic/130/doughnut: File exists\n"
     ]
    },
    {
     "name": "stdout",
     "output_type": "stream",
     "text": [
      "Number of molecules:\n",
      "point \t 4050\n",
      "\n",
      "Filling system:\n"
     ]
    },
    {
     "name": "stderr",
     "output_type": "stream",
     "text": [
      "100%|██████████| 4050/4050 [00:00<00:00, 4523.65it/s]\n",
      "mkdir: synthetic/130: File exists\n",
      "mkdir: synthetic/130/doughnut: File exists\n"
     ]
    },
    {
     "name": "stdout",
     "output_type": "stream",
     "text": [
      "Number of molecules:\n",
      "point \t 4050\n",
      "\n",
      "Filling system:\n"
     ]
    },
    {
     "name": "stderr",
     "output_type": "stream",
     "text": [
      "100%|██████████| 4050/4050 [00:00<00:00, 4459.13it/s]\n",
      "mkdir: synthetic/130: File exists\n",
      "mkdir: synthetic/130/doughnut: File exists\n"
     ]
    },
    {
     "name": "stdout",
     "output_type": "stream",
     "text": [
      "Number of molecules:\n",
      "point \t 4050\n",
      "\n",
      "Filling system:\n"
     ]
    },
    {
     "name": "stderr",
     "output_type": "stream",
     "text": [
      "100%|██████████| 4050/4050 [00:00<00:00, 4479.59it/s]\n",
      "mkdir: synthetic/130: File exists\n",
      "mkdir: synthetic/130/doughnut: File exists\n"
     ]
    },
    {
     "name": "stdout",
     "output_type": "stream",
     "text": [
      "Number of molecules:\n",
      "point \t 6075\n",
      "\n",
      "Filling system:\n"
     ]
    },
    {
     "name": "stderr",
     "output_type": "stream",
     "text": [
      "100%|██████████| 6075/6075 [00:01<00:00, 3603.94it/s] \n",
      "mkdir: synthetic/130: File exists\n",
      "mkdir: synthetic/130/worm: File exists\n"
     ]
    },
    {
     "name": "stdout",
     "output_type": "stream",
     "text": [
      "Number of molecules:\n",
      "point \t 6075\n",
      "\n",
      "Filling system:\n"
     ]
    },
    {
     "name": "stderr",
     "output_type": "stream",
     "text": [
      "100%|██████████| 6075/6075 [00:01<00:00, 3575.41it/s]\n",
      "mkdir: synthetic/130: File exists\n",
      "mkdir: synthetic/130/worm: File exists\n"
     ]
    },
    {
     "name": "stdout",
     "output_type": "stream",
     "text": [
      "Number of molecules:\n",
      "point \t 6075\n",
      "\n",
      "Filling system:\n"
     ]
    },
    {
     "name": "stderr",
     "output_type": "stream",
     "text": [
      "100%|██████████| 6075/6075 [00:01<00:00, 3567.96it/s] \n",
      "mkdir: synthetic/130: File exists\n",
      "mkdir: synthetic/130/worm: File exists\n"
     ]
    },
    {
     "name": "stdout",
     "output_type": "stream",
     "text": [
      "Number of molecules:\n",
      "point \t 6075\n",
      "\n",
      "Filling system:\n"
     ]
    },
    {
     "name": "stderr",
     "output_type": "stream",
     "text": [
      "100%|██████████| 6075/6075 [00:01<00:00, 3608.77it/s] \n",
      "mkdir: synthetic/130: File exists\n",
      "mkdir: synthetic/130/worm: File exists\n"
     ]
    },
    {
     "name": "stdout",
     "output_type": "stream",
     "text": [
      "Number of molecules:\n",
      "point \t 6075\n",
      "\n",
      "Filling system:\n"
     ]
    },
    {
     "name": "stderr",
     "output_type": "stream",
     "text": [
      "100%|██████████| 6075/6075 [00:01<00:00, 3538.36it/s] \n",
      "mkdir: synthetic/130: File exists\n",
      "mkdir: synthetic/130/worm: File exists\n"
     ]
    },
    {
     "name": "stdout",
     "output_type": "stream",
     "text": [
      "Number of molecules:\n",
      "point \t 6075\n",
      "\n",
      "Filling system:\n"
     ]
    },
    {
     "name": "stderr",
     "output_type": "stream",
     "text": [
      "100%|██████████| 6075/6075 [00:01<00:00, 3557.79it/s] \n",
      "mkdir: synthetic/130: File exists\n",
      "mkdir: synthetic/130/worm: File exists\n"
     ]
    },
    {
     "name": "stdout",
     "output_type": "stream",
     "text": [
      "Number of molecules:\n",
      "point \t 6075\n",
      "\n",
      "Filling system:\n"
     ]
    },
    {
     "name": "stderr",
     "output_type": "stream",
     "text": [
      "100%|██████████| 6075/6075 [00:01<00:00, 3653.48it/s] \n",
      "mkdir: synthetic/130: File exists\n",
      "mkdir: synthetic/130/worm: File exists\n"
     ]
    },
    {
     "name": "stdout",
     "output_type": "stream",
     "text": [
      "Number of molecules:\n",
      "point \t 6075\n",
      "\n",
      "Filling system:\n"
     ]
    },
    {
     "name": "stderr",
     "output_type": "stream",
     "text": [
      "100%|██████████| 6075/6075 [00:01<00:00, 3599.78it/s] \n",
      "mkdir: synthetic/130: File exists\n",
      "mkdir: synthetic/130/worm: File exists\n"
     ]
    },
    {
     "name": "stdout",
     "output_type": "stream",
     "text": [
      "Number of molecules:\n",
      "point \t 6075\n",
      "\n",
      "Filling system:\n"
     ]
    },
    {
     "name": "stderr",
     "output_type": "stream",
     "text": [
      "100%|██████████| 6075/6075 [00:01<00:00, 3640.52it/s] \n",
      "mkdir: synthetic/130: File exists\n",
      "mkdir: synthetic/130/worm: File exists\n"
     ]
    },
    {
     "name": "stdout",
     "output_type": "stream",
     "text": [
      "Number of molecules:\n",
      "point \t 6075\n",
      "\n",
      "Filling system:\n"
     ]
    },
    {
     "name": "stderr",
     "output_type": "stream",
     "text": [
      "100%|██████████| 6075/6075 [00:01<00:00, 3656.00it/s] \n",
      "mkdir: synthetic/130: File exists\n",
      "mkdir: synthetic/130/worm: File exists\n"
     ]
    },
    {
     "name": "stdout",
     "output_type": "stream",
     "text": [
      "Number of molecules:\n",
      "point \t 6750\n",
      "\n",
      "Filling system:\n"
     ]
    },
    {
     "name": "stderr",
     "output_type": "stream",
     "text": [
      "100%|██████████| 6750/6750 [00:02<00:00, 3269.96it/s] \n",
      "mkdir: synthetic/130: File exists\n",
      "mkdir: synthetic/130/roll: File exists\n"
     ]
    },
    {
     "name": "stdout",
     "output_type": "stream",
     "text": [
      "Number of molecules:\n",
      "point \t 6750\n",
      "\n",
      "Filling system:\n"
     ]
    },
    {
     "name": "stderr",
     "output_type": "stream",
     "text": [
      "100%|██████████| 6750/6750 [00:02<00:00, 3187.29it/s] \n",
      "mkdir: synthetic/130: File exists\n",
      "mkdir: synthetic/130/roll: File exists\n"
     ]
    },
    {
     "name": "stdout",
     "output_type": "stream",
     "text": [
      "Number of molecules:\n",
      "point \t 6750\n",
      "\n",
      "Filling system:\n"
     ]
    },
    {
     "name": "stderr",
     "output_type": "stream",
     "text": [
      "100%|██████████| 6750/6750 [00:02<00:00, 3200.38it/s] \n",
      "mkdir: synthetic/130: File exists\n",
      "mkdir: synthetic/130/roll: File exists\n"
     ]
    },
    {
     "name": "stdout",
     "output_type": "stream",
     "text": [
      "Number of molecules:\n",
      "point \t 6750\n",
      "\n",
      "Filling system:\n"
     ]
    },
    {
     "name": "stderr",
     "output_type": "stream",
     "text": [
      "100%|██████████| 6750/6750 [00:02<00:00, 3121.75it/s] \n",
      "mkdir: synthetic/130: File exists\n",
      "mkdir: synthetic/130/roll: File exists\n"
     ]
    },
    {
     "name": "stdout",
     "output_type": "stream",
     "text": [
      "Number of molecules:\n",
      "point \t 6750\n",
      "\n",
      "Filling system:\n"
     ]
    },
    {
     "name": "stderr",
     "output_type": "stream",
     "text": [
      "100%|██████████| 6750/6750 [00:02<00:00, 3244.55it/s] \n",
      "mkdir: synthetic/130: File exists\n",
      "mkdir: synthetic/130/roll: File exists\n"
     ]
    },
    {
     "name": "stdout",
     "output_type": "stream",
     "text": [
      "Number of molecules:\n",
      "point \t 6750\n",
      "\n",
      "Filling system:\n"
     ]
    },
    {
     "name": "stderr",
     "output_type": "stream",
     "text": [
      "100%|██████████| 6750/6750 [00:02<00:00, 3230.49it/s] \n",
      "mkdir: synthetic/130: File exists\n",
      "mkdir: synthetic/130/roll: File exists\n"
     ]
    },
    {
     "name": "stdout",
     "output_type": "stream",
     "text": [
      "Number of molecules:\n",
      "point \t 6750\n",
      "\n",
      "Filling system:\n"
     ]
    },
    {
     "name": "stderr",
     "output_type": "stream",
     "text": [
      "100%|██████████| 6750/6750 [00:02<00:00, 3215.45it/s]\n",
      "mkdir: synthetic/130: File exists\n",
      "mkdir: synthetic/130/roll: File exists\n"
     ]
    },
    {
     "name": "stdout",
     "output_type": "stream",
     "text": [
      "Number of molecules:\n",
      "point \t 6750\n",
      "\n",
      "Filling system:\n"
     ]
    },
    {
     "name": "stderr",
     "output_type": "stream",
     "text": [
      "100%|██████████| 6750/6750 [00:02<00:00, 3171.97it/s] \n",
      "mkdir: synthetic/130: File exists\n",
      "mkdir: synthetic/130/roll: File exists\n"
     ]
    },
    {
     "name": "stdout",
     "output_type": "stream",
     "text": [
      "Number of molecules:\n",
      "point \t 6750\n",
      "\n",
      "Filling system:\n"
     ]
    },
    {
     "name": "stderr",
     "output_type": "stream",
     "text": [
      "100%|██████████| 6750/6750 [00:02<00:00, 3284.51it/s] \n",
      "mkdir: synthetic/130: File exists\n",
      "mkdir: synthetic/130/roll: File exists\n"
     ]
    },
    {
     "name": "stdout",
     "output_type": "stream",
     "text": [
      "Number of molecules:\n",
      "point \t 6750\n",
      "\n",
      "Filling system:\n"
     ]
    },
    {
     "name": "stderr",
     "output_type": "stream",
     "text": [
      "100%|██████████| 6750/6750 [00:02<00:00, 3229.28it/s] \n",
      "mkdir: synthetic/130: File exists\n",
      "mkdir: synthetic/130/roll: File exists\n"
     ]
    },
    {
     "name": "stdout",
     "output_type": "stream",
     "text": [
      "Number of molecules:\n",
      "point \t 16200\n",
      "\n",
      "Filling system:\n"
     ]
    },
    {
     "name": "stderr",
     "output_type": "stream",
     "text": [
      "100%|██████████| 16200/16200 [00:10<00:00, 1517.22it/s]\n",
      "mkdir: synthetic/130: File exists\n",
      "mkdir: synthetic/130/perforation: File exists\n"
     ]
    },
    {
     "name": "stdout",
     "output_type": "stream",
     "text": [
      "Number of molecules:\n",
      "point \t 16200\n",
      "\n",
      "Filling system:\n"
     ]
    },
    {
     "name": "stderr",
     "output_type": "stream",
     "text": [
      "100%|██████████| 16200/16200 [00:10<00:00, 1526.31it/s]\n",
      "mkdir: synthetic/130: File exists\n",
      "mkdir: synthetic/130/perforation: File exists\n"
     ]
    },
    {
     "name": "stdout",
     "output_type": "stream",
     "text": [
      "Number of molecules:\n",
      "point \t 16200\n",
      "\n",
      "Filling system:\n"
     ]
    },
    {
     "name": "stderr",
     "output_type": "stream",
     "text": [
      "100%|██████████| 16200/16200 [00:10<00:00, 1484.62it/s]\n",
      "mkdir: synthetic/130: File exists\n",
      "mkdir: synthetic/130/perforation: File exists\n"
     ]
    },
    {
     "name": "stdout",
     "output_type": "stream",
     "text": [
      "Number of molecules:\n",
      "point \t 16200\n",
      "\n",
      "Filling system:\n"
     ]
    },
    {
     "name": "stderr",
     "output_type": "stream",
     "text": [
      "100%|██████████| 16200/16200 [00:10<00:00, 1511.70it/s]\n",
      "mkdir: synthetic/130: File exists\n",
      "mkdir: synthetic/130/perforation: File exists\n"
     ]
    },
    {
     "name": "stdout",
     "output_type": "stream",
     "text": [
      "Number of molecules:\n",
      "point \t 16200\n",
      "\n",
      "Filling system:\n"
     ]
    },
    {
     "name": "stderr",
     "output_type": "stream",
     "text": [
      "100%|██████████| 16200/16200 [00:11<00:00, 1470.52it/s]\n",
      "mkdir: synthetic/130: File exists\n",
      "mkdir: synthetic/130/perforation: File exists\n"
     ]
    },
    {
     "name": "stdout",
     "output_type": "stream",
     "text": [
      "Number of molecules:\n",
      "point \t 16200\n",
      "\n",
      "Filling system:\n"
     ]
    },
    {
     "name": "stderr",
     "output_type": "stream",
     "text": [
      "100%|██████████| 16200/16200 [00:10<00:00, 1509.15it/s]\n",
      "mkdir: synthetic/130: File exists\n",
      "mkdir: synthetic/130/perforation: File exists\n"
     ]
    },
    {
     "name": "stdout",
     "output_type": "stream",
     "text": [
      "Number of molecules:\n",
      "point \t 16200\n",
      "\n",
      "Filling system:\n"
     ]
    },
    {
     "name": "stderr",
     "output_type": "stream",
     "text": [
      "100%|██████████| 16200/16200 [00:10<00:00, 1491.22it/s]\n",
      "mkdir: synthetic/130: File exists\n",
      "mkdir: synthetic/130/perforation: File exists\n"
     ]
    },
    {
     "name": "stdout",
     "output_type": "stream",
     "text": [
      "Number of molecules:\n",
      "point \t 16200\n",
      "\n",
      "Filling system:\n"
     ]
    },
    {
     "name": "stderr",
     "output_type": "stream",
     "text": [
      "100%|██████████| 16200/16200 [00:10<00:00, 1480.69it/s]\n",
      "mkdir: synthetic/130: File exists\n",
      "mkdir: synthetic/130/perforation: File exists\n"
     ]
    },
    {
     "name": "stdout",
     "output_type": "stream",
     "text": [
      "Number of molecules:\n",
      "point \t 16200\n",
      "\n",
      "Filling system:\n"
     ]
    },
    {
     "name": "stderr",
     "output_type": "stream",
     "text": [
      "100%|██████████| 16200/16200 [00:10<00:00, 1479.21it/s]\n",
      "mkdir: synthetic/130: File exists\n",
      "mkdir: synthetic/130/perforation: File exists\n"
     ]
    },
    {
     "name": "stdout",
     "output_type": "stream",
     "text": [
      "Number of molecules:\n",
      "point \t 16200\n",
      "\n",
      "Filling system:\n"
     ]
    },
    {
     "name": "stderr",
     "output_type": "stream",
     "text": [
      "100%|██████████| 16200/16200 [00:10<00:00, 1492.87it/s]\n",
      "mkdir: synthetic/130: File exists\n",
      "mkdir: synthetic/130/perforation: File exists\n"
     ]
    },
    {
     "name": "stdout",
     "output_type": "stream",
     "text": [
      "Number of molecules:\n",
      "point \t 2025\n",
      "\n",
      "Filling system:\n"
     ]
    },
    {
     "name": "stderr",
     "output_type": "stream",
     "text": [
      "100%|██████████| 2025/2025 [00:00<00:00, 7486.86it/s] \n",
      "mkdir: synthetic/120: File exists\n",
      "mkdir: synthetic/120/droplet: File exists\n"
     ]
    },
    {
     "name": "stdout",
     "output_type": "stream",
     "text": [
      "Number of molecules:\n",
      "point \t 2025\n",
      "\n",
      "Filling system:\n"
     ]
    },
    {
     "name": "stderr",
     "output_type": "stream",
     "text": [
      "100%|██████████| 2025/2025 [00:00<00:00, 7202.13it/s] \n",
      "mkdir: synthetic/120: File exists\n",
      "mkdir: synthetic/120/droplet: File exists\n"
     ]
    },
    {
     "name": "stdout",
     "output_type": "stream",
     "text": [
      "Number of molecules:\n",
      "point \t 2025\n",
      "\n",
      "Filling system:\n"
     ]
    },
    {
     "name": "stderr",
     "output_type": "stream",
     "text": [
      "100%|██████████| 2025/2025 [00:00<00:00, 7471.25it/s] \n",
      "mkdir: synthetic/120: File exists\n",
      "mkdir: synthetic/120/droplet: File exists\n"
     ]
    },
    {
     "name": "stdout",
     "output_type": "stream",
     "text": [
      "Number of molecules:\n",
      "point \t 2025\n",
      "\n",
      "Filling system:\n"
     ]
    },
    {
     "name": "stderr",
     "output_type": "stream",
     "text": [
      "100%|██████████| 2025/2025 [00:00<00:00, 7483.14it/s] \n",
      "mkdir: synthetic/120: File exists\n",
      "mkdir: synthetic/120/droplet: File exists\n"
     ]
    },
    {
     "name": "stdout",
     "output_type": "stream",
     "text": [
      "Number of molecules:\n",
      "point \t 2025\n",
      "\n",
      "Filling system:\n"
     ]
    },
    {
     "name": "stderr",
     "output_type": "stream",
     "text": [
      "100%|██████████| 2025/2025 [00:00<00:00, 7432.74it/s] \n",
      "mkdir: synthetic/120: File exists\n",
      "mkdir: synthetic/120/droplet: File exists\n"
     ]
    },
    {
     "name": "stdout",
     "output_type": "stream",
     "text": [
      "Number of molecules:\n",
      "point \t 2025\n",
      "\n",
      "Filling system:\n"
     ]
    },
    {
     "name": "stderr",
     "output_type": "stream",
     "text": [
      "100%|██████████| 2025/2025 [00:00<00:00, 7515.08it/s] \n",
      "mkdir: synthetic/120: File exists\n",
      "mkdir: synthetic/120/droplet: File exists\n"
     ]
    },
    {
     "name": "stdout",
     "output_type": "stream",
     "text": [
      "Number of molecules:\n",
      "point \t 2025\n",
      "\n",
      "Filling system:\n"
     ]
    },
    {
     "name": "stderr",
     "output_type": "stream",
     "text": [
      "100%|██████████| 2025/2025 [00:00<00:00, 7611.32it/s] \n",
      "mkdir: synthetic/120: File exists\n",
      "mkdir: synthetic/120/droplet: File exists\n"
     ]
    },
    {
     "name": "stdout",
     "output_type": "stream",
     "text": [
      "Number of molecules:\n",
      "point \t 2025\n",
      "\n",
      "Filling system:\n"
     ]
    },
    {
     "name": "stderr",
     "output_type": "stream",
     "text": [
      "100%|██████████| 2025/2025 [00:00<00:00, 7355.32it/s] \n",
      "mkdir: synthetic/120: File exists\n",
      "mkdir: synthetic/120/droplet: File exists\n"
     ]
    },
    {
     "name": "stdout",
     "output_type": "stream",
     "text": [
      "Number of molecules:\n",
      "point \t 2025\n",
      "\n",
      "Filling system:\n"
     ]
    },
    {
     "name": "stderr",
     "output_type": "stream",
     "text": [
      "100%|██████████| 2025/2025 [00:00<00:00, 7510.29it/s] \n",
      "mkdir: synthetic/120: File exists\n",
      "mkdir: synthetic/120/droplet: File exists\n"
     ]
    },
    {
     "name": "stdout",
     "output_type": "stream",
     "text": [
      "Number of molecules:\n",
      "point \t 2025\n",
      "\n",
      "Filling system:\n"
     ]
    },
    {
     "name": "stderr",
     "output_type": "stream",
     "text": [
      "100%|██████████| 2025/2025 [00:00<00:00, 7464.36it/s] \n",
      "mkdir: synthetic/120: File exists\n",
      "mkdir: synthetic/120/droplet: File exists\n"
     ]
    },
    {
     "name": "stdout",
     "output_type": "stream",
     "text": [
      "Number of molecules:\n",
      "point \t 4050\n",
      "\n",
      "Filling system:\n"
     ]
    },
    {
     "name": "stderr",
     "output_type": "stream",
     "text": [
      "100%|██████████| 4050/4050 [00:00<00:00, 4400.11it/s]\n",
      "mkdir: synthetic/120: File exists\n",
      "mkdir: synthetic/120/doughnut: File exists\n"
     ]
    },
    {
     "name": "stdout",
     "output_type": "stream",
     "text": [
      "Number of molecules:\n",
      "point \t 4050\n",
      "\n",
      "Filling system:\n"
     ]
    },
    {
     "name": "stderr",
     "output_type": "stream",
     "text": [
      "100%|██████████| 4050/4050 [00:00<00:00, 4438.47it/s]\n",
      "mkdir: synthetic/120: File exists\n",
      "mkdir: synthetic/120/doughnut: File exists\n"
     ]
    },
    {
     "name": "stdout",
     "output_type": "stream",
     "text": [
      "Number of molecules:\n",
      "point \t 4050\n",
      "\n",
      "Filling system:\n"
     ]
    },
    {
     "name": "stderr",
     "output_type": "stream",
     "text": [
      "100%|██████████| 4050/4050 [00:00<00:00, 4455.30it/s]\n",
      "mkdir: synthetic/120: File exists\n",
      "mkdir: synthetic/120/doughnut: File exists\n"
     ]
    },
    {
     "name": "stdout",
     "output_type": "stream",
     "text": [
      "Number of molecules:\n",
      "point \t 4050\n",
      "\n",
      "Filling system:\n"
     ]
    },
    {
     "name": "stderr",
     "output_type": "stream",
     "text": [
      "100%|██████████| 4050/4050 [00:00<00:00, 4469.54it/s]\n",
      "mkdir: synthetic/120: File exists\n",
      "mkdir: synthetic/120/doughnut: File exists\n"
     ]
    },
    {
     "name": "stdout",
     "output_type": "stream",
     "text": [
      "Number of molecules:\n",
      "point \t 4050\n",
      "\n",
      "Filling system:\n"
     ]
    },
    {
     "name": "stderr",
     "output_type": "stream",
     "text": [
      "100%|██████████| 4050/4050 [00:00<00:00, 4492.61it/s]\n",
      "mkdir: synthetic/120: File exists\n",
      "mkdir: synthetic/120/doughnut: File exists\n"
     ]
    },
    {
     "name": "stdout",
     "output_type": "stream",
     "text": [
      "Number of molecules:\n",
      "point \t 4050\n",
      "\n",
      "Filling system:\n"
     ]
    },
    {
     "name": "stderr",
     "output_type": "stream",
     "text": [
      "100%|██████████| 4050/4050 [00:00<00:00, 4489.60it/s]\n",
      "mkdir: synthetic/120: File exists\n",
      "mkdir: synthetic/120/doughnut: File exists\n"
     ]
    },
    {
     "name": "stdout",
     "output_type": "stream",
     "text": [
      "Number of molecules:\n",
      "point \t 4050\n",
      "\n",
      "Filling system:\n"
     ]
    },
    {
     "name": "stderr",
     "output_type": "stream",
     "text": [
      "100%|██████████| 4050/4050 [00:00<00:00, 4479.32it/s]\n",
      "mkdir: synthetic/120: File exists\n",
      "mkdir: synthetic/120/doughnut: File exists\n"
     ]
    },
    {
     "name": "stdout",
     "output_type": "stream",
     "text": [
      "Number of molecules:\n",
      "point \t 4050\n",
      "\n",
      "Filling system:\n"
     ]
    },
    {
     "name": "stderr",
     "output_type": "stream",
     "text": [
      "100%|██████████| 4050/4050 [00:00<00:00, 4507.31it/s]\n",
      "mkdir: synthetic/120: File exists\n",
      "mkdir: synthetic/120/doughnut: File exists\n"
     ]
    },
    {
     "name": "stdout",
     "output_type": "stream",
     "text": [
      "Number of molecules:\n",
      "point \t 4050\n",
      "\n",
      "Filling system:\n"
     ]
    },
    {
     "name": "stderr",
     "output_type": "stream",
     "text": [
      "100%|██████████| 4050/4050 [00:00<00:00, 4464.03it/s]\n",
      "mkdir: synthetic/120: File exists\n",
      "mkdir: synthetic/120/doughnut: File exists\n"
     ]
    },
    {
     "name": "stdout",
     "output_type": "stream",
     "text": [
      "Number of molecules:\n",
      "point \t 4050\n",
      "\n",
      "Filling system:\n"
     ]
    },
    {
     "name": "stderr",
     "output_type": "stream",
     "text": [
      "100%|██████████| 4050/4050 [00:00<00:00, 4520.24it/s]\n",
      "mkdir: synthetic/120: File exists\n",
      "mkdir: synthetic/120/doughnut: File exists\n"
     ]
    },
    {
     "name": "stdout",
     "output_type": "stream",
     "text": [
      "Number of molecules:\n",
      "point \t 6075\n",
      "\n",
      "Filling system:\n"
     ]
    },
    {
     "name": "stderr",
     "output_type": "stream",
     "text": [
      "100%|██████████| 6075/6075 [00:01<00:00, 3682.59it/s] \n",
      "mkdir: synthetic/120: File exists\n",
      "mkdir: synthetic/120/worm: File exists\n"
     ]
    },
    {
     "name": "stdout",
     "output_type": "stream",
     "text": [
      "Number of molecules:\n",
      "point \t 6075\n",
      "\n",
      "Filling system:\n"
     ]
    },
    {
     "name": "stderr",
     "output_type": "stream",
     "text": [
      "100%|██████████| 6075/6075 [00:01<00:00, 3602.93it/s] \n",
      "mkdir: synthetic/120: File exists\n",
      "mkdir: synthetic/120/worm: File exists\n"
     ]
    },
    {
     "name": "stdout",
     "output_type": "stream",
     "text": [
      "Number of molecules:\n",
      "point \t 6075\n",
      "\n",
      "Filling system:\n"
     ]
    },
    {
     "name": "stderr",
     "output_type": "stream",
     "text": [
      "100%|██████████| 6075/6075 [00:01<00:00, 3564.16it/s] \n",
      "mkdir: synthetic/120: File exists\n",
      "mkdir: synthetic/120/worm: File exists\n"
     ]
    },
    {
     "name": "stdout",
     "output_type": "stream",
     "text": [
      "Number of molecules:\n",
      "point \t 6075\n",
      "\n",
      "Filling system:\n"
     ]
    },
    {
     "name": "stderr",
     "output_type": "stream",
     "text": [
      "100%|██████████| 6075/6075 [00:01<00:00, 3657.18it/s] \n",
      "mkdir: synthetic/120: File exists\n",
      "mkdir: synthetic/120/worm: File exists\n"
     ]
    },
    {
     "name": "stdout",
     "output_type": "stream",
     "text": [
      "Number of molecules:\n",
      "point \t 6075\n",
      "\n",
      "Filling system:\n"
     ]
    },
    {
     "name": "stderr",
     "output_type": "stream",
     "text": [
      "100%|██████████| 6075/6075 [00:01<00:00, 3592.06it/s] \n",
      "mkdir: synthetic/120: File exists\n",
      "mkdir: synthetic/120/worm: File exists\n"
     ]
    },
    {
     "name": "stdout",
     "output_type": "stream",
     "text": [
      "Number of molecules:\n",
      "point \t 6075\n",
      "\n",
      "Filling system:\n"
     ]
    },
    {
     "name": "stderr",
     "output_type": "stream",
     "text": [
      "100%|██████████| 6075/6075 [00:01<00:00, 3582.29it/s] \n",
      "mkdir: synthetic/120: File exists\n",
      "mkdir: synthetic/120/worm: File exists\n"
     ]
    },
    {
     "name": "stdout",
     "output_type": "stream",
     "text": [
      "Number of molecules:\n",
      "point \t 6075\n",
      "\n",
      "Filling system:\n"
     ]
    },
    {
     "name": "stderr",
     "output_type": "stream",
     "text": [
      "100%|██████████| 6075/6075 [00:01<00:00, 3550.64it/s] \n",
      "mkdir: synthetic/120: File exists\n",
      "mkdir: synthetic/120/worm: File exists\n"
     ]
    },
    {
     "name": "stdout",
     "output_type": "stream",
     "text": [
      "Number of molecules:\n",
      "point \t 6075\n",
      "\n",
      "Filling system:\n"
     ]
    },
    {
     "name": "stderr",
     "output_type": "stream",
     "text": [
      "100%|██████████| 6075/6075 [00:01<00:00, 3566.20it/s] \n",
      "mkdir: synthetic/120: File exists\n",
      "mkdir: synthetic/120/worm: File exists\n"
     ]
    },
    {
     "name": "stdout",
     "output_type": "stream",
     "text": [
      "Number of molecules:\n",
      "point \t 6075\n",
      "\n",
      "Filling system:\n"
     ]
    },
    {
     "name": "stderr",
     "output_type": "stream",
     "text": [
      "100%|██████████| 6075/6075 [00:01<00:00, 3632.73it/s] \n",
      "mkdir: synthetic/120: File exists\n",
      "mkdir: synthetic/120/worm: File exists\n"
     ]
    },
    {
     "name": "stdout",
     "output_type": "stream",
     "text": [
      "Number of molecules:\n",
      "point \t 6075\n",
      "\n",
      "Filling system:\n"
     ]
    },
    {
     "name": "stderr",
     "output_type": "stream",
     "text": [
      "100%|██████████| 6075/6075 [00:01<00:00, 3646.01it/s] \n",
      "mkdir: synthetic/120: File exists\n",
      "mkdir: synthetic/120/worm: File exists\n"
     ]
    },
    {
     "name": "stdout",
     "output_type": "stream",
     "text": [
      "Number of molecules:\n",
      "point \t 6750\n",
      "\n",
      "Filling system:\n"
     ]
    },
    {
     "name": "stderr",
     "output_type": "stream",
     "text": [
      "100%|██████████| 6750/6750 [00:02<00:00, 3149.20it/s] \n",
      "mkdir: synthetic/120: File exists\n",
      "mkdir: synthetic/120/roll: File exists\n"
     ]
    },
    {
     "name": "stdout",
     "output_type": "stream",
     "text": [
      "Number of molecules:\n",
      "point \t 6750\n",
      "\n",
      "Filling system:\n"
     ]
    },
    {
     "name": "stderr",
     "output_type": "stream",
     "text": [
      "100%|██████████| 6750/6750 [00:02<00:00, 3235.28it/s] \n",
      "mkdir: synthetic/120: File exists\n",
      "mkdir: synthetic/120/roll: File exists\n"
     ]
    },
    {
     "name": "stdout",
     "output_type": "stream",
     "text": [
      "Number of molecules:\n",
      "point \t 6750\n",
      "\n",
      "Filling system:\n"
     ]
    },
    {
     "name": "stderr",
     "output_type": "stream",
     "text": [
      "100%|██████████| 6750/6750 [00:02<00:00, 3289.96it/s] \n",
      "mkdir: synthetic/120: File exists\n",
      "mkdir: synthetic/120/roll: File exists\n"
     ]
    },
    {
     "name": "stdout",
     "output_type": "stream",
     "text": [
      "Number of molecules:\n",
      "point \t 6750\n",
      "\n",
      "Filling system:\n"
     ]
    },
    {
     "name": "stderr",
     "output_type": "stream",
     "text": [
      "100%|██████████| 6750/6750 [00:02<00:00, 3249.49it/s] \n",
      "mkdir: synthetic/120: File exists\n",
      "mkdir: synthetic/120/roll: File exists\n"
     ]
    },
    {
     "name": "stdout",
     "output_type": "stream",
     "text": [
      "Number of molecules:\n",
      "point \t 6750\n",
      "\n",
      "Filling system:\n"
     ]
    },
    {
     "name": "stderr",
     "output_type": "stream",
     "text": [
      "100%|██████████| 6750/6750 [00:02<00:00, 3197.95it/s] \n",
      "mkdir: synthetic/120: File exists\n",
      "mkdir: synthetic/120/roll: File exists\n"
     ]
    },
    {
     "name": "stdout",
     "output_type": "stream",
     "text": [
      "Number of molecules:\n",
      "point \t 6750\n",
      "\n",
      "Filling system:\n"
     ]
    },
    {
     "name": "stderr",
     "output_type": "stream",
     "text": [
      "100%|██████████| 6750/6750 [00:02<00:00, 3253.20it/s] \n",
      "mkdir: synthetic/120: File exists\n",
      "mkdir: synthetic/120/roll: File exists\n"
     ]
    },
    {
     "name": "stdout",
     "output_type": "stream",
     "text": [
      "Number of molecules:\n",
      "point \t 6750\n",
      "\n",
      "Filling system:\n"
     ]
    },
    {
     "name": "stderr",
     "output_type": "stream",
     "text": [
      "100%|██████████| 6750/6750 [00:02<00:00, 3239.55it/s] \n",
      "mkdir: synthetic/120: File exists\n",
      "mkdir: synthetic/120/roll: File exists\n"
     ]
    },
    {
     "name": "stdout",
     "output_type": "stream",
     "text": [
      "Number of molecules:\n",
      "point \t 6750\n",
      "\n",
      "Filling system:\n"
     ]
    },
    {
     "name": "stderr",
     "output_type": "stream",
     "text": [
      "100%|██████████| 6750/6750 [00:02<00:00, 3253.85it/s] \n",
      "mkdir: synthetic/120: File exists\n",
      "mkdir: synthetic/120/roll: File exists\n"
     ]
    },
    {
     "name": "stdout",
     "output_type": "stream",
     "text": [
      "Number of molecules:\n",
      "point \t 6750\n",
      "\n",
      "Filling system:\n"
     ]
    },
    {
     "name": "stderr",
     "output_type": "stream",
     "text": [
      "100%|██████████| 6750/6750 [00:02<00:00, 3298.00it/s] \n",
      "mkdir: synthetic/120: File exists\n",
      "mkdir: synthetic/120/roll: File exists\n"
     ]
    },
    {
     "name": "stdout",
     "output_type": "stream",
     "text": [
      "Number of molecules:\n",
      "point \t 6750\n",
      "\n",
      "Filling system:\n"
     ]
    },
    {
     "name": "stderr",
     "output_type": "stream",
     "text": [
      "100%|██████████| 6750/6750 [00:02<00:00, 3265.89it/s] \n",
      "mkdir: synthetic/120: File exists\n",
      "mkdir: synthetic/120/roll: File exists\n"
     ]
    },
    {
     "name": "stdout",
     "output_type": "stream",
     "text": [
      "Number of molecules:\n",
      "point \t 16200\n",
      "\n",
      "Filling system:\n"
     ]
    },
    {
     "name": "stderr",
     "output_type": "stream",
     "text": [
      "100%|██████████| 16200/16200 [00:10<00:00, 1530.13it/s]\n",
      "mkdir: synthetic/120: File exists\n",
      "mkdir: synthetic/120/perforation: File exists\n"
     ]
    },
    {
     "name": "stdout",
     "output_type": "stream",
     "text": [
      "Number of molecules:\n",
      "point \t 16200\n",
      "\n",
      "Filling system:\n"
     ]
    },
    {
     "name": "stderr",
     "output_type": "stream",
     "text": [
      "100%|██████████| 16200/16200 [00:10<00:00, 1492.82it/s]\n",
      "mkdir: synthetic/120: File exists\n",
      "mkdir: synthetic/120/perforation: File exists\n"
     ]
    },
    {
     "name": "stdout",
     "output_type": "stream",
     "text": [
      "Number of molecules:\n",
      "point \t 16200\n",
      "\n",
      "Filling system:\n"
     ]
    },
    {
     "name": "stderr",
     "output_type": "stream",
     "text": [
      "100%|██████████| 16200/16200 [00:10<00:00, 1511.29it/s]\n",
      "mkdir: synthetic/120: File exists\n",
      "mkdir: synthetic/120/perforation: File exists\n"
     ]
    },
    {
     "name": "stdout",
     "output_type": "stream",
     "text": [
      "Number of molecules:\n",
      "point \t 16200\n",
      "\n",
      "Filling system:\n"
     ]
    },
    {
     "name": "stderr",
     "output_type": "stream",
     "text": [
      "100%|██████████| 16200/16200 [00:10<00:00, 1514.67it/s]\n",
      "mkdir: synthetic/120: File exists\n",
      "mkdir: synthetic/120/perforation: File exists\n"
     ]
    },
    {
     "name": "stdout",
     "output_type": "stream",
     "text": [
      "Number of molecules:\n",
      "point \t 16200\n",
      "\n",
      "Filling system:\n"
     ]
    },
    {
     "name": "stderr",
     "output_type": "stream",
     "text": [
      "100%|██████████| 16200/16200 [00:10<00:00, 1500.26it/s]\n",
      "mkdir: synthetic/120: File exists\n",
      "mkdir: synthetic/120/perforation: File exists\n"
     ]
    },
    {
     "name": "stdout",
     "output_type": "stream",
     "text": [
      "Number of molecules:\n",
      "point \t 16200\n",
      "\n",
      "Filling system:\n"
     ]
    },
    {
     "name": "stderr",
     "output_type": "stream",
     "text": [
      "100%|██████████| 16200/16200 [00:10<00:00, 1497.23it/s]\n",
      "mkdir: synthetic/120: File exists\n",
      "mkdir: synthetic/120/perforation: File exists\n"
     ]
    },
    {
     "name": "stdout",
     "output_type": "stream",
     "text": [
      "Number of molecules:\n",
      "point \t 16200\n",
      "\n",
      "Filling system:\n"
     ]
    },
    {
     "name": "stderr",
     "output_type": "stream",
     "text": [
      "100%|██████████| 16200/16200 [00:10<00:00, 1509.49it/s]\n",
      "mkdir: synthetic/120: File exists\n",
      "mkdir: synthetic/120/perforation: File exists\n"
     ]
    },
    {
     "name": "stdout",
     "output_type": "stream",
     "text": [
      "Number of molecules:\n",
      "point \t 16200\n",
      "\n",
      "Filling system:\n"
     ]
    },
    {
     "name": "stderr",
     "output_type": "stream",
     "text": [
      "100%|██████████| 16200/16200 [00:10<00:00, 1509.01it/s]\n",
      "mkdir: synthetic/120: File exists\n",
      "mkdir: synthetic/120/perforation: File exists\n"
     ]
    },
    {
     "name": "stdout",
     "output_type": "stream",
     "text": [
      "Number of molecules:\n",
      "point \t 16200\n",
      "\n",
      "Filling system:\n"
     ]
    },
    {
     "name": "stderr",
     "output_type": "stream",
     "text": [
      "100%|██████████| 16200/16200 [00:10<00:00, 1497.74it/s]\n",
      "mkdir: synthetic/120: File exists\n",
      "mkdir: synthetic/120/perforation: File exists\n"
     ]
    },
    {
     "name": "stdout",
     "output_type": "stream",
     "text": [
      "Number of molecules:\n",
      "point \t 16200\n",
      "\n",
      "Filling system:\n"
     ]
    },
    {
     "name": "stderr",
     "output_type": "stream",
     "text": [
      "100%|██████████| 16200/16200 [00:10<00:00, 1485.60it/s]\n",
      "mkdir: synthetic/120: File exists\n",
      "mkdir: synthetic/120/perforation: File exists\n"
     ]
    },
    {
     "name": "stdout",
     "output_type": "stream",
     "text": [
      "Number of molecules:\n",
      "point \t 2025\n",
      "\n",
      "Filling system:\n"
     ]
    },
    {
     "name": "stderr",
     "output_type": "stream",
     "text": [
      "100%|██████████| 2025/2025 [00:00<00:00, 7394.03it/s] \n",
      "mkdir: synthetic/110: File exists\n",
      "mkdir: synthetic/110/droplet: File exists\n"
     ]
    },
    {
     "name": "stdout",
     "output_type": "stream",
     "text": [
      "Number of molecules:\n",
      "point \t 2025\n",
      "\n",
      "Filling system:\n"
     ]
    },
    {
     "name": "stderr",
     "output_type": "stream",
     "text": [
      "100%|██████████| 2025/2025 [00:00<00:00, 7261.89it/s] \n",
      "mkdir: synthetic/110: File exists\n",
      "mkdir: synthetic/110/droplet: File exists\n"
     ]
    },
    {
     "name": "stdout",
     "output_type": "stream",
     "text": [
      "Number of molecules:\n",
      "point \t 2025\n",
      "\n",
      "Filling system:\n"
     ]
    },
    {
     "name": "stderr",
     "output_type": "stream",
     "text": [
      "100%|██████████| 2025/2025 [00:00<00:00, 7079.95it/s]\n",
      "mkdir: synthetic/110: File exists\n",
      "mkdir: synthetic/110/droplet: File exists\n"
     ]
    },
    {
     "name": "stdout",
     "output_type": "stream",
     "text": [
      "Number of molecules:\n",
      "point \t 2025\n",
      "\n",
      "Filling system:\n"
     ]
    },
    {
     "name": "stderr",
     "output_type": "stream",
     "text": [
      "100%|██████████| 2025/2025 [00:00<00:00, 7481.94it/s] \n",
      "mkdir: synthetic/110: File exists\n",
      "mkdir: synthetic/110/droplet: File exists\n"
     ]
    },
    {
     "name": "stdout",
     "output_type": "stream",
     "text": [
      "Number of molecules:\n",
      "point \t 2025\n",
      "\n",
      "Filling system:\n"
     ]
    },
    {
     "name": "stderr",
     "output_type": "stream",
     "text": [
      "100%|██████████| 2025/2025 [00:00<00:00, 6939.40it/s] \n",
      "mkdir: synthetic/110: File exists\n",
      "mkdir: synthetic/110/droplet: File exists\n"
     ]
    },
    {
     "name": "stdout",
     "output_type": "stream",
     "text": [
      "Number of molecules:\n",
      "point \t 2025\n",
      "\n",
      "Filling system:\n"
     ]
    },
    {
     "name": "stderr",
     "output_type": "stream",
     "text": [
      "100%|██████████| 2025/2025 [00:00<00:00, 7508.65it/s] \n",
      "mkdir: synthetic/110: File exists\n",
      "mkdir: synthetic/110/droplet: File exists\n"
     ]
    },
    {
     "name": "stdout",
     "output_type": "stream",
     "text": [
      "Number of molecules:\n",
      "point \t 2025\n",
      "\n",
      "Filling system:\n"
     ]
    },
    {
     "name": "stderr",
     "output_type": "stream",
     "text": [
      "100%|██████████| 2025/2025 [00:00<00:00, 7404.84it/s] \n",
      "mkdir: synthetic/110: File exists\n",
      "mkdir: synthetic/110/droplet: File exists\n"
     ]
    },
    {
     "name": "stdout",
     "output_type": "stream",
     "text": [
      "Number of molecules:\n",
      "point \t 2025\n",
      "\n",
      "Filling system:\n"
     ]
    },
    {
     "name": "stderr",
     "output_type": "stream",
     "text": [
      "100%|██████████| 2025/2025 [00:00<00:00, 7477.82it/s] \n",
      "mkdir: synthetic/110: File exists\n",
      "mkdir: synthetic/110/droplet: File exists\n"
     ]
    },
    {
     "name": "stdout",
     "output_type": "stream",
     "text": [
      "Number of molecules:\n",
      "point \t 2025\n",
      "\n",
      "Filling system:\n"
     ]
    },
    {
     "name": "stderr",
     "output_type": "stream",
     "text": [
      "100%|██████████| 2025/2025 [00:00<00:00, 7022.06it/s] \n",
      "mkdir: synthetic/110: File exists\n",
      "mkdir: synthetic/110/droplet: File exists\n"
     ]
    },
    {
     "name": "stdout",
     "output_type": "stream",
     "text": [
      "Number of molecules:\n",
      "point \t 2025\n",
      "\n",
      "Filling system:\n"
     ]
    },
    {
     "name": "stderr",
     "output_type": "stream",
     "text": [
      "100%|██████████| 2025/2025 [00:00<00:00, 7487.66it/s] \n",
      "mkdir: synthetic/110: File exists\n",
      "mkdir: synthetic/110/droplet: File exists\n"
     ]
    },
    {
     "name": "stdout",
     "output_type": "stream",
     "text": [
      "Number of molecules:\n",
      "point \t 4050\n",
      "\n",
      "Filling system:\n"
     ]
    },
    {
     "name": "stderr",
     "output_type": "stream",
     "text": [
      "100%|██████████| 4050/4050 [00:00<00:00, 4505.29it/s]\n",
      "mkdir: synthetic/110: File exists\n",
      "mkdir: synthetic/110/doughnut: File exists\n"
     ]
    },
    {
     "name": "stdout",
     "output_type": "stream",
     "text": [
      "Number of molecules:\n",
      "point \t 4050\n",
      "\n",
      "Filling system:\n"
     ]
    },
    {
     "name": "stderr",
     "output_type": "stream",
     "text": [
      "100%|██████████| 4050/4050 [00:00<00:00, 4456.78it/s]\n",
      "mkdir: synthetic/110: File exists\n",
      "mkdir: synthetic/110/doughnut: File exists\n"
     ]
    },
    {
     "name": "stdout",
     "output_type": "stream",
     "text": [
      "Number of molecules:\n",
      "point \t 4050\n",
      "\n",
      "Filling system:\n"
     ]
    },
    {
     "name": "stderr",
     "output_type": "stream",
     "text": [
      "100%|██████████| 4050/4050 [00:00<00:00, 4495.93it/s]\n",
      "mkdir: synthetic/110: File exists\n",
      "mkdir: synthetic/110/doughnut: File exists\n"
     ]
    },
    {
     "name": "stdout",
     "output_type": "stream",
     "text": [
      "Number of molecules:\n",
      "point \t 4050\n",
      "\n",
      "Filling system:\n"
     ]
    },
    {
     "name": "stderr",
     "output_type": "stream",
     "text": [
      "100%|██████████| 4050/4050 [00:00<00:00, 4387.68it/s]\n",
      "mkdir: synthetic/110: File exists\n",
      "mkdir: synthetic/110/doughnut: File exists\n"
     ]
    },
    {
     "name": "stdout",
     "output_type": "stream",
     "text": [
      "Number of molecules:\n",
      "point \t 4050\n",
      "\n",
      "Filling system:\n"
     ]
    },
    {
     "name": "stderr",
     "output_type": "stream",
     "text": [
      "100%|██████████| 4050/4050 [00:00<00:00, 4569.91it/s]\n",
      "mkdir: synthetic/110: File exists\n",
      "mkdir: synthetic/110/doughnut: File exists\n"
     ]
    },
    {
     "name": "stdout",
     "output_type": "stream",
     "text": [
      "Number of molecules:\n",
      "point \t 4050\n",
      "\n",
      "Filling system:\n"
     ]
    },
    {
     "name": "stderr",
     "output_type": "stream",
     "text": [
      "100%|██████████| 4050/4050 [00:00<00:00, 4508.28it/s]\n",
      "mkdir: synthetic/110: File exists\n",
      "mkdir: synthetic/110/doughnut: File exists\n"
     ]
    },
    {
     "name": "stdout",
     "output_type": "stream",
     "text": [
      "Number of molecules:\n",
      "point \t 4050\n",
      "\n",
      "Filling system:\n"
     ]
    },
    {
     "name": "stderr",
     "output_type": "stream",
     "text": [
      "100%|██████████| 4050/4050 [00:00<00:00, 4468.18it/s]\n",
      "mkdir: synthetic/110: File exists\n",
      "mkdir: synthetic/110/doughnut: File exists\n"
     ]
    },
    {
     "name": "stdout",
     "output_type": "stream",
     "text": [
      "Number of molecules:\n",
      "point \t 4050\n",
      "\n",
      "Filling system:\n"
     ]
    },
    {
     "name": "stderr",
     "output_type": "stream",
     "text": [
      "100%|██████████| 4050/4050 [00:00<00:00, 4537.24it/s]\n",
      "mkdir: synthetic/110: File exists\n",
      "mkdir: synthetic/110/doughnut: File exists\n"
     ]
    },
    {
     "name": "stdout",
     "output_type": "stream",
     "text": [
      "Number of molecules:\n",
      "point \t 4050\n",
      "\n",
      "Filling system:\n"
     ]
    },
    {
     "name": "stderr",
     "output_type": "stream",
     "text": [
      "100%|██████████| 4050/4050 [00:00<00:00, 4515.33it/s]\n",
      "mkdir: synthetic/110: File exists\n",
      "mkdir: synthetic/110/doughnut: File exists\n"
     ]
    },
    {
     "name": "stdout",
     "output_type": "stream",
     "text": [
      "Number of molecules:\n",
      "point \t 4050\n",
      "\n",
      "Filling system:\n"
     ]
    },
    {
     "name": "stderr",
     "output_type": "stream",
     "text": [
      "100%|██████████| 4050/4050 [00:00<00:00, 4473.06it/s]\n",
      "mkdir: synthetic/110: File exists\n",
      "mkdir: synthetic/110/doughnut: File exists\n"
     ]
    },
    {
     "name": "stdout",
     "output_type": "stream",
     "text": [
      "Number of molecules:\n",
      "point \t 6075\n",
      "\n",
      "Filling system:\n"
     ]
    },
    {
     "name": "stderr",
     "output_type": "stream",
     "text": [
      "100%|██████████| 6075/6075 [00:01<00:00, 3537.06it/s] \n",
      "mkdir: synthetic/110: File exists\n",
      "mkdir: synthetic/110/worm: File exists\n"
     ]
    },
    {
     "name": "stdout",
     "output_type": "stream",
     "text": [
      "Number of molecules:\n",
      "point \t 6075\n",
      "\n",
      "Filling system:\n"
     ]
    },
    {
     "name": "stderr",
     "output_type": "stream",
     "text": [
      "100%|██████████| 6075/6075 [00:01<00:00, 3608.48it/s] \n",
      "mkdir: synthetic/110: File exists\n",
      "mkdir: synthetic/110/worm: File exists\n"
     ]
    },
    {
     "name": "stdout",
     "output_type": "stream",
     "text": [
      "Number of molecules:\n",
      "point \t 6075\n",
      "\n",
      "Filling system:\n"
     ]
    },
    {
     "name": "stderr",
     "output_type": "stream",
     "text": [
      "100%|██████████| 6075/6075 [00:01<00:00, 3499.90it/s] \n",
      "mkdir: synthetic/110: File exists\n",
      "mkdir: synthetic/110/worm: File exists\n"
     ]
    },
    {
     "name": "stdout",
     "output_type": "stream",
     "text": [
      "Number of molecules:\n",
      "point \t 6075\n",
      "\n",
      "Filling system:\n"
     ]
    },
    {
     "name": "stderr",
     "output_type": "stream",
     "text": [
      "100%|██████████| 6075/6075 [00:01<00:00, 3515.32it/s] \n",
      "mkdir: synthetic/110: File exists\n",
      "mkdir: synthetic/110/worm: File exists\n"
     ]
    },
    {
     "name": "stdout",
     "output_type": "stream",
     "text": [
      "Number of molecules:\n",
      "point \t 6075\n",
      "\n",
      "Filling system:\n"
     ]
    },
    {
     "name": "stderr",
     "output_type": "stream",
     "text": [
      "100%|██████████| 6075/6075 [00:01<00:00, 3622.92it/s] \n",
      "mkdir: synthetic/110: File exists\n",
      "mkdir: synthetic/110/worm: File exists\n"
     ]
    },
    {
     "name": "stdout",
     "output_type": "stream",
     "text": [
      "Number of molecules:\n",
      "point \t 6075\n",
      "\n",
      "Filling system:\n"
     ]
    },
    {
     "name": "stderr",
     "output_type": "stream",
     "text": [
      "100%|██████████| 6075/6075 [00:01<00:00, 3638.28it/s] \n",
      "mkdir: synthetic/110: File exists\n",
      "mkdir: synthetic/110/worm: File exists\n"
     ]
    },
    {
     "name": "stdout",
     "output_type": "stream",
     "text": [
      "Number of molecules:\n",
      "point \t 6075\n",
      "\n",
      "Filling system:\n"
     ]
    },
    {
     "name": "stderr",
     "output_type": "stream",
     "text": [
      "100%|██████████| 6075/6075 [00:01<00:00, 3514.96it/s] \n",
      "mkdir: synthetic/110: File exists\n",
      "mkdir: synthetic/110/worm: File exists\n"
     ]
    },
    {
     "name": "stdout",
     "output_type": "stream",
     "text": [
      "Number of molecules:\n",
      "point \t 6075\n",
      "\n",
      "Filling system:\n"
     ]
    },
    {
     "name": "stderr",
     "output_type": "stream",
     "text": [
      "100%|██████████| 6075/6075 [00:01<00:00, 3498.71it/s]\n",
      "mkdir: synthetic/110: File exists\n",
      "mkdir: synthetic/110/worm: File exists\n"
     ]
    },
    {
     "name": "stdout",
     "output_type": "stream",
     "text": [
      "Number of molecules:\n",
      "point \t 6075\n",
      "\n",
      "Filling system:\n"
     ]
    },
    {
     "name": "stderr",
     "output_type": "stream",
     "text": [
      "100%|██████████| 6075/6075 [00:01<00:00, 3560.05it/s] \n",
      "mkdir: synthetic/110: File exists\n",
      "mkdir: synthetic/110/worm: File exists\n"
     ]
    },
    {
     "name": "stdout",
     "output_type": "stream",
     "text": [
      "Number of molecules:\n",
      "point \t 6075\n",
      "\n",
      "Filling system:\n"
     ]
    },
    {
     "name": "stderr",
     "output_type": "stream",
     "text": [
      "100%|██████████| 6075/6075 [00:01<00:00, 3532.23it/s] \n",
      "mkdir: synthetic/110: File exists\n",
      "mkdir: synthetic/110/worm: File exists\n"
     ]
    },
    {
     "name": "stdout",
     "output_type": "stream",
     "text": [
      "Number of molecules:\n",
      "point \t 6750\n",
      "\n",
      "Filling system:\n"
     ]
    },
    {
     "name": "stderr",
     "output_type": "stream",
     "text": [
      "100%|██████████| 6750/6750 [00:02<00:00, 3154.39it/s] \n",
      "mkdir: synthetic/110: File exists\n",
      "mkdir: synthetic/110/roll: File exists\n"
     ]
    },
    {
     "name": "stdout",
     "output_type": "stream",
     "text": [
      "Number of molecules:\n",
      "point \t 6750\n",
      "\n",
      "Filling system:\n"
     ]
    },
    {
     "name": "stderr",
     "output_type": "stream",
     "text": [
      "100%|██████████| 6750/6750 [00:02<00:00, 3189.49it/s] \n",
      "mkdir: synthetic/110: File exists\n",
      "mkdir: synthetic/110/roll: File exists\n"
     ]
    },
    {
     "name": "stdout",
     "output_type": "stream",
     "text": [
      "Number of molecules:\n",
      "point \t 6750\n",
      "\n",
      "Filling system:\n"
     ]
    },
    {
     "name": "stderr",
     "output_type": "stream",
     "text": [
      "100%|██████████| 6750/6750 [00:02<00:00, 3218.61it/s] \n",
      "mkdir: synthetic/110: File exists\n",
      "mkdir: synthetic/110/roll: File exists\n"
     ]
    },
    {
     "name": "stdout",
     "output_type": "stream",
     "text": [
      "Number of molecules:\n",
      "point \t 6750\n",
      "\n",
      "Filling system:\n"
     ]
    },
    {
     "name": "stderr",
     "output_type": "stream",
     "text": [
      "100%|██████████| 6750/6750 [00:02<00:00, 3269.45it/s] \n",
      "mkdir: synthetic/110: File exists\n",
      "mkdir: synthetic/110/roll: File exists\n"
     ]
    },
    {
     "name": "stdout",
     "output_type": "stream",
     "text": [
      "Number of molecules:\n",
      "point \t 6750\n",
      "\n",
      "Filling system:\n"
     ]
    },
    {
     "name": "stderr",
     "output_type": "stream",
     "text": [
      "100%|██████████| 6750/6750 [00:02<00:00, 3145.36it/s] \n",
      "mkdir: synthetic/110: File exists\n",
      "mkdir: synthetic/110/roll: File exists\n"
     ]
    },
    {
     "name": "stdout",
     "output_type": "stream",
     "text": [
      "Number of molecules:\n",
      "point \t 6750\n",
      "\n",
      "Filling system:\n"
     ]
    },
    {
     "name": "stderr",
     "output_type": "stream",
     "text": [
      "100%|██████████| 6750/6750 [00:02<00:00, 3263.34it/s] \n",
      "mkdir: synthetic/110: File exists\n",
      "mkdir: synthetic/110/roll: File exists\n"
     ]
    },
    {
     "name": "stdout",
     "output_type": "stream",
     "text": [
      "Number of molecules:\n",
      "point \t 6750\n",
      "\n",
      "Filling system:\n"
     ]
    },
    {
     "name": "stderr",
     "output_type": "stream",
     "text": [
      "100%|██████████| 6750/6750 [00:02<00:00, 3268.47it/s] \n",
      "mkdir: synthetic/110: File exists\n",
      "mkdir: synthetic/110/roll: File exists\n"
     ]
    },
    {
     "name": "stdout",
     "output_type": "stream",
     "text": [
      "Number of molecules:\n",
      "point \t 6750\n",
      "\n",
      "Filling system:\n"
     ]
    },
    {
     "name": "stderr",
     "output_type": "stream",
     "text": [
      "100%|██████████| 6750/6750 [00:02<00:00, 3228.57it/s] \n",
      "mkdir: synthetic/110: File exists\n",
      "mkdir: synthetic/110/roll: File exists\n"
     ]
    },
    {
     "name": "stdout",
     "output_type": "stream",
     "text": [
      "Number of molecules:\n",
      "point \t 6750\n",
      "\n",
      "Filling system:\n"
     ]
    },
    {
     "name": "stderr",
     "output_type": "stream",
     "text": [
      "100%|██████████| 6750/6750 [00:02<00:00, 3242.36it/s] \n",
      "mkdir: synthetic/110: File exists\n",
      "mkdir: synthetic/110/roll: File exists\n"
     ]
    },
    {
     "name": "stdout",
     "output_type": "stream",
     "text": [
      "Number of molecules:\n",
      "point \t 6750\n",
      "\n",
      "Filling system:\n"
     ]
    },
    {
     "name": "stderr",
     "output_type": "stream",
     "text": [
      "100%|██████████| 6750/6750 [00:02<00:00, 3255.41it/s] \n",
      "mkdir: synthetic/110: File exists\n",
      "mkdir: synthetic/110/roll: File exists\n"
     ]
    },
    {
     "name": "stdout",
     "output_type": "stream",
     "text": [
      "Number of molecules:\n",
      "point \t 16200\n",
      "\n",
      "Filling system:\n"
     ]
    },
    {
     "name": "stderr",
     "output_type": "stream",
     "text": [
      "100%|██████████| 16200/16200 [00:10<00:00, 1497.65it/s]\n",
      "mkdir: synthetic/110: File exists\n",
      "mkdir: synthetic/110/perforation: File exists\n"
     ]
    },
    {
     "name": "stdout",
     "output_type": "stream",
     "text": [
      "Number of molecules:\n",
      "point \t 16200\n",
      "\n",
      "Filling system:\n"
     ]
    },
    {
     "name": "stderr",
     "output_type": "stream",
     "text": [
      "100%|██████████| 16200/16200 [00:10<00:00, 1523.73it/s]\n",
      "mkdir: synthetic/110: File exists\n",
      "mkdir: synthetic/110/perforation: File exists\n"
     ]
    },
    {
     "name": "stdout",
     "output_type": "stream",
     "text": [
      "Number of molecules:\n",
      "point \t 16200\n",
      "\n",
      "Filling system:\n"
     ]
    },
    {
     "name": "stderr",
     "output_type": "stream",
     "text": [
      "100%|██████████| 16200/16200 [00:11<00:00, 1471.09it/s]\n",
      "mkdir: synthetic/110: File exists\n",
      "mkdir: synthetic/110/perforation: File exists\n"
     ]
    },
    {
     "name": "stdout",
     "output_type": "stream",
     "text": [
      "Number of molecules:\n",
      "point \t 16200\n",
      "\n",
      "Filling system:\n"
     ]
    },
    {
     "name": "stderr",
     "output_type": "stream",
     "text": [
      "100%|██████████| 16200/16200 [00:10<00:00, 1488.80it/s]\n",
      "mkdir: synthetic/110: File exists\n",
      "mkdir: synthetic/110/perforation: File exists\n"
     ]
    },
    {
     "name": "stdout",
     "output_type": "stream",
     "text": [
      "Number of molecules:\n",
      "point \t 16200\n",
      "\n",
      "Filling system:\n"
     ]
    },
    {
     "name": "stderr",
     "output_type": "stream",
     "text": [
      "100%|██████████| 16200/16200 [00:10<00:00, 1486.70it/s]\n",
      "mkdir: synthetic/110: File exists\n",
      "mkdir: synthetic/110/perforation: File exists\n"
     ]
    },
    {
     "name": "stdout",
     "output_type": "stream",
     "text": [
      "Number of molecules:\n",
      "point \t 16200\n",
      "\n",
      "Filling system:\n"
     ]
    },
    {
     "name": "stderr",
     "output_type": "stream",
     "text": [
      "100%|██████████| 16200/16200 [00:10<00:00, 1531.14it/s]\n",
      "mkdir: synthetic/110: File exists\n",
      "mkdir: synthetic/110/perforation: File exists\n"
     ]
    },
    {
     "name": "stdout",
     "output_type": "stream",
     "text": [
      "Number of molecules:\n",
      "point \t 16200\n",
      "\n",
      "Filling system:\n"
     ]
    },
    {
     "name": "stderr",
     "output_type": "stream",
     "text": [
      "100%|██████████| 16200/16200 [00:10<00:00, 1520.95it/s]\n",
      "mkdir: synthetic/110: File exists\n",
      "mkdir: synthetic/110/perforation: File exists\n"
     ]
    },
    {
     "name": "stdout",
     "output_type": "stream",
     "text": [
      "Number of molecules:\n",
      "point \t 16200\n",
      "\n",
      "Filling system:\n"
     ]
    },
    {
     "name": "stderr",
     "output_type": "stream",
     "text": [
      "100%|██████████| 16200/16200 [00:10<00:00, 1477.54it/s]\n",
      "mkdir: synthetic/110: File exists\n",
      "mkdir: synthetic/110/perforation: File exists\n"
     ]
    },
    {
     "name": "stdout",
     "output_type": "stream",
     "text": [
      "Number of molecules:\n",
      "point \t 16200\n",
      "\n",
      "Filling system:\n"
     ]
    },
    {
     "name": "stderr",
     "output_type": "stream",
     "text": [
      "100%|██████████| 16200/16200 [00:10<00:00, 1496.17it/s]\n",
      "mkdir: synthetic/110: File exists\n",
      "mkdir: synthetic/110/perforation: File exists\n"
     ]
    },
    {
     "name": "stdout",
     "output_type": "stream",
     "text": [
      "Number of molecules:\n",
      "point \t 16200\n",
      "\n",
      "Filling system:\n"
     ]
    },
    {
     "name": "stderr",
     "output_type": "stream",
     "text": [
      "100%|██████████| 16200/16200 [00:10<00:00, 1506.18it/s]\n",
      "mkdir: synthetic/110: File exists\n",
      "mkdir: synthetic/110/perforation: File exists\n"
     ]
    },
    {
     "name": "stdout",
     "output_type": "stream",
     "text": [
      "Number of molecules:\n",
      "point \t 2025\n",
      "\n",
      "Filling system:\n"
     ]
    },
    {
     "name": "stderr",
     "output_type": "stream",
     "text": [
      "100%|██████████| 2025/2025 [00:00<00:00, 7104.77it/s] \n",
      "mkdir: synthetic/100: File exists\n",
      "mkdir: synthetic/100/droplet: File exists\n"
     ]
    },
    {
     "name": "stdout",
     "output_type": "stream",
     "text": [
      "Number of molecules:\n",
      "point \t 2025\n",
      "\n",
      "Filling system:\n"
     ]
    },
    {
     "name": "stderr",
     "output_type": "stream",
     "text": [
      "100%|██████████| 2025/2025 [00:00<00:00, 7425.69it/s] \n",
      "mkdir: synthetic/100: File exists\n",
      "mkdir: synthetic/100/droplet: File exists\n"
     ]
    },
    {
     "name": "stdout",
     "output_type": "stream",
     "text": [
      "Number of molecules:\n",
      "point \t 2025\n",
      "\n",
      "Filling system:\n"
     ]
    },
    {
     "name": "stderr",
     "output_type": "stream",
     "text": [
      "100%|██████████| 2025/2025 [00:00<00:00, 7519.69it/s] \n",
      "mkdir: synthetic/100: File exists\n",
      "mkdir: synthetic/100/droplet: File exists\n"
     ]
    },
    {
     "name": "stdout",
     "output_type": "stream",
     "text": [
      "Number of molecules:\n",
      "point \t 2025\n",
      "\n",
      "Filling system:\n"
     ]
    },
    {
     "name": "stderr",
     "output_type": "stream",
     "text": [
      "100%|██████████| 2025/2025 [00:00<00:00, 7217.25it/s] \n",
      "mkdir: synthetic/100: File exists\n",
      "mkdir: synthetic/100/droplet: File exists\n"
     ]
    },
    {
     "name": "stdout",
     "output_type": "stream",
     "text": [
      "Number of molecules:\n",
      "point \t 2025\n",
      "\n",
      "Filling system:\n"
     ]
    },
    {
     "name": "stderr",
     "output_type": "stream",
     "text": [
      "100%|██████████| 2025/2025 [00:00<00:00, 7389.36it/s] \n",
      "mkdir: synthetic/100: File exists\n",
      "mkdir: synthetic/100/droplet: File exists\n"
     ]
    },
    {
     "name": "stdout",
     "output_type": "stream",
     "text": [
      "Number of molecules:\n",
      "point \t 2025\n",
      "\n",
      "Filling system:\n"
     ]
    },
    {
     "name": "stderr",
     "output_type": "stream",
     "text": [
      "100%|██████████| 2025/2025 [00:00<00:00, 7391.46it/s] \n",
      "mkdir: synthetic/100: File exists\n",
      "mkdir: synthetic/100/droplet: File exists\n"
     ]
    },
    {
     "name": "stdout",
     "output_type": "stream",
     "text": [
      "Number of molecules:\n",
      "point \t 2025\n",
      "\n",
      "Filling system:\n"
     ]
    },
    {
     "name": "stderr",
     "output_type": "stream",
     "text": [
      "100%|██████████| 2025/2025 [00:00<00:00, 7449.10it/s] \n",
      "mkdir: synthetic/100: File exists\n",
      "mkdir: synthetic/100/droplet: File exists\n"
     ]
    },
    {
     "name": "stdout",
     "output_type": "stream",
     "text": [
      "Number of molecules:\n",
      "point \t 2025\n",
      "\n",
      "Filling system:\n"
     ]
    },
    {
     "name": "stderr",
     "output_type": "stream",
     "text": [
      "100%|██████████| 2025/2025 [00:00<00:00, 7409.89it/s] \n",
      "mkdir: synthetic/100: File exists\n",
      "mkdir: synthetic/100/droplet: File exists\n"
     ]
    },
    {
     "name": "stdout",
     "output_type": "stream",
     "text": [
      "Number of molecules:\n",
      "point \t 2025\n",
      "\n",
      "Filling system:\n"
     ]
    },
    {
     "name": "stderr",
     "output_type": "stream",
     "text": [
      "100%|██████████| 2025/2025 [00:00<00:00, 7204.23it/s] \n",
      "mkdir: synthetic/100: File exists\n",
      "mkdir: synthetic/100/droplet: File exists\n"
     ]
    },
    {
     "name": "stdout",
     "output_type": "stream",
     "text": [
      "Number of molecules:\n",
      "point \t 2025\n",
      "\n",
      "Filling system:\n"
     ]
    },
    {
     "name": "stderr",
     "output_type": "stream",
     "text": [
      "100%|██████████| 2025/2025 [00:00<00:00, 7437.86it/s] \n",
      "mkdir: synthetic/100: File exists\n",
      "mkdir: synthetic/100/droplet: File exists\n"
     ]
    },
    {
     "name": "stdout",
     "output_type": "stream",
     "text": [
      "Number of molecules:\n",
      "point \t 4050\n",
      "\n",
      "Filling system:\n"
     ]
    },
    {
     "name": "stderr",
     "output_type": "stream",
     "text": [
      "100%|██████████| 4050/4050 [00:00<00:00, 4507.28it/s]\n",
      "mkdir: synthetic/100: File exists\n",
      "mkdir: synthetic/100/doughnut: File exists\n"
     ]
    },
    {
     "name": "stdout",
     "output_type": "stream",
     "text": [
      "Number of molecules:\n",
      "point \t 4050\n",
      "\n",
      "Filling system:\n"
     ]
    },
    {
     "name": "stderr",
     "output_type": "stream",
     "text": [
      "100%|██████████| 4050/4050 [00:00<00:00, 4563.88it/s]\n",
      "mkdir: synthetic/100: File exists\n",
      "mkdir: synthetic/100/doughnut: File exists\n"
     ]
    },
    {
     "name": "stdout",
     "output_type": "stream",
     "text": [
      "Number of molecules:\n",
      "point \t 4050\n",
      "\n",
      "Filling system:\n"
     ]
    },
    {
     "name": "stderr",
     "output_type": "stream",
     "text": [
      "100%|██████████| 4050/4050 [00:00<00:00, 4493.19it/s]\n",
      "mkdir: synthetic/100: File exists\n",
      "mkdir: synthetic/100/doughnut: File exists\n"
     ]
    },
    {
     "name": "stdout",
     "output_type": "stream",
     "text": [
      "Number of molecules:\n",
      "point \t 4050\n",
      "\n",
      "Filling system:\n"
     ]
    },
    {
     "name": "stderr",
     "output_type": "stream",
     "text": [
      "100%|██████████| 4050/4050 [00:00<00:00, 4432.70it/s]\n",
      "mkdir: synthetic/100: File exists\n",
      "mkdir: synthetic/100/doughnut: File exists\n"
     ]
    },
    {
     "name": "stdout",
     "output_type": "stream",
     "text": [
      "Number of molecules:\n",
      "point \t 4050\n",
      "\n",
      "Filling system:\n"
     ]
    },
    {
     "name": "stderr",
     "output_type": "stream",
     "text": [
      "100%|██████████| 4050/4050 [00:00<00:00, 4463.32it/s]\n",
      "mkdir: synthetic/100: File exists\n",
      "mkdir: synthetic/100/doughnut: File exists\n"
     ]
    },
    {
     "name": "stdout",
     "output_type": "stream",
     "text": [
      "Number of molecules:\n",
      "point \t 4050\n",
      "\n",
      "Filling system:\n"
     ]
    },
    {
     "name": "stderr",
     "output_type": "stream",
     "text": [
      "100%|██████████| 4050/4050 [00:00<00:00, 4411.02it/s]\n",
      "mkdir: synthetic/100: File exists\n",
      "mkdir: synthetic/100/doughnut: File exists\n"
     ]
    },
    {
     "name": "stdout",
     "output_type": "stream",
     "text": [
      "Number of molecules:\n",
      "point \t 4050\n",
      "\n",
      "Filling system:\n"
     ]
    },
    {
     "name": "stderr",
     "output_type": "stream",
     "text": [
      "100%|██████████| 4050/4050 [00:00<00:00, 4547.99it/s]\n",
      "mkdir: synthetic/100: File exists\n",
      "mkdir: synthetic/100/doughnut: File exists\n"
     ]
    },
    {
     "name": "stdout",
     "output_type": "stream",
     "text": [
      "Number of molecules:\n",
      "point \t 4050\n",
      "\n",
      "Filling system:\n"
     ]
    },
    {
     "name": "stderr",
     "output_type": "stream",
     "text": [
      "100%|██████████| 4050/4050 [00:00<00:00, 4423.51it/s]\n",
      "mkdir: synthetic/100: File exists\n",
      "mkdir: synthetic/100/doughnut: File exists\n"
     ]
    },
    {
     "name": "stdout",
     "output_type": "stream",
     "text": [
      "Number of molecules:\n",
      "point \t 4050\n",
      "\n",
      "Filling system:\n"
     ]
    },
    {
     "name": "stderr",
     "output_type": "stream",
     "text": [
      "100%|██████████| 4050/4050 [00:00<00:00, 4495.99it/s]\n",
      "mkdir: synthetic/100: File exists\n",
      "mkdir: synthetic/100/doughnut: File exists\n"
     ]
    },
    {
     "name": "stdout",
     "output_type": "stream",
     "text": [
      "Number of molecules:\n",
      "point \t 4050\n",
      "\n",
      "Filling system:\n"
     ]
    },
    {
     "name": "stderr",
     "output_type": "stream",
     "text": [
      "100%|██████████| 4050/4050 [00:00<00:00, 4553.73it/s]\n",
      "mkdir: synthetic/100: File exists\n",
      "mkdir: synthetic/100/doughnut: File exists\n"
     ]
    },
    {
     "name": "stdout",
     "output_type": "stream",
     "text": [
      "Number of molecules:\n",
      "point \t 6075\n",
      "\n",
      "Filling system:\n"
     ]
    },
    {
     "name": "stderr",
     "output_type": "stream",
     "text": [
      "100%|██████████| 6075/6075 [00:01<00:00, 3597.31it/s] \n",
      "mkdir: synthetic/100: File exists\n",
      "mkdir: synthetic/100/worm: File exists\n"
     ]
    },
    {
     "name": "stdout",
     "output_type": "stream",
     "text": [
      "Number of molecules:\n",
      "point \t 6075\n",
      "\n",
      "Filling system:\n"
     ]
    },
    {
     "name": "stderr",
     "output_type": "stream",
     "text": [
      "100%|██████████| 6075/6075 [00:01<00:00, 3574.75it/s] \n",
      "mkdir: synthetic/100: File exists\n",
      "mkdir: synthetic/100/worm: File exists\n"
     ]
    },
    {
     "name": "stdout",
     "output_type": "stream",
     "text": [
      "Number of molecules:\n",
      "point \t 6075\n",
      "\n",
      "Filling system:\n"
     ]
    },
    {
     "name": "stderr",
     "output_type": "stream",
     "text": [
      "100%|██████████| 6075/6075 [00:01<00:00, 3550.10it/s] \n",
      "mkdir: synthetic/100: File exists\n",
      "mkdir: synthetic/100/worm: File exists\n"
     ]
    },
    {
     "name": "stdout",
     "output_type": "stream",
     "text": [
      "Number of molecules:\n",
      "point \t 6075\n",
      "\n",
      "Filling system:\n"
     ]
    },
    {
     "name": "stderr",
     "output_type": "stream",
     "text": [
      "100%|██████████| 6075/6075 [00:01<00:00, 3605.13it/s] \n",
      "mkdir: synthetic/100: File exists\n",
      "mkdir: synthetic/100/worm: File exists\n"
     ]
    },
    {
     "name": "stdout",
     "output_type": "stream",
     "text": [
      "Number of molecules:\n",
      "point \t 6075\n",
      "\n",
      "Filling system:\n"
     ]
    },
    {
     "name": "stderr",
     "output_type": "stream",
     "text": [
      "100%|██████████| 6075/6075 [00:01<00:00, 3535.93it/s] \n",
      "mkdir: synthetic/100: File exists\n",
      "mkdir: synthetic/100/worm: File exists\n"
     ]
    },
    {
     "name": "stdout",
     "output_type": "stream",
     "text": [
      "Number of molecules:\n",
      "point \t 6075\n",
      "\n",
      "Filling system:\n"
     ]
    },
    {
     "name": "stderr",
     "output_type": "stream",
     "text": [
      "100%|██████████| 6075/6075 [00:01<00:00, 3633.42it/s] \n",
      "mkdir: synthetic/100: File exists\n",
      "mkdir: synthetic/100/worm: File exists\n"
     ]
    },
    {
     "name": "stdout",
     "output_type": "stream",
     "text": [
      "Number of molecules:\n",
      "point \t 6075\n",
      "\n",
      "Filling system:\n"
     ]
    },
    {
     "name": "stderr",
     "output_type": "stream",
     "text": [
      "100%|██████████| 6075/6075 [00:01<00:00, 3634.83it/s] \n",
      "mkdir: synthetic/100: File exists\n",
      "mkdir: synthetic/100/worm: File exists\n"
     ]
    },
    {
     "name": "stdout",
     "output_type": "stream",
     "text": [
      "Number of molecules:\n",
      "point \t 6075\n",
      "\n",
      "Filling system:\n"
     ]
    },
    {
     "name": "stderr",
     "output_type": "stream",
     "text": [
      "100%|██████████| 6075/6075 [00:01<00:00, 3657.71it/s] \n",
      "mkdir: synthetic/100: File exists\n",
      "mkdir: synthetic/100/worm: File exists\n"
     ]
    },
    {
     "name": "stdout",
     "output_type": "stream",
     "text": [
      "Number of molecules:\n",
      "point \t 6075\n",
      "\n",
      "Filling system:\n"
     ]
    },
    {
     "name": "stderr",
     "output_type": "stream",
     "text": [
      "100%|██████████| 6075/6075 [00:01<00:00, 3545.30it/s] \n",
      "mkdir: synthetic/100: File exists\n",
      "mkdir: synthetic/100/worm: File exists\n"
     ]
    },
    {
     "name": "stdout",
     "output_type": "stream",
     "text": [
      "Number of molecules:\n",
      "point \t 6075\n",
      "\n",
      "Filling system:\n"
     ]
    },
    {
     "name": "stderr",
     "output_type": "stream",
     "text": [
      "100%|██████████| 6075/6075 [00:01<00:00, 3572.86it/s] \n",
      "mkdir: synthetic/100: File exists\n",
      "mkdir: synthetic/100/worm: File exists\n"
     ]
    },
    {
     "name": "stdout",
     "output_type": "stream",
     "text": [
      "Number of molecules:\n",
      "point \t 6750\n",
      "\n",
      "Filling system:\n"
     ]
    },
    {
     "name": "stderr",
     "output_type": "stream",
     "text": [
      "100%|██████████| 6750/6750 [00:02<00:00, 3278.93it/s] \n",
      "mkdir: synthetic/100: File exists\n",
      "mkdir: synthetic/100/roll: File exists\n"
     ]
    },
    {
     "name": "stdout",
     "output_type": "stream",
     "text": [
      "Number of molecules:\n",
      "point \t 6750\n",
      "\n",
      "Filling system:\n"
     ]
    },
    {
     "name": "stderr",
     "output_type": "stream",
     "text": [
      "100%|██████████| 6750/6750 [00:02<00:00, 3232.84it/s] \n",
      "mkdir: synthetic/100: File exists\n",
      "mkdir: synthetic/100/roll: File exists\n"
     ]
    },
    {
     "name": "stdout",
     "output_type": "stream",
     "text": [
      "Number of molecules:\n",
      "point \t 6750\n",
      "\n",
      "Filling system:\n"
     ]
    },
    {
     "name": "stderr",
     "output_type": "stream",
     "text": [
      "100%|██████████| 6750/6750 [00:02<00:00, 3300.52it/s] \n",
      "mkdir: synthetic/100: File exists\n",
      "mkdir: synthetic/100/roll: File exists\n"
     ]
    },
    {
     "name": "stdout",
     "output_type": "stream",
     "text": [
      "Number of molecules:\n",
      "point \t 6750\n",
      "\n",
      "Filling system:\n"
     ]
    },
    {
     "name": "stderr",
     "output_type": "stream",
     "text": [
      "100%|██████████| 6750/6750 [00:02<00:00, 3253.82it/s] \n",
      "mkdir: synthetic/100: File exists\n",
      "mkdir: synthetic/100/roll: File exists\n"
     ]
    },
    {
     "name": "stdout",
     "output_type": "stream",
     "text": [
      "Number of molecules:\n",
      "point \t 6750\n",
      "\n",
      "Filling system:\n"
     ]
    },
    {
     "name": "stderr",
     "output_type": "stream",
     "text": [
      "100%|██████████| 6750/6750 [00:02<00:00, 3198.99it/s] \n",
      "mkdir: synthetic/100: File exists\n",
      "mkdir: synthetic/100/roll: File exists\n"
     ]
    },
    {
     "name": "stdout",
     "output_type": "stream",
     "text": [
      "Number of molecules:\n",
      "point \t 6750\n",
      "\n",
      "Filling system:\n"
     ]
    },
    {
     "name": "stderr",
     "output_type": "stream",
     "text": [
      "100%|██████████| 6750/6750 [00:02<00:00, 3189.44it/s] \n",
      "mkdir: synthetic/100: File exists\n",
      "mkdir: synthetic/100/roll: File exists\n"
     ]
    },
    {
     "name": "stdout",
     "output_type": "stream",
     "text": [
      "Number of molecules:\n",
      "point \t 6750\n",
      "\n",
      "Filling system:\n"
     ]
    },
    {
     "name": "stderr",
     "output_type": "stream",
     "text": [
      "100%|██████████| 6750/6750 [00:02<00:00, 3246.80it/s] \n",
      "mkdir: synthetic/100: File exists\n",
      "mkdir: synthetic/100/roll: File exists\n"
     ]
    },
    {
     "name": "stdout",
     "output_type": "stream",
     "text": [
      "Number of molecules:\n",
      "point \t 6750\n",
      "\n",
      "Filling system:\n"
     ]
    },
    {
     "name": "stderr",
     "output_type": "stream",
     "text": [
      "100%|██████████| 6750/6750 [00:02<00:00, 3264.46it/s] \n",
      "mkdir: synthetic/100: File exists\n",
      "mkdir: synthetic/100/roll: File exists\n"
     ]
    },
    {
     "name": "stdout",
     "output_type": "stream",
     "text": [
      "Number of molecules:\n",
      "point \t 6750\n",
      "\n",
      "Filling system:\n"
     ]
    },
    {
     "name": "stderr",
     "output_type": "stream",
     "text": [
      "100%|██████████| 6750/6750 [00:02<00:00, 3219.71it/s] \n",
      "mkdir: synthetic/100: File exists\n",
      "mkdir: synthetic/100/roll: File exists\n"
     ]
    },
    {
     "name": "stdout",
     "output_type": "stream",
     "text": [
      "Number of molecules:\n",
      "point \t 6750\n",
      "\n",
      "Filling system:\n"
     ]
    },
    {
     "name": "stderr",
     "output_type": "stream",
     "text": [
      "100%|██████████| 6750/6750 [00:02<00:00, 3305.27it/s] \n",
      "mkdir: synthetic/100: File exists\n",
      "mkdir: synthetic/100/roll: File exists\n"
     ]
    },
    {
     "name": "stdout",
     "output_type": "stream",
     "text": [
      "Number of molecules:\n",
      "point \t 16200\n",
      "\n",
      "Filling system:\n"
     ]
    },
    {
     "name": "stderr",
     "output_type": "stream",
     "text": [
      "100%|██████████| 16200/16200 [00:10<00:00, 1514.42it/s]\n",
      "mkdir: synthetic/100: File exists\n",
      "mkdir: synthetic/100/perforation: File exists\n"
     ]
    },
    {
     "name": "stdout",
     "output_type": "stream",
     "text": [
      "Number of molecules:\n",
      "point \t 16200\n",
      "\n",
      "Filling system:\n"
     ]
    },
    {
     "name": "stderr",
     "output_type": "stream",
     "text": [
      "100%|██████████| 16200/16200 [00:10<00:00, 1503.94it/s]\n",
      "mkdir: synthetic/100: File exists\n",
      "mkdir: synthetic/100/perforation: File exists\n"
     ]
    },
    {
     "name": "stdout",
     "output_type": "stream",
     "text": [
      "Number of molecules:\n",
      "point \t 16200\n",
      "\n",
      "Filling system:\n"
     ]
    },
    {
     "name": "stderr",
     "output_type": "stream",
     "text": [
      "100%|██████████| 16200/16200 [00:10<00:00, 1519.54it/s]\n",
      "mkdir: synthetic/100: File exists\n",
      "mkdir: synthetic/100/perforation: File exists\n"
     ]
    },
    {
     "name": "stdout",
     "output_type": "stream",
     "text": [
      "Number of molecules:\n",
      "point \t 16200\n",
      "\n",
      "Filling system:\n"
     ]
    },
    {
     "name": "stderr",
     "output_type": "stream",
     "text": [
      "100%|██████████| 16200/16200 [00:10<00:00, 1513.38it/s]\n",
      "mkdir: synthetic/100: File exists\n",
      "mkdir: synthetic/100/perforation: File exists\n"
     ]
    },
    {
     "name": "stdout",
     "output_type": "stream",
     "text": [
      "Number of molecules:\n",
      "point \t 16200\n",
      "\n",
      "Filling system:\n"
     ]
    },
    {
     "name": "stderr",
     "output_type": "stream",
     "text": [
      "100%|██████████| 16200/16200 [00:10<00:00, 1499.78it/s]\n",
      "mkdir: synthetic/100: File exists\n",
      "mkdir: synthetic/100/perforation: File exists\n"
     ]
    },
    {
     "name": "stdout",
     "output_type": "stream",
     "text": [
      "Number of molecules:\n",
      "point \t 16200\n",
      "\n",
      "Filling system:\n"
     ]
    },
    {
     "name": "stderr",
     "output_type": "stream",
     "text": [
      "100%|██████████| 16200/16200 [00:10<00:00, 1494.58it/s]\n",
      "mkdir: synthetic/100: File exists\n",
      "mkdir: synthetic/100/perforation: File exists\n"
     ]
    },
    {
     "name": "stdout",
     "output_type": "stream",
     "text": [
      "Number of molecules:\n",
      "point \t 16200\n",
      "\n",
      "Filling system:\n"
     ]
    },
    {
     "name": "stderr",
     "output_type": "stream",
     "text": [
      "100%|██████████| 16200/16200 [00:10<00:00, 1513.47it/s]\n",
      "mkdir: synthetic/100: File exists\n",
      "mkdir: synthetic/100/perforation: File exists\n"
     ]
    },
    {
     "name": "stdout",
     "output_type": "stream",
     "text": [
      "Number of molecules:\n",
      "point \t 16200\n",
      "\n",
      "Filling system:\n"
     ]
    },
    {
     "name": "stderr",
     "output_type": "stream",
     "text": [
      "100%|██████████| 16200/16200 [00:10<00:00, 1517.88it/s]\n",
      "mkdir: synthetic/100: File exists\n",
      "mkdir: synthetic/100/perforation: File exists\n"
     ]
    },
    {
     "name": "stdout",
     "output_type": "stream",
     "text": [
      "Number of molecules:\n",
      "point \t 16200\n",
      "\n",
      "Filling system:\n"
     ]
    },
    {
     "name": "stderr",
     "output_type": "stream",
     "text": [
      "100%|██████████| 16200/16200 [00:10<00:00, 1491.82it/s]\n",
      "mkdir: synthetic/100: File exists\n",
      "mkdir: synthetic/100/perforation: File exists\n"
     ]
    },
    {
     "name": "stdout",
     "output_type": "stream",
     "text": [
      "Number of molecules:\n",
      "point \t 16200\n",
      "\n",
      "Filling system:\n"
     ]
    },
    {
     "name": "stderr",
     "output_type": "stream",
     "text": [
      "100%|██████████| 16200/16200 [00:10<00:00, 1494.42it/s]\n",
      "mkdir: synthetic/100: File exists\n",
      "mkdir: synthetic/100/perforation: File exists\n"
     ]
    },
    {
     "name": "stdout",
     "output_type": "stream",
     "text": [
      "Number of molecules:\n",
      "point \t 2025\n",
      "\n",
      "Filling system:\n"
     ]
    },
    {
     "name": "stderr",
     "output_type": "stream",
     "text": [
      "100%|██████████| 2025/2025 [00:00<00:00, 7393.96it/s] \n",
      "mkdir: synthetic/90.1: File exists\n",
      "mkdir: synthetic/90.1/droplet: File exists\n"
     ]
    },
    {
     "name": "stdout",
     "output_type": "stream",
     "text": [
      "Number of molecules:\n",
      "point \t 2025\n",
      "\n",
      "Filling system:\n"
     ]
    },
    {
     "name": "stderr",
     "output_type": "stream",
     "text": [
      "100%|██████████| 2025/2025 [00:00<00:00, 7360.72it/s] \n",
      "mkdir: synthetic/90.1: File exists\n",
      "mkdir: synthetic/90.1/droplet: File exists\n"
     ]
    },
    {
     "name": "stdout",
     "output_type": "stream",
     "text": [
      "Number of molecules:\n",
      "point \t 2025\n",
      "\n",
      "Filling system:\n"
     ]
    },
    {
     "name": "stderr",
     "output_type": "stream",
     "text": [
      "100%|██████████| 2025/2025 [00:00<00:00, 7221.26it/s] \n",
      "mkdir: synthetic/90.1: File exists\n",
      "mkdir: synthetic/90.1/droplet: File exists\n"
     ]
    },
    {
     "name": "stdout",
     "output_type": "stream",
     "text": [
      "Number of molecules:\n",
      "point \t 2025\n",
      "\n",
      "Filling system:\n"
     ]
    },
    {
     "name": "stderr",
     "output_type": "stream",
     "text": [
      "100%|██████████| 2025/2025 [00:00<00:00, 7386.63it/s] \n",
      "mkdir: synthetic/90.1: File exists\n",
      "mkdir: synthetic/90.1/droplet: File exists\n"
     ]
    },
    {
     "name": "stdout",
     "output_type": "stream",
     "text": [
      "Number of molecules:\n",
      "point \t 2025\n",
      "\n",
      "Filling system:\n"
     ]
    },
    {
     "name": "stderr",
     "output_type": "stream",
     "text": [
      "100%|██████████| 2025/2025 [00:00<00:00, 7310.92it/s] \n",
      "mkdir: synthetic/90.1: File exists\n",
      "mkdir: synthetic/90.1/droplet: File exists\n"
     ]
    },
    {
     "name": "stdout",
     "output_type": "stream",
     "text": [
      "Number of molecules:\n",
      "point \t 2025\n",
      "\n",
      "Filling system:\n"
     ]
    },
    {
     "name": "stderr",
     "output_type": "stream",
     "text": [
      "100%|██████████| 2025/2025 [00:00<00:00, 7198.79it/s] \n",
      "mkdir: synthetic/90.1: File exists\n",
      "mkdir: synthetic/90.1/droplet: File exists\n"
     ]
    },
    {
     "name": "stdout",
     "output_type": "stream",
     "text": [
      "Number of molecules:\n",
      "point \t 2025\n",
      "\n",
      "Filling system:\n"
     ]
    },
    {
     "name": "stderr",
     "output_type": "stream",
     "text": [
      "100%|██████████| 2025/2025 [00:00<00:00, 6463.72it/s] \n",
      "mkdir: synthetic/90.1: File exists\n",
      "mkdir: synthetic/90.1/droplet: File exists\n"
     ]
    },
    {
     "name": "stdout",
     "output_type": "stream",
     "text": [
      "Number of molecules:\n",
      "point \t 2025\n",
      "\n",
      "Filling system:\n"
     ]
    },
    {
     "name": "stderr",
     "output_type": "stream",
     "text": [
      "100%|██████████| 2025/2025 [00:00<00:00, 6967.19it/s] \n",
      "mkdir: synthetic/90.1: File exists\n",
      "mkdir: synthetic/90.1/droplet: File exists\n"
     ]
    },
    {
     "name": "stdout",
     "output_type": "stream",
     "text": [
      "Number of molecules:\n",
      "point \t 2025\n",
      "\n",
      "Filling system:\n"
     ]
    },
    {
     "name": "stderr",
     "output_type": "stream",
     "text": [
      "100%|██████████| 2025/2025 [00:00<00:00, 7106.68it/s]\n",
      "mkdir: synthetic/90.1: File exists\n",
      "mkdir: synthetic/90.1/droplet: File exists\n"
     ]
    },
    {
     "name": "stdout",
     "output_type": "stream",
     "text": [
      "Number of molecules:\n",
      "point \t 2025\n",
      "\n",
      "Filling system:\n"
     ]
    },
    {
     "name": "stderr",
     "output_type": "stream",
     "text": [
      "100%|██████████| 2025/2025 [00:00<00:00, 7011.96it/s]\n",
      "mkdir: synthetic/90.1: File exists\n",
      "mkdir: synthetic/90.1/droplet: File exists\n"
     ]
    },
    {
     "name": "stdout",
     "output_type": "stream",
     "text": [
      "Number of molecules:\n",
      "point \t 4050\n",
      "\n",
      "Filling system:\n"
     ]
    },
    {
     "name": "stderr",
     "output_type": "stream",
     "text": [
      "100%|██████████| 4050/4050 [00:00<00:00, 4483.34it/s]\n",
      "mkdir: synthetic/90.1: File exists\n",
      "mkdir: synthetic/90.1/doughnut: File exists\n"
     ]
    },
    {
     "name": "stdout",
     "output_type": "stream",
     "text": [
      "Number of molecules:\n",
      "point \t 4050\n",
      "\n",
      "Filling system:\n"
     ]
    },
    {
     "name": "stderr",
     "output_type": "stream",
     "text": [
      "100%|██████████| 4050/4050 [00:00<00:00, 4530.75it/s]\n",
      "mkdir: synthetic/90.1: File exists\n",
      "mkdir: synthetic/90.1/doughnut: File exists\n"
     ]
    },
    {
     "name": "stdout",
     "output_type": "stream",
     "text": [
      "Number of molecules:\n",
      "point \t 4050\n",
      "\n",
      "Filling system:\n"
     ]
    },
    {
     "name": "stderr",
     "output_type": "stream",
     "text": [
      "100%|██████████| 4050/4050 [00:00<00:00, 4545.14it/s]\n",
      "mkdir: synthetic/90.1: File exists\n",
      "mkdir: synthetic/90.1/doughnut: File exists\n"
     ]
    },
    {
     "name": "stdout",
     "output_type": "stream",
     "text": [
      "Number of molecules:\n",
      "point \t 4050\n",
      "\n",
      "Filling system:\n"
     ]
    },
    {
     "name": "stderr",
     "output_type": "stream",
     "text": [
      "100%|██████████| 4050/4050 [00:00<00:00, 4551.45it/s]\n",
      "mkdir: synthetic/90.1: File exists\n",
      "mkdir: synthetic/90.1/doughnut: File exists\n"
     ]
    },
    {
     "name": "stdout",
     "output_type": "stream",
     "text": [
      "Number of molecules:\n",
      "point \t 4050\n",
      "\n",
      "Filling system:\n"
     ]
    },
    {
     "name": "stderr",
     "output_type": "stream",
     "text": [
      "100%|██████████| 4050/4050 [00:00<00:00, 4391.15it/s]\n",
      "mkdir: synthetic/90.1: File exists\n",
      "mkdir: synthetic/90.1/doughnut: File exists\n"
     ]
    },
    {
     "name": "stdout",
     "output_type": "stream",
     "text": [
      "Number of molecules:\n",
      "point \t 4050\n",
      "\n",
      "Filling system:\n"
     ]
    },
    {
     "name": "stderr",
     "output_type": "stream",
     "text": [
      "100%|██████████| 4050/4050 [00:00<00:00, 4539.43it/s]\n",
      "mkdir: synthetic/90.1: File exists\n",
      "mkdir: synthetic/90.1/doughnut: File exists\n"
     ]
    },
    {
     "name": "stdout",
     "output_type": "stream",
     "text": [
      "Number of molecules:\n",
      "point \t 4050\n",
      "\n",
      "Filling system:\n"
     ]
    },
    {
     "name": "stderr",
     "output_type": "stream",
     "text": [
      "100%|██████████| 4050/4050 [00:00<00:00, 4497.04it/s]\n",
      "mkdir: synthetic/90.1: File exists\n",
      "mkdir: synthetic/90.1/doughnut: File exists\n"
     ]
    },
    {
     "name": "stdout",
     "output_type": "stream",
     "text": [
      "Number of molecules:\n",
      "point \t 4050\n",
      "\n",
      "Filling system:\n"
     ]
    },
    {
     "name": "stderr",
     "output_type": "stream",
     "text": [
      "100%|██████████| 4050/4050 [00:00<00:00, 4575.20it/s]\n",
      "mkdir: synthetic/90.1: File exists\n",
      "mkdir: synthetic/90.1/doughnut: File exists\n"
     ]
    },
    {
     "name": "stdout",
     "output_type": "stream",
     "text": [
      "Number of molecules:\n",
      "point \t 4050\n",
      "\n",
      "Filling system:\n"
     ]
    },
    {
     "name": "stderr",
     "output_type": "stream",
     "text": [
      "100%|██████████| 4050/4050 [00:00<00:00, 4536.60it/s]\n",
      "mkdir: synthetic/90.1: File exists\n",
      "mkdir: synthetic/90.1/doughnut: File exists\n"
     ]
    },
    {
     "name": "stdout",
     "output_type": "stream",
     "text": [
      "Number of molecules:\n",
      "point \t 4050\n",
      "\n",
      "Filling system:\n"
     ]
    },
    {
     "name": "stderr",
     "output_type": "stream",
     "text": [
      "100%|██████████| 4050/4050 [00:00<00:00, 4465.10it/s]\n",
      "mkdir: synthetic/90.1: File exists\n",
      "mkdir: synthetic/90.1/doughnut: File exists\n"
     ]
    },
    {
     "name": "stdout",
     "output_type": "stream",
     "text": [
      "Number of molecules:\n",
      "point \t 6075\n",
      "\n",
      "Filling system:\n"
     ]
    },
    {
     "name": "stderr",
     "output_type": "stream",
     "text": [
      "100%|██████████| 6075/6075 [00:01<00:00, 3615.22it/s] \n",
      "mkdir: synthetic/90.1: File exists\n",
      "mkdir: synthetic/90.1/worm: File exists\n"
     ]
    },
    {
     "name": "stdout",
     "output_type": "stream",
     "text": [
      "Number of molecules:\n",
      "point \t 6075\n",
      "\n",
      "Filling system:\n"
     ]
    },
    {
     "name": "stderr",
     "output_type": "stream",
     "text": [
      "100%|██████████| 6075/6075 [00:01<00:00, 3618.38it/s] \n",
      "mkdir: synthetic/90.1: File exists\n",
      "mkdir: synthetic/90.1/worm: File exists\n"
     ]
    },
    {
     "name": "stdout",
     "output_type": "stream",
     "text": [
      "Number of molecules:\n",
      "point \t 6075\n",
      "\n",
      "Filling system:\n"
     ]
    },
    {
     "name": "stderr",
     "output_type": "stream",
     "text": [
      "100%|██████████| 6075/6075 [00:01<00:00, 3602.01it/s] \n",
      "mkdir: synthetic/90.1: File exists\n",
      "mkdir: synthetic/90.1/worm: File exists\n"
     ]
    },
    {
     "name": "stdout",
     "output_type": "stream",
     "text": [
      "Number of molecules:\n",
      "point \t 6075\n",
      "\n",
      "Filling system:\n"
     ]
    },
    {
     "name": "stderr",
     "output_type": "stream",
     "text": [
      "100%|██████████| 6075/6075 [00:01<00:00, 3564.42it/s] \n",
      "mkdir: synthetic/90.1: File exists\n",
      "mkdir: synthetic/90.1/worm: File exists\n"
     ]
    },
    {
     "name": "stdout",
     "output_type": "stream",
     "text": [
      "Number of molecules:\n",
      "point \t 6075\n",
      "\n",
      "Filling system:\n"
     ]
    },
    {
     "name": "stderr",
     "output_type": "stream",
     "text": [
      "100%|██████████| 6075/6075 [00:01<00:00, 3599.03it/s] \n",
      "mkdir: synthetic/90.1: File exists\n",
      "mkdir: synthetic/90.1/worm: File exists\n"
     ]
    },
    {
     "name": "stdout",
     "output_type": "stream",
     "text": [
      "Number of molecules:\n",
      "point \t 6075\n",
      "\n",
      "Filling system:\n"
     ]
    },
    {
     "name": "stderr",
     "output_type": "stream",
     "text": [
      "100%|██████████| 6075/6075 [00:01<00:00, 3564.38it/s] \n",
      "mkdir: synthetic/90.1: File exists\n",
      "mkdir: synthetic/90.1/worm: File exists\n"
     ]
    },
    {
     "name": "stdout",
     "output_type": "stream",
     "text": [
      "Number of molecules:\n",
      "point \t 6075\n",
      "\n",
      "Filling system:\n"
     ]
    },
    {
     "name": "stderr",
     "output_type": "stream",
     "text": [
      "100%|██████████| 6075/6075 [00:01<00:00, 3556.67it/s] \n",
      "mkdir: synthetic/90.1: File exists\n",
      "mkdir: synthetic/90.1/worm: File exists\n"
     ]
    },
    {
     "name": "stdout",
     "output_type": "stream",
     "text": [
      "Number of molecules:\n",
      "point \t 6075\n",
      "\n",
      "Filling system:\n"
     ]
    },
    {
     "name": "stderr",
     "output_type": "stream",
     "text": [
      "100%|██████████| 6075/6075 [00:01<00:00, 3584.04it/s] \n",
      "mkdir: synthetic/90.1: File exists\n",
      "mkdir: synthetic/90.1/worm: File exists\n"
     ]
    },
    {
     "name": "stdout",
     "output_type": "stream",
     "text": [
      "Number of molecules:\n",
      "point \t 6075\n",
      "\n",
      "Filling system:\n"
     ]
    },
    {
     "name": "stderr",
     "output_type": "stream",
     "text": [
      "100%|██████████| 6075/6075 [00:01<00:00, 3608.24it/s] \n",
      "mkdir: synthetic/90.1: File exists\n",
      "mkdir: synthetic/90.1/worm: File exists\n"
     ]
    },
    {
     "name": "stdout",
     "output_type": "stream",
     "text": [
      "Number of molecules:\n",
      "point \t 6075\n",
      "\n",
      "Filling system:\n"
     ]
    },
    {
     "name": "stderr",
     "output_type": "stream",
     "text": [
      "100%|██████████| 6075/6075 [00:01<00:00, 3574.82it/s] \n",
      "mkdir: synthetic/90.1: File exists\n",
      "mkdir: synthetic/90.1/worm: File exists\n"
     ]
    },
    {
     "name": "stdout",
     "output_type": "stream",
     "text": [
      "Number of molecules:\n",
      "point \t 6750\n",
      "\n",
      "Filling system:\n"
     ]
    },
    {
     "name": "stderr",
     "output_type": "stream",
     "text": [
      "100%|██████████| 6750/6750 [00:02<00:00, 3261.13it/s] \n",
      "mkdir: synthetic/90.1: File exists\n",
      "mkdir: synthetic/90.1/roll: File exists\n"
     ]
    },
    {
     "name": "stdout",
     "output_type": "stream",
     "text": [
      "Number of molecules:\n",
      "point \t 6750\n",
      "\n",
      "Filling system:\n"
     ]
    },
    {
     "name": "stderr",
     "output_type": "stream",
     "text": [
      "100%|██████████| 6750/6750 [00:02<00:00, 3240.91it/s] \n",
      "mkdir: synthetic/90.1: File exists\n",
      "mkdir: synthetic/90.1/roll: File exists\n"
     ]
    },
    {
     "name": "stdout",
     "output_type": "stream",
     "text": [
      "Number of molecules:\n",
      "point \t 6750\n",
      "\n",
      "Filling system:\n"
     ]
    },
    {
     "name": "stderr",
     "output_type": "stream",
     "text": [
      "100%|██████████| 6750/6750 [00:02<00:00, 3307.73it/s] \n",
      "mkdir: synthetic/90.1: File exists\n",
      "mkdir: synthetic/90.1/roll: File exists\n"
     ]
    },
    {
     "name": "stdout",
     "output_type": "stream",
     "text": [
      "Number of molecules:\n",
      "point \t 6750\n",
      "\n",
      "Filling system:\n"
     ]
    },
    {
     "name": "stderr",
     "output_type": "stream",
     "text": [
      "100%|██████████| 6750/6750 [00:02<00:00, 3286.16it/s] \n",
      "mkdir: synthetic/90.1: File exists\n",
      "mkdir: synthetic/90.1/roll: File exists\n"
     ]
    },
    {
     "name": "stdout",
     "output_type": "stream",
     "text": [
      "Number of molecules:\n",
      "point \t 6750\n",
      "\n",
      "Filling system:\n"
     ]
    },
    {
     "name": "stderr",
     "output_type": "stream",
     "text": [
      "100%|██████████| 6750/6750 [00:02<00:00, 3286.09it/s] \n",
      "mkdir: synthetic/90.1: File exists\n",
      "mkdir: synthetic/90.1/roll: File exists\n"
     ]
    },
    {
     "name": "stdout",
     "output_type": "stream",
     "text": [
      "Number of molecules:\n",
      "point \t 6750\n",
      "\n",
      "Filling system:\n"
     ]
    },
    {
     "name": "stderr",
     "output_type": "stream",
     "text": [
      "100%|██████████| 6750/6750 [00:02<00:00, 3097.07it/s] \n",
      "mkdir: synthetic/90.1: File exists\n",
      "mkdir: synthetic/90.1/roll: File exists\n"
     ]
    },
    {
     "name": "stdout",
     "output_type": "stream",
     "text": [
      "Number of molecules:\n",
      "point \t 6750\n",
      "\n",
      "Filling system:\n"
     ]
    },
    {
     "name": "stderr",
     "output_type": "stream",
     "text": [
      "100%|██████████| 6750/6750 [00:02<00:00, 3214.41it/s] \n",
      "mkdir: synthetic/90.1: File exists\n",
      "mkdir: synthetic/90.1/roll: File exists\n"
     ]
    },
    {
     "name": "stdout",
     "output_type": "stream",
     "text": [
      "Number of molecules:\n",
      "point \t 6750\n",
      "\n",
      "Filling system:\n"
     ]
    },
    {
     "name": "stderr",
     "output_type": "stream",
     "text": [
      "100%|██████████| 6750/6750 [00:02<00:00, 3308.68it/s] \n",
      "mkdir: synthetic/90.1: File exists\n",
      "mkdir: synthetic/90.1/roll: File exists\n"
     ]
    },
    {
     "name": "stdout",
     "output_type": "stream",
     "text": [
      "Number of molecules:\n",
      "point \t 6750\n",
      "\n",
      "Filling system:\n"
     ]
    },
    {
     "name": "stderr",
     "output_type": "stream",
     "text": [
      "100%|██████████| 6750/6750 [00:02<00:00, 3226.85it/s] \n",
      "mkdir: synthetic/90.1: File exists\n",
      "mkdir: synthetic/90.1/roll: File exists\n"
     ]
    },
    {
     "name": "stdout",
     "output_type": "stream",
     "text": [
      "Number of molecules:\n",
      "point \t 6750\n",
      "\n",
      "Filling system:\n"
     ]
    },
    {
     "name": "stderr",
     "output_type": "stream",
     "text": [
      "100%|██████████| 6750/6750 [00:02<00:00, 3237.17it/s] \n",
      "mkdir: synthetic/90.1: File exists\n",
      "mkdir: synthetic/90.1/roll: File exists\n"
     ]
    },
    {
     "name": "stdout",
     "output_type": "stream",
     "text": [
      "Number of molecules:\n",
      "point \t 16200\n",
      "\n",
      "Filling system:\n"
     ]
    },
    {
     "name": "stderr",
     "output_type": "stream",
     "text": [
      "100%|██████████| 16200/16200 [00:10<00:00, 1491.12it/s]\n",
      "mkdir: synthetic/90.1: File exists\n",
      "mkdir: synthetic/90.1/perforation: File exists\n"
     ]
    },
    {
     "name": "stdout",
     "output_type": "stream",
     "text": [
      "Number of molecules:\n",
      "point \t 16200\n",
      "\n",
      "Filling system:\n"
     ]
    },
    {
     "name": "stderr",
     "output_type": "stream",
     "text": [
      "100%|██████████| 16200/16200 [00:10<00:00, 1494.80it/s]\n",
      "mkdir: synthetic/90.1: File exists\n",
      "mkdir: synthetic/90.1/perforation: File exists\n"
     ]
    },
    {
     "name": "stdout",
     "output_type": "stream",
     "text": [
      "Number of molecules:\n",
      "point \t 16200\n",
      "\n",
      "Filling system:\n"
     ]
    },
    {
     "name": "stderr",
     "output_type": "stream",
     "text": [
      "100%|██████████| 16200/16200 [00:10<00:00, 1496.37it/s]\n",
      "mkdir: synthetic/90.1: File exists\n",
      "mkdir: synthetic/90.1/perforation: File exists\n"
     ]
    },
    {
     "name": "stdout",
     "output_type": "stream",
     "text": [
      "Number of molecules:\n",
      "point \t 16200\n",
      "\n",
      "Filling system:\n"
     ]
    },
    {
     "name": "stderr",
     "output_type": "stream",
     "text": [
      "100%|██████████| 16200/16200 [00:10<00:00, 1495.45it/s]\n",
      "mkdir: synthetic/90.1: File exists\n",
      "mkdir: synthetic/90.1/perforation: File exists\n"
     ]
    },
    {
     "name": "stdout",
     "output_type": "stream",
     "text": [
      "Number of molecules:\n",
      "point \t 16200\n",
      "\n",
      "Filling system:\n"
     ]
    },
    {
     "name": "stderr",
     "output_type": "stream",
     "text": [
      "100%|██████████| 16200/16200 [00:10<00:00, 1498.03it/s]\n",
      "mkdir: synthetic/90.1: File exists\n",
      "mkdir: synthetic/90.1/perforation: File exists\n"
     ]
    },
    {
     "name": "stdout",
     "output_type": "stream",
     "text": [
      "Number of molecules:\n",
      "point \t 16200\n",
      "\n",
      "Filling system:\n"
     ]
    },
    {
     "name": "stderr",
     "output_type": "stream",
     "text": [
      "100%|██████████| 16200/16200 [00:10<00:00, 1519.97it/s]\n",
      "mkdir: synthetic/90.1: File exists\n",
      "mkdir: synthetic/90.1/perforation: File exists\n"
     ]
    },
    {
     "name": "stdout",
     "output_type": "stream",
     "text": [
      "Number of molecules:\n",
      "point \t 16200\n",
      "\n",
      "Filling system:\n"
     ]
    },
    {
     "name": "stderr",
     "output_type": "stream",
     "text": [
      "100%|██████████| 16200/16200 [00:10<00:00, 1481.30it/s]\n",
      "mkdir: synthetic/90.1: File exists\n",
      "mkdir: synthetic/90.1/perforation: File exists\n"
     ]
    },
    {
     "name": "stdout",
     "output_type": "stream",
     "text": [
      "Number of molecules:\n",
      "point \t 16200\n",
      "\n",
      "Filling system:\n"
     ]
    },
    {
     "name": "stderr",
     "output_type": "stream",
     "text": [
      "100%|██████████| 16200/16200 [00:10<00:00, 1492.58it/s]\n",
      "mkdir: synthetic/90.1: File exists\n",
      "mkdir: synthetic/90.1/perforation: File exists\n"
     ]
    },
    {
     "name": "stdout",
     "output_type": "stream",
     "text": [
      "Number of molecules:\n",
      "point \t 16200\n",
      "\n",
      "Filling system:\n"
     ]
    },
    {
     "name": "stderr",
     "output_type": "stream",
     "text": [
      "100%|██████████| 16200/16200 [00:10<00:00, 1509.73it/s]\n",
      "mkdir: synthetic/90.1: File exists\n",
      "mkdir: synthetic/90.1/perforation: File exists\n"
     ]
    },
    {
     "name": "stdout",
     "output_type": "stream",
     "text": [
      "Number of molecules:\n",
      "point \t 16200\n",
      "\n",
      "Filling system:\n"
     ]
    },
    {
     "name": "stderr",
     "output_type": "stream",
     "text": [
      "100%|██████████| 16200/16200 [00:10<00:00, 1516.18it/s]\n",
      "mkdir: synthetic/90.1: File exists\n",
      "mkdir: synthetic/90.1/perforation: File exists\n"
     ]
    }
   ],
   "source": [
    "for th in thetas:\n",
    "    for id in range(len(regions)):\n",
    "    # for id in [1]:\n",
    "        box = np.array([WIDTH_X[id], WIDTH_Y[id], H[id]])\n",
    "\n",
    "        names = ['point']\n",
    "        density = [12] # nm-3 Плотность, как у воды\n",
    "\n",
    "        for i in range(iterations, iterations+10):\n",
    "            structure = Structure(\n",
    "                title='Points',\n",
    "                box=box,\n",
    "                atoms=np.empty(0, dtype=object),\n",
    "                atoms_xyz=np.zeros((0, 3))\n",
    "            )\n",
    "            points = structure.atoms_xyz\n",
    "\n",
    "            # XZ surface\n",
    "            region = regions[id](\n",
    "                center = np.array([WIDTH_X[id] / 2, WIDTH_Y[id] / 2, c[id]]),\n",
    "                borders = np.array([WIDTH_X[id], WIDTH_Y[id], H[id]]),\n",
    "                phi = phi[id],\n",
    "                th = np.deg2rad(th),\n",
    "                H = H[id]\n",
    "            )\n",
    "\n",
    "            insert_shapes = [region]\n",
    "            shapes = [region]\n",
    "            numbers = list(np.round(np.array([shapes[i].get_volume() * density[i] for i in range(len(names))])).astype(int))\n",
    "\n",
    "            structure = build_system(\n",
    "                './', structure, names, numbers, insert_shapes, points,\n",
    "                insertion_limit=insertion_limit,\n",
    "                rotation_limit=rotation_limit,\n",
    "                package=package,\n",
    "                min_dist2=distance['min']\n",
    "            )\n",
    "\n",
    "            os.system(f'mkdir synthetic/{th}')\n",
    "            os.system(f'mkdir synthetic/{th}/{types[id]}')\n",
    "\n",
    "            with open(f'synthetic/{th}/{types[id]}/{i+1}.gro', 'w') as f:\n",
    "                f.write(write_gro(structure))"
   ]
  },
  {
   "cell_type": "code",
   "execution_count": 42,
   "metadata": {},
   "outputs": [
    {
     "data": {
      "text/plain": [
       "[array([ 2025,  4050,  6075, 10125, 16200])]"
      ]
     },
     "execution_count": 42,
     "metadata": {},
     "output_type": "execute_result"
    }
   ],
   "source": [
    "numbers"
   ]
  },
  {
   "cell_type": "code",
   "execution_count": null,
   "metadata": {},
   "outputs": [],
   "source": []
  }
 ],
 "metadata": {
  "kernelspec": {
   "display_name": ".venv",
   "language": "python",
   "name": "python3"
  },
  "language_info": {
   "codemirror_mode": {
    "name": "ipython",
    "version": 3
   },
   "file_extension": ".py",
   "mimetype": "text/x-python",
   "name": "python",
   "nbconvert_exporter": "python",
   "pygments_lexer": "ipython3",
   "version": "3.9.6"
  },
  "orig_nbformat": 4
 },
 "nbformat": 4,
 "nbformat_minor": 2
}
