{
 "cells": [
  {
   "cell_type": "code",
   "execution_count": 7,
   "metadata": {},
   "outputs": [],
   "source": [
    "import numpy as np\n",
    "import os\n",
    "from src.utils_py.io.gro import read_gro, write_gro\n",
    "from src.utils_py.geom.Box import Box\n",
    "from src.utils_py.geom.Droplet import Droplet\n",
    "from src.utils_py.geom.Doughnut import Doughnut\n",
    "from src.utils_py.geom.Worm import Worm\n",
    "from src.utils_py.geom.Roll import Roll\n",
    "from src.utils_py.geom.Perforation import Perforation\n",
    "from src.utils_py.assembler.build import build_system\n",
    "from src.utils_py.gro.Structure import Structure"
   ]
  },
  {
   "cell_type": "markdown",
   "metadata": {},
   "source": [
    "---"
   ]
  },
  {
   "cell_type": "markdown",
   "metadata": {},
   "source": [
    "# Тесты капелек"
   ]
  },
  {
   "cell_type": "code",
   "execution_count": 8,
   "metadata": {},
   "outputs": [],
   "source": [
    "''' ПАРАМЕТРЫ НЕ ТРОГАТЬ!!! '''\n",
    "insertion_limit = int(1e5)\n",
    "rotation_limit = 1000\n",
    "package = 0.3\n",
    "distance = {'min': 0.08**2, 'opt': 0.12**2}"
   ]
  },
  {
   "cell_type": "code",
   "execution_count": 58,
   "metadata": {},
   "outputs": [],
   "source": [
    "shape_type = 'doughnut'\n",
    "\n",
    "WIDTH_X, WIDTH_Y, H = 15, 15, 7.5\n",
    "phi = 0.2\n",
    "th = np.deg2rad(180)"
   ]
  },
  {
   "cell_type": "code",
   "execution_count": 59,
   "metadata": {},
   "outputs": [
    {
     "name": "stdout",
     "output_type": "stream",
     "text": [
      "Number of molecules:\n",
      "point \t 4050\n",
      "\n",
      "Filling system:\n"
     ]
    },
    {
     "name": "stderr",
     "output_type": "stream",
     "text": [
      "100%|██████████| 4050/4050 [00:01<00:00, 3189.84it/s]\n",
      "mkdir: synthetic/doughnut: File exists\n"
     ]
    }
   ],
   "source": [
    "box = np.array([WIDTH_X, WIDTH_Y, H])\n",
    "\n",
    "structure = Structure(\n",
    "    title='Points',\n",
    "    box=box,\n",
    "    atoms=np.empty(0, dtype=object),\n",
    "    atoms_xyz=np.zeros((0, 3))\n",
    ")\n",
    "\n",
    "points = structure.atoms_xyz\n",
    "\n",
    "names = ['point']\n",
    "density = [12] # nm-3 Плотность, как у воды\n",
    "\n",
    "# XZ surface\n",
    "region = Doughnut(\n",
    "    center = np.array([WIDTH_X / 2, WIDTH_Y / 2, H / 2]),\n",
    "    borders = np.array([WIDTH_X, WIDTH_Y, H]),\n",
    "    phi = phi,\n",
    "    th = th,\n",
    "    H = H\n",
    ")\n",
    "\n",
    "insert_shapes = [region]\n",
    "shapes = [region]\n",
    "numbers = list(np.round(np.array([shapes[i].get_volume() * density[i] for i in range(len(names))])).astype(int))\n",
    "\n",
    "structure = build_system(\n",
    "    './', structure, names, numbers, insert_shapes, points,\n",
    "    insertion_limit=insertion_limit,\n",
    "    rotation_limit=rotation_limit,\n",
    "    package=package,\n",
    "    min_dist2=distance['min']\n",
    ")\n",
    "\n",
    "filename = '1'\n",
    "\n",
    "os.system(f'mkdir synthetic/{shape_type}')\n",
    "\n",
    "with open(f'synthetic/{shape_type}/{filename}.gro', 'w') as f:\n",
    "    f.write(write_gro(structure))"
   ]
  },
  {
   "cell_type": "markdown",
   "metadata": {},
   "source": [
    "---"
   ]
  },
  {
   "cell_type": "markdown",
   "metadata": {},
   "source": [
    "# Генерация искуственных датасетов"
   ]
  },
  {
   "cell_type": "code",
   "execution_count": 9,
   "metadata": {},
   "outputs": [],
   "source": [
    "regions = [ Droplet ,  Doughnut ,  Worm ,  Roll ,  Perforation]\n",
    "types   = ['droplet', 'doughnut', 'worm', 'roll', 'perforation']\n",
    "phi     = np.array([0.1, 0.2, 0.3, 0.5, 0.8])\n",
    "WIDTH_X = np.array([15 , 15 , 15 , 15 , 15 ])\n",
    "WIDTH_Y = np.array([15 , 15 , 15 , 15 , 15 ])\n",
    "H       = np.array([7.5, 7.5, 7.5, 5  , 7.5])\n",
    "c  = H / 2\n",
    "c[0] = 0\n",
    "c[2] = 0\n",
    "thetas    = [180, 170, 160, 150, 140, 130, 120, 110, 100, 90.1]"
   ]
  },
  {
   "cell_type": "code",
   "execution_count": 10,
   "metadata": {},
   "outputs": [],
   "source": [
    "iterations = 10"
   ]
  },
  {
   "cell_type": "code",
   "execution_count": null,
   "metadata": {},
   "outputs": [],
   "source": [
    "for th in thetas:\n",
    "    for id in range(len(regions)):\n",
    "    # for id in [1]:\n",
    "        box = np.array([WIDTH_X[id], WIDTH_Y[id], H[id]])\n",
    "\n",
    "        names = ['point']\n",
    "        density = [12] # nm-3 Плотность, как у воды\n",
    "\n",
    "        for i in range(iterations, iterations+10):\n",
    "            structure = Structure(\n",
    "                title='Points',\n",
    "                box=box,\n",
    "                atoms=np.empty(0, dtype=object),\n",
    "                atoms_xyz=np.zeros((0, 3))\n",
    "            )\n",
    "            points = structure.atoms_xyz\n",
    "\n",
    "            # XZ surface\n",
    "            region = regions[id](\n",
    "                center = np.array([WIDTH_X[id] / 2, WIDTH_Y[id] / 2, c[id]]),\n",
    "                borders = np.array([WIDTH_X[id], WIDTH_Y[id], H[id]]),\n",
    "                phi = phi[id],\n",
    "                th = np.deg2rad(th),\n",
    "                H = H[id]\n",
    "            )\n",
    "\n",
    "            insert_shapes = [region]\n",
    "            shapes = [region]\n",
    "            numbers = list(np.round(np.array([shapes[i].get_volume() * density[i] for i in range(len(names))])).astype(int))\n",
    "\n",
    "            structure = build_system(\n",
    "                './', structure, names, numbers, insert_shapes, points,\n",
    "                insertion_limit=insertion_limit,\n",
    "                rotation_limit=rotation_limit,\n",
    "                package=package,\n",
    "                min_dist2=distance['min']\n",
    "            )\n",
    "\n",
    "            os.system(f'mkdir synthetic/{th}')\n",
    "            os.system(f'mkdir synthetic/{th}/{types[id]}')\n",
    "\n",
    "            with open(f'synthetic/{th}/{types[id]}/{i+1}.gro', 'w') as f:\n",
    "                f.write(write_gro(structure))"
   ]
  },
  {
   "cell_type": "markdown",
   "metadata": {},
   "source": [
    "---"
   ]
  },
  {
   "cell_type": "markdown",
   "metadata": {},
   "source": [
    "## Тесты капелек alpha"
   ]
  },
  {
   "cell_type": "code",
   "execution_count": 1,
   "metadata": {},
   "outputs": [],
   "source": [
    "import importlib\n",
    "import numpy as np\n",
    "from scipy.stats import norm\n",
    "from tqdm import tqdm\n",
    "import os\n",
    "\n",
    "import sys\n",
    "sys.path.append(\"..\")  # Avoid error with importing of src\n",
    "from src.utils_py.io.gro import read_gro, write_gro\n",
    "from src.utils_py.geom.Box import Box\n",
    "from src.utils_py.geom import interface_geom\n",
    "from src.utils_py.assembler.build import build_system\n",
    "from src.utils_py.gro.Structure import Structure"
   ]
  },
  {
   "cell_type": "code",
   "execution_count": 2,
   "metadata": {},
   "outputs": [],
   "source": [
    "shapes = [\"Droplet\", \"Doughnut\", \"Worm\", \"Roll\", \"Perforation\", \"Layer\"]\n",
    "shapes_iter = [40, 10, 20, 10, 10, 2]"
   ]
  },
  {
   "cell_type": "code",
   "execution_count": 3,
   "metadata": {},
   "outputs": [
    {
     "name": "stdout",
     "output_type": "stream",
     "text": [
      "L [1. 2. 3. 4.]\n",
      "PHI [0.05 0.15 0.25 0.35 0.45 0.55 0.65 0.75 0.85 0.95]\n",
      "THETA [ 91 100 110 120 130 140 150 160 170 180]\n",
      "DELTA [0.   0.05 0.1  0.15 0.2 ]\n"
     ]
    }
   ],
   "source": [
    "box = np.array([10, 10, 10])\n",
    "\n",
    "L = np.arange(1, 4.1, 1)\n",
    "print(\"L\", L)\n",
    "PHI = np.arange(0.05, 1, 0.1)\n",
    "print(\"PHI\", PHI)\n",
    "THETA = np.arange(90, 181, 10)\n",
    "THETA[0] = 91\n",
    "print(\"THETA\", THETA)\n",
    "DELTA = np.arange(0, 0.21, 0.05)\n",
    "print(\"DELTA\", DELTA)"
   ]
  },
  {
   "cell_type": "code",
   "execution_count": 4,
   "metadata": {},
   "outputs": [],
   "source": [
    "def gen_range(points: np.array, step: float,  iter: int, lower: float):\n",
    "    POINTS = []\n",
    "    dist = norm(loc=0, scale=step / 6)\n",
    "    for point in points:\n",
    "        point_arr = []\n",
    "\n",
    "        for j in range(iter):\n",
    "            val = point + dist.rvs(1).item()\n",
    "            while val < lower:\n",
    "                val = point + dist.rvs(1).item()\n",
    "\n",
    "            point_arr.append(val)\n",
    "\n",
    "        POINTS.append(point_arr)\n",
    "\n",
    "    return np.array(POINTS)"
   ]
  },
  {
   "cell_type": "code",
   "execution_count": 4,
   "metadata": {},
   "outputs": [],
   "source": [
    "def add_noise(point: float, step: float, lower: float):\n",
    "    dist = norm(loc=0, scale=step / 6)\n",
    "    val = point + dist.rvs(1).item()\n",
    "    while val < lower:\n",
    "        val = point + dist.rvs(1).item()\n",
    "\n",
    "    return val"
   ]
  },
  {
   "cell_type": "code",
   "execution_count": null,
   "metadata": {},
   "outputs": [],
   "source": [
    "for i, shape in enumerate(shapes):\n",
    "    iter = shaper_iter[i]\n",
    "\n",
    "    L_shape = []\n",
    "    dl = 1\n",
    "    dist = norm(loc=0, scale=dl / 6)\n",
    "    for l in L:\n",
    "        l_shape = []\n",
    "        for j in range(iter):\n",
    "            l_shape.append(l + dist.rvs(1).item())\n",
    "        L_shape.append(l_shape)\n",
    "\n",
    "    print('L_shape')\n",
    "    print(np.array(L_shape))\n",
    "\n",
    "    PHI_shape = []\n",
    "    dphi = 0.1\n",
    "    dist = norm(loc=0, scale=dphi / 6)\n",
    "    for phi in PHI:\n",
    "        phi_shape = []\n",
    "        for j in range(iter):\n",
    "            val = phi + dist.rvs(1).item()\n",
    "            while val < 0:\n",
    "                val = phi + dist.rvs(1).item()\n",
    "\n",
    "            phi_shape.append(val)\n",
    "        PHI_shape.append(phi_shape)\n",
    "\n",
    "    print('PHI_shape')\n",
    "    print(np.array(PHI_shape))\n",
    "\n",
    "    THETA_shape = []\n",
    "    dtheta = 10\n",
    "    dist = norm(loc=0, scale=dtheta / 6)\n",
    "    for theta in THETA:\n",
    "        theta_shape = []\n",
    "        for j in range(iter):\n",
    "            val = theta + dist.rvs(1).item()\n",
    "            while val < 91:\n",
    "                val = theta + dist.rvs(1).item()\n",
    "\n",
    "            theta_shape.append(val)\n",
    "        THETA_shape.append(theta_shape)\n",
    "\n",
    "    print('THETA_shape')\n",
    "    print(np.array(THETA_shape))\n",
    "\n",
    "    DELTA_shape = []\n",
    "    ddelta = 0.05\n",
    "    dist = norm(loc=0, scale=ddelta / 6)\n",
    "    for delta in DELTA:\n",
    "        delta_shape = []\n",
    "        for j in range(iter):\n",
    "            val = delta + dist.rvs(1).item()\n",
    "            while val < 0:\n",
    "                val = delta + dist.rvs(1).item()\n",
    "\n",
    "            delta_shape.append(val)\n",
    "        DELTA_shape.append(delta_shape)\n",
    "\n",
    "    print('DELTA_shape')\n",
    "    print(np.array(DELTA_shape))"
   ]
  },
  {
   "cell_type": "code",
   "execution_count": 27,
   "metadata": {},
   "outputs": [
    {
     "name": "stderr",
     "output_type": "stream",
     "text": [
      "iter: 100%|██████████| 40/40 [00:01<00:00, 24.34it/s]\n",
      "iter: 100%|██████████| 10/10 [00:00<00:00, 13.71it/s]\n",
      "iter: 100%|██████████| 20/20 [00:00<00:00, 27.12it/s]\n",
      "iter: 100%|██████████| 10/10 [00:00<00:00, 22.45it/s]\n",
      "iter: 100%|██████████| 10/10 [00:00<00:00, 14.88it/s]\n",
      "iter: 100%|██████████| 2/2 [00:00<00:00, 45.58it/s]"
     ]
    },
    {
     "name": "stdout",
     "output_type": "stream",
     "text": [
      "Total number of conformations 59459\n"
     ]
    },
    {
     "name": "stderr",
     "output_type": "stream",
     "text": [
      "\n"
     ]
    }
   ],
   "source": [
    "counter = 0\n",
    "shapes_counter = dict(zip(shapes, [0 for i in range(len(shapes))]))\n",
    "\n",
    "for i, shape in enumerate(shapes):\n",
    "    L_range = gen_range(L, 1, shapes_iter[i], 1)\n",
    "    PHI_range = gen_range(PHI, 0.1, shapes_iter[i], 0.05)\n",
    "    THETA_range = gen_range(THETA, 10, shapes_iter[i], 91)\n",
    "    DELTA_range = gen_range(DELTA, 0.05, shapes_iter[i], 0)\n",
    "\n",
    "    module = importlib.import_module(f\"src.utils_py.geom.interface_geom.{shape.title()}\")\n",
    "    Interface = getattr(module, shape.title())\n",
    "\n",
    "    for j in tqdm(range(shapes_iter[i]), desc=\"iter\"):\n",
    "        for l in L_range[:, j]:\n",
    "            for phi in PHI_range[:, j]:\n",
    "                for theta in THETA_range[:, j]:\n",
    "                    for delta in DELTA_range[:, j]:\n",
    "                        box[2] = box[0] / l\n",
    "\n",
    "                        region = Interface(\n",
    "                            box / 2,\n",
    "                            box,\n",
    "                            l,\n",
    "                            phi,\n",
    "                            theta=np.deg2rad(theta),\n",
    "                            delta=delta,\n",
    "                            extention=\"alpha\",\n",
    "                        )\n",
    "\n",
    "                        if region.check_existence():\n",
    "                            counter += 1\n",
    "                            shapes_counter[shape] += 1\n",
    "\n",
    "print(f\"Total number of conformations {counter}\")"
   ]
  },
  {
   "cell_type": "code",
   "execution_count": 5,
   "metadata": {},
   "outputs": [
    {
     "name": "stderr",
     "output_type": "stream",
     "text": [
      "iter: 100%|██████████| 40/40 [02:28<00:00,  3.72s/it]\n",
      "iter:  10%|█         | 1/10 [00:07<01:04,  7.20s/it]\n"
     ]
    },
    {
     "ename": "KeyboardInterrupt",
     "evalue": "",
     "output_type": "error",
     "traceback": [
      "\u001b[0;31m---------------------------------------------------------------------------\u001b[0m",
      "\u001b[0;31mKeyboardInterrupt\u001b[0m                         Traceback (most recent call last)",
      "Cell \u001b[0;32mIn[5], line 16\u001b[0m\n\u001b[1;32m     14\u001b[0m phi_noise \u001b[38;5;241m=\u001b[39m add_noise(phi, \u001b[38;5;241m0.1\u001b[39m, \u001b[38;5;241m0.05\u001b[39m)\n\u001b[1;32m     15\u001b[0m theta_noise \u001b[38;5;241m=\u001b[39m add_noise(theta, \u001b[38;5;241m10\u001b[39m, \u001b[38;5;241m91\u001b[39m)\n\u001b[0;32m---> 16\u001b[0m delta_noise \u001b[38;5;241m=\u001b[39m \u001b[43madd_noise\u001b[49m\u001b[43m(\u001b[49m\u001b[43mdelta\u001b[49m\u001b[43m,\u001b[49m\u001b[43m \u001b[49m\u001b[38;5;241;43m0.05\u001b[39;49m\u001b[43m,\u001b[49m\u001b[43m \u001b[49m\u001b[38;5;241;43m0\u001b[39;49m\u001b[43m)\u001b[49m\n\u001b[1;32m     18\u001b[0m box[\u001b[38;5;241m2\u001b[39m] \u001b[38;5;241m=\u001b[39m box[\u001b[38;5;241m0\u001b[39m] \u001b[38;5;241m/\u001b[39m l\n\u001b[1;32m     20\u001b[0m region \u001b[38;5;241m=\u001b[39m Interface(\n\u001b[1;32m     21\u001b[0m     box \u001b[38;5;241m/\u001b[39m \u001b[38;5;241m2\u001b[39m,\n\u001b[1;32m     22\u001b[0m     box,\n\u001b[0;32m   (...)\u001b[0m\n\u001b[1;32m     27\u001b[0m     extention\u001b[38;5;241m=\u001b[39m\u001b[38;5;124m\"\u001b[39m\u001b[38;5;124malpha\u001b[39m\u001b[38;5;124m\"\u001b[39m,\n\u001b[1;32m     28\u001b[0m )\n",
      "Cell \u001b[0;32mIn[4], line 3\u001b[0m, in \u001b[0;36madd_noise\u001b[0;34m(point, step, lower)\u001b[0m\n\u001b[1;32m      1\u001b[0m \u001b[38;5;28;01mdef\u001b[39;00m \u001b[38;5;21madd_noise\u001b[39m(point: \u001b[38;5;28mfloat\u001b[39m, step: \u001b[38;5;28mfloat\u001b[39m, lower: \u001b[38;5;28mfloat\u001b[39m):\n\u001b[1;32m      2\u001b[0m     dist \u001b[38;5;241m=\u001b[39m norm(loc\u001b[38;5;241m=\u001b[39m\u001b[38;5;241m0\u001b[39m, scale\u001b[38;5;241m=\u001b[39mstep \u001b[38;5;241m/\u001b[39m \u001b[38;5;241m6\u001b[39m)\n\u001b[0;32m----> 3\u001b[0m     val \u001b[38;5;241m=\u001b[39m point \u001b[38;5;241m+\u001b[39m \u001b[43mdist\u001b[49m\u001b[38;5;241;43m.\u001b[39;49m\u001b[43mrvs\u001b[49m\u001b[43m(\u001b[49m\u001b[38;5;241;43m1\u001b[39;49m\u001b[43m)\u001b[49m\u001b[38;5;241m.\u001b[39mitem()\n\u001b[1;32m      4\u001b[0m     \u001b[38;5;28;01mwhile\u001b[39;00m val \u001b[38;5;241m<\u001b[39m lower:\n\u001b[1;32m      5\u001b[0m         val \u001b[38;5;241m=\u001b[39m point \u001b[38;5;241m+\u001b[39m dist\u001b[38;5;241m.\u001b[39mrvs(\u001b[38;5;241m1\u001b[39m)\u001b[38;5;241m.\u001b[39mitem()\n",
      "File \u001b[0;32m~/PANDA/.venv/lib/python3.9/site-packages/scipy/stats/_distn_infrastructure.py:493\u001b[0m, in \u001b[0;36mrv_frozen.rvs\u001b[0;34m(self, size, random_state)\u001b[0m\n\u001b[1;32m    491\u001b[0m kwds \u001b[38;5;241m=\u001b[39m \u001b[38;5;28mself\u001b[39m\u001b[38;5;241m.\u001b[39mkwds\u001b[38;5;241m.\u001b[39mcopy()\n\u001b[1;32m    492\u001b[0m kwds\u001b[38;5;241m.\u001b[39mupdate({\u001b[38;5;124m'\u001b[39m\u001b[38;5;124msize\u001b[39m\u001b[38;5;124m'\u001b[39m: size, \u001b[38;5;124m'\u001b[39m\u001b[38;5;124mrandom_state\u001b[39m\u001b[38;5;124m'\u001b[39m: random_state})\n\u001b[0;32m--> 493\u001b[0m \u001b[38;5;28;01mreturn\u001b[39;00m \u001b[38;5;28;43mself\u001b[39;49m\u001b[38;5;241;43m.\u001b[39;49m\u001b[43mdist\u001b[49m\u001b[38;5;241;43m.\u001b[39;49m\u001b[43mrvs\u001b[49m\u001b[43m(\u001b[49m\u001b[38;5;241;43m*\u001b[39;49m\u001b[38;5;28;43mself\u001b[39;49m\u001b[38;5;241;43m.\u001b[39;49m\u001b[43margs\u001b[49m\u001b[43m,\u001b[49m\u001b[43m \u001b[49m\u001b[38;5;241;43m*\u001b[39;49m\u001b[38;5;241;43m*\u001b[39;49m\u001b[43mkwds\u001b[49m\u001b[43m)\u001b[49m\n",
      "File \u001b[0;32m~/PANDA/.venv/lib/python3.9/site-packages/scipy/stats/_distn_infrastructure.py:1051\u001b[0m, in \u001b[0;36mrv_generic.rvs\u001b[0;34m(self, *args, **kwds)\u001b[0m\n\u001b[1;32m   1049\u001b[0m args, loc, scale, size \u001b[38;5;241m=\u001b[39m \u001b[38;5;28mself\u001b[39m\u001b[38;5;241m.\u001b[39m_parse_args_rvs(\u001b[38;5;241m*\u001b[39margs, \u001b[38;5;241m*\u001b[39m\u001b[38;5;241m*\u001b[39mkwds)\n\u001b[1;32m   1050\u001b[0m cond \u001b[38;5;241m=\u001b[39m logical_and(\u001b[38;5;28mself\u001b[39m\u001b[38;5;241m.\u001b[39m_argcheck(\u001b[38;5;241m*\u001b[39margs), (scale \u001b[38;5;241m>\u001b[39m\u001b[38;5;241m=\u001b[39m \u001b[38;5;241m0\u001b[39m))\n\u001b[0;32m-> 1051\u001b[0m \u001b[38;5;28;01mif\u001b[39;00m \u001b[38;5;129;01mnot\u001b[39;00m \u001b[43mnp\u001b[49m\u001b[38;5;241;43m.\u001b[39;49m\u001b[43mall\u001b[49m\u001b[43m(\u001b[49m\u001b[43mcond\u001b[49m\u001b[43m)\u001b[49m:\n\u001b[1;32m   1052\u001b[0m     message \u001b[38;5;241m=\u001b[39m (\u001b[38;5;124m\"\u001b[39m\u001b[38;5;124mDomain error in arguments. The `scale` parameter must \u001b[39m\u001b[38;5;124m\"\u001b[39m\n\u001b[1;32m   1053\u001b[0m                \u001b[38;5;124m\"\u001b[39m\u001b[38;5;124mbe positive for all distributions, and many \u001b[39m\u001b[38;5;124m\"\u001b[39m\n\u001b[1;32m   1054\u001b[0m                \u001b[38;5;124m\"\u001b[39m\u001b[38;5;124mdistributions have restrictions on shape parameters. \u001b[39m\u001b[38;5;124m\"\u001b[39m\n\u001b[1;32m   1055\u001b[0m                \u001b[38;5;124mf\u001b[39m\u001b[38;5;124m\"\u001b[39m\u001b[38;5;124mPlease see the `scipy.stats.\u001b[39m\u001b[38;5;132;01m{\u001b[39;00m\u001b[38;5;28mself\u001b[39m\u001b[38;5;241m.\u001b[39mname\u001b[38;5;132;01m}\u001b[39;00m\u001b[38;5;124m` \u001b[39m\u001b[38;5;124m\"\u001b[39m\n\u001b[1;32m   1056\u001b[0m                \u001b[38;5;124m\"\u001b[39m\u001b[38;5;124mdocumentation for details.\u001b[39m\u001b[38;5;124m\"\u001b[39m)\n\u001b[1;32m   1057\u001b[0m     \u001b[38;5;28;01mraise\u001b[39;00m \u001b[38;5;167;01mValueError\u001b[39;00m(message)\n",
      "File \u001b[0;32m~/PANDA/.venv/lib/python3.9/site-packages/numpy/core/fromnumeric.py:2504\u001b[0m, in \u001b[0;36mall\u001b[0;34m(a, axis, out, keepdims, where)\u001b[0m\n\u001b[1;32m   2421\u001b[0m \u001b[38;5;129m@array_function_dispatch\u001b[39m(_all_dispatcher)\n\u001b[1;32m   2422\u001b[0m \u001b[38;5;28;01mdef\u001b[39;00m \u001b[38;5;21mall\u001b[39m(a, axis\u001b[38;5;241m=\u001b[39m\u001b[38;5;28;01mNone\u001b[39;00m, out\u001b[38;5;241m=\u001b[39m\u001b[38;5;28;01mNone\u001b[39;00m, keepdims\u001b[38;5;241m=\u001b[39mnp\u001b[38;5;241m.\u001b[39m_NoValue, \u001b[38;5;241m*\u001b[39m, where\u001b[38;5;241m=\u001b[39mnp\u001b[38;5;241m.\u001b[39m_NoValue):\n\u001b[1;32m   2423\u001b[0m \u001b[38;5;250m    \u001b[39m\u001b[38;5;124;03m\"\"\"\u001b[39;00m\n\u001b[1;32m   2424\u001b[0m \u001b[38;5;124;03m    Test whether all array elements along a given axis evaluate to True.\u001b[39;00m\n\u001b[1;32m   2425\u001b[0m \n\u001b[0;32m   (...)\u001b[0m\n\u001b[1;32m   2502\u001b[0m \n\u001b[1;32m   2503\u001b[0m \u001b[38;5;124;03m    \"\"\"\u001b[39;00m\n\u001b[0;32m-> 2504\u001b[0m     \u001b[38;5;28;01mreturn\u001b[39;00m \u001b[43m_wrapreduction\u001b[49m\u001b[43m(\u001b[49m\u001b[43ma\u001b[49m\u001b[43m,\u001b[49m\u001b[43m \u001b[49m\u001b[43mnp\u001b[49m\u001b[38;5;241;43m.\u001b[39;49m\u001b[43mlogical_and\u001b[49m\u001b[43m,\u001b[49m\u001b[43m \u001b[49m\u001b[38;5;124;43m'\u001b[39;49m\u001b[38;5;124;43mall\u001b[39;49m\u001b[38;5;124;43m'\u001b[39;49m\u001b[43m,\u001b[49m\u001b[43m \u001b[49m\u001b[43maxis\u001b[49m\u001b[43m,\u001b[49m\u001b[43m \u001b[49m\u001b[38;5;28;43;01mNone\u001b[39;49;00m\u001b[43m,\u001b[49m\u001b[43m \u001b[49m\u001b[43mout\u001b[49m\u001b[43m,\u001b[49m\n\u001b[1;32m   2505\u001b[0m \u001b[43m                          \u001b[49m\u001b[43mkeepdims\u001b[49m\u001b[38;5;241;43m=\u001b[39;49m\u001b[43mkeepdims\u001b[49m\u001b[43m,\u001b[49m\u001b[43m \u001b[49m\u001b[43mwhere\u001b[49m\u001b[38;5;241;43m=\u001b[39;49m\u001b[43mwhere\u001b[49m\u001b[43m)\u001b[49m\n",
      "File \u001b[0;32m~/PANDA/.venv/lib/python3.9/site-packages/numpy/core/fromnumeric.py:86\u001b[0m, in \u001b[0;36m_wrapreduction\u001b[0;34m(obj, ufunc, method, axis, dtype, out, **kwargs)\u001b[0m\n\u001b[1;32m     84\u001b[0m             \u001b[38;5;28;01mreturn\u001b[39;00m reduction(axis\u001b[38;5;241m=\u001b[39maxis, dtype\u001b[38;5;241m=\u001b[39mdtype, out\u001b[38;5;241m=\u001b[39mout, \u001b[38;5;241m*\u001b[39m\u001b[38;5;241m*\u001b[39mpasskwargs)\n\u001b[1;32m     85\u001b[0m         \u001b[38;5;28;01melse\u001b[39;00m:\n\u001b[0;32m---> 86\u001b[0m             \u001b[38;5;28;01mreturn\u001b[39;00m \u001b[43mreduction\u001b[49m\u001b[43m(\u001b[49m\u001b[43maxis\u001b[49m\u001b[38;5;241;43m=\u001b[39;49m\u001b[43maxis\u001b[49m\u001b[43m,\u001b[49m\u001b[43m \u001b[49m\u001b[43mout\u001b[49m\u001b[38;5;241;43m=\u001b[39;49m\u001b[43mout\u001b[49m\u001b[43m,\u001b[49m\u001b[43m \u001b[49m\u001b[38;5;241;43m*\u001b[39;49m\u001b[38;5;241;43m*\u001b[39;49m\u001b[43mpasskwargs\u001b[49m\u001b[43m)\u001b[49m\n\u001b[1;32m     88\u001b[0m \u001b[38;5;28;01mreturn\u001b[39;00m ufunc\u001b[38;5;241m.\u001b[39mreduce(obj, axis, dtype, out, \u001b[38;5;241m*\u001b[39m\u001b[38;5;241m*\u001b[39mpasskwargs)\n",
      "File \u001b[0;32m~/PANDA/.venv/lib/python3.9/site-packages/numpy/core/_methods.py:64\u001b[0m, in \u001b[0;36m_all\u001b[0;34m(a, axis, dtype, out, keepdims, where)\u001b[0m\n\u001b[1;32m     61\u001b[0m \u001b[38;5;28;01mdef\u001b[39;00m \u001b[38;5;21m_all\u001b[39m(a, axis\u001b[38;5;241m=\u001b[39m\u001b[38;5;28;01mNone\u001b[39;00m, dtype\u001b[38;5;241m=\u001b[39m\u001b[38;5;28;01mNone\u001b[39;00m, out\u001b[38;5;241m=\u001b[39m\u001b[38;5;28;01mNone\u001b[39;00m, keepdims\u001b[38;5;241m=\u001b[39m\u001b[38;5;28;01mFalse\u001b[39;00m, \u001b[38;5;241m*\u001b[39m, where\u001b[38;5;241m=\u001b[39m\u001b[38;5;28;01mTrue\u001b[39;00m):\n\u001b[1;32m     62\u001b[0m     \u001b[38;5;66;03m# Parsing keyword arguments is currently fairly slow, so avoid it for now\u001b[39;00m\n\u001b[1;32m     63\u001b[0m     \u001b[38;5;28;01mif\u001b[39;00m where \u001b[38;5;129;01mis\u001b[39;00m \u001b[38;5;28;01mTrue\u001b[39;00m:\n\u001b[0;32m---> 64\u001b[0m         \u001b[38;5;28;01mreturn\u001b[39;00m \u001b[43mumr_all\u001b[49m\u001b[43m(\u001b[49m\u001b[43ma\u001b[49m\u001b[43m,\u001b[49m\u001b[43m \u001b[49m\u001b[43maxis\u001b[49m\u001b[43m,\u001b[49m\u001b[43m \u001b[49m\u001b[43mdtype\u001b[49m\u001b[43m,\u001b[49m\u001b[43m \u001b[49m\u001b[43mout\u001b[49m\u001b[43m,\u001b[49m\u001b[43m \u001b[49m\u001b[43mkeepdims\u001b[49m\u001b[43m)\u001b[49m\n\u001b[1;32m     65\u001b[0m     \u001b[38;5;28;01mreturn\u001b[39;00m umr_all(a, axis, dtype, out, keepdims, where\u001b[38;5;241m=\u001b[39mwhere)\n",
      "\u001b[0;31mKeyboardInterrupt\u001b[0m: "
     ]
    }
   ],
   "source": [
    "counter = 0\n",
    "shapes_counter = dict(zip(shapes, [0 for i in range(len(shapes))]))\n",
    "\n",
    "for i, shape in enumerate(shapes):\n",
    "    module = importlib.import_module(f\"src.utils_py.geom.interface_geom.{shape.title()}\")\n",
    "    Interface = getattr(module, shape.title())\n",
    "\n",
    "    for j in tqdm(range(shapes_iter[i]), desc=\"iter\"):\n",
    "        for l in L:\n",
    "            for phi in PHI:\n",
    "                for theta in THETA:\n",
    "                    for delta in DELTA:\n",
    "                        l_noise = add_noise(l, 1, 1)\n",
    "                        phi_noise = add_noise(phi, 0.1, 0.05)\n",
    "                        theta_noise = add_noise(theta, 10, 91)\n",
    "                        delta_noise = add_noise(delta, 0.05, 0)\n",
    "\n",
    "                        box[2] = box[0] / l\n",
    "\n",
    "                        region = Interface(\n",
    "                            box / 2,\n",
    "                            box,\n",
    "                            l=l_noise,\n",
    "                            phi=phi_noise,\n",
    "                            theta=np.deg2rad(theta_noise),\n",
    "                            delta=delta_noise,\n",
    "                            extention=\"alpha\",\n",
    "                        )\n",
    "\n",
    "                        if region.check_existence():\n",
    "                            counter += 1\n",
    "                            shapes_counter[shape] += 1\n",
    "\n",
    "print(f\"Total number of conformations {counter}\")"
   ]
  },
  {
   "cell_type": "code",
   "execution_count": 28,
   "metadata": {},
   "outputs": [
    {
     "data": {
      "text/plain": [
       "{'Droplet': 9709,\n",
       " 'Doughnut': 10981,\n",
       " 'Worm': 12523,\n",
       " 'Roll': 13391,\n",
       " 'Perforation': 9655,\n",
       " 'Layer': 3200}"
      ]
     },
     "execution_count": 28,
     "metadata": {},
     "output_type": "execute_result"
    }
   ],
   "source": [
    "shapes_counter"
   ]
  },
  {
   "cell_type": "code",
   "execution_count": 26,
   "metadata": {},
   "outputs": [
    {
     "data": {
      "text/plain": [
       "59596"
      ]
     },
     "execution_count": 26,
     "metadata": {},
     "output_type": "execute_result"
    }
   ],
   "source": [
    "sum(shapes_counter.values())"
   ]
  },
  {
   "cell_type": "code",
   "execution_count": 16,
   "metadata": {},
   "outputs": [
    {
     "data": {
      "text/plain": [
       "6127"
      ]
     },
     "execution_count": 16,
     "metadata": {},
     "output_type": "execute_result"
    }
   ],
   "source": [
    "270 * 4 + 1085 + 646 * 2 + 1315 + 955 + 1600 // 4"
   ]
  },
  {
   "cell_type": "code",
   "execution_count": 19,
   "metadata": {},
   "outputs": [
    {
     "data": {
      "text/plain": [
       "61270"
      ]
     },
     "execution_count": 19,
     "metadata": {},
     "output_type": "execute_result"
    }
   ],
   "source": [
    "270 * 4 * 10 + 1085 * 10 + 646 * 2 * 10 + 1315 * 10 + 955 * 10 + 1600 * 10 // 4"
   ]
  },
  {
   "cell_type": "code",
   "execution_count": 8,
   "metadata": {},
   "outputs": [
    {
     "data": {
      "text/plain": [
       "12800"
      ]
     },
     "execution_count": 8,
     "metadata": {},
     "output_type": "execute_result"
    }
   ],
   "source": [
    "1600 * 8"
   ]
  },
  {
   "cell_type": "code",
   "execution_count": 2,
   "metadata": {},
   "outputs": [
    {
     "data": {
      "text/plain": [
       "10336"
      ]
     },
     "execution_count": 2,
     "metadata": {},
     "output_type": "execute_result"
    }
   ],
   "source": [
    "646 * 2 * 8"
   ]
  },
  {
   "cell_type": "code",
   "execution_count": null,
   "metadata": {},
   "outputs": [],
   "source": []
  }
 ],
 "metadata": {
  "kernelspec": {
   "display_name": ".venv",
   "language": "python",
   "name": "python3"
  },
  "language_info": {
   "codemirror_mode": {
    "name": "ipython",
    "version": 3
   },
   "file_extension": ".py",
   "mimetype": "text/x-python",
   "name": "python",
   "nbconvert_exporter": "python",
   "pygments_lexer": "ipython3",
   "version": "3.9.13"
  },
  "orig_nbformat": 4
 },
 "nbformat": 4,
 "nbformat_minor": 2
}
