{
 "cells": [
  {
   "cell_type": "code",
   "execution_count": null,
   "metadata": {},
   "outputs": [],
   "source": [
    "--WIDTH_X {WIDTH_X} \\\n",
    "--WIDTH_Y {WIDTH_Y} \\\n",
    "--H {H} \\\n",
    "--phi {phi} \\\n",
    "--delta {delta} \\\n",
    "--interface_type \"{interface_type}\" \\\n",
    "--extention \"{extention}\" \\\n",
    "--folder \"{folder}\" \\\n",
    "--iterations {iterations}"
   ]
  },
  {
   "cell_type": "code",
   "execution_count": 15,
   "metadata": {},
   "outputs": [],
   "source": [
    "import os"
   ]
  },
  {
   "cell_type": "markdown",
   "metadata": {},
   "source": [
    "---"
   ]
  },
  {
   "cell_type": "code",
   "execution_count": 12,
   "metadata": {},
   "outputs": [],
   "source": [
    "args = {\n",
    "    'WIDTH_X': 15,\n",
    "    'WIDTH_Y': 15,\n",
    "    'H': 15,\n",
    "    'phi': 0.1,\n",
    "    'delta': \",\".join(map(str,[0.00, 0.05, 0.01, 0.15, 0.20])),\n",
    "    'interface_type': \"droplet\",\n",
    "    'extention': 'delta',\n",
    "    'folder': \"~/DATA/synthetic_delta\",\n",
    "    'iterations': 100\n",
    "}"
   ]
  },
  {
   "cell_type": "code",
   "execution_count": 9,
   "metadata": {},
   "outputs": [],
   "source": [
    "with open(\"../scripts/run_delta_template.sh\", \"r\") as template_file:\n",
    "    template_content = template_file.read()"
   ]
  },
  {
   "cell_type": "code",
   "execution_count": 13,
   "metadata": {},
   "outputs": [],
   "source": [
    "script_content = template_content.format(**args)"
   ]
  },
  {
   "cell_type": "code",
   "execution_count": 16,
   "metadata": {},
   "outputs": [],
   "source": [
    "# Define a unique filename for each script\n",
    "script_filename = os.path.join(\"../scripts\", \"run_delta_droplet.sh\")\n",
    "\n",
    "# Write the generated content to the new script file\n",
    "with open(script_filename, \"w\") as script_file:\n",
    "    script_file.write(script_content)"
   ]
  },
  {
   "cell_type": "code",
   "execution_count": null,
   "metadata": {},
   "outputs": [],
   "source": []
  }
 ],
 "metadata": {
  "kernelspec": {
   "display_name": ".venv",
   "language": "python",
   "name": "python3"
  },
  "language_info": {
   "codemirror_mode": {
    "name": "ipython",
    "version": 3
   },
   "file_extension": ".py",
   "mimetype": "text/x-python",
   "name": "python",
   "nbconvert_exporter": "python",
   "pygments_lexer": "ipython3",
   "version": "3.9.6"
  }
 },
 "nbformat": 4,
 "nbformat_minor": 2
}
