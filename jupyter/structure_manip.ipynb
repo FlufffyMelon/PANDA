{
 "cells": [
  {
   "cell_type": "code",
   "execution_count": 33,
   "metadata": {},
   "outputs": [],
   "source": [
    "import sys\n",
    "sys.path.append('../')\n",
    "import numpy as np\n",
    "from src.utils_py.gro.Structure import Structure\n",
    "from src.utils_py.gro.Atom import Atom_label\n",
    "from src.utils_py.io.gro import write_gro, read_gro"
   ]
  },
  {
   "cell_type": "markdown",
   "metadata": {},
   "source": [
    "---"
   ]
  },
  {
   "cell_type": "markdown",
   "metadata": {},
   "source": [
    "move O through PBC"
   ]
  },
  {
   "cell_type": "code",
   "execution_count": 17,
   "metadata": {},
   "outputs": [],
   "source": [
    "# structure = read_gro('../structures/calcite/calcite_104_unitcell.gro')\n",
    "structure = read_gro('../substrates/calcite/CaCO3_104_rotated_cell_fixed.gro')"
   ]
  },
  {
   "cell_type": "code",
   "execution_count": 18,
   "metadata": {},
   "outputs": [
    {
     "name": "stdout",
     "output_type": "stream",
     "text": [
      "[ 0.01586 -0.       1.21429]\n",
      "norm: 1.2143935703469448\n"
     ]
    }
   ],
   "source": [
    "z_dir = np.array([structure.box[-2], structure.box[-1], structure.box[2]])\n",
    "z_dir_norm = z_dir / np.linalg.norm(z_dir)\n",
    "print(z_dir)\n",
    "print('norm:', np.linalg.norm(z_dir))"
   ]
  },
  {
   "cell_type": "code",
   "execution_count": 19,
   "metadata": {},
   "outputs": [],
   "source": [
    "structure.atoms_xyz += z_dir_norm * 0.1"
   ]
  },
  {
   "cell_type": "code",
   "execution_count": 21,
   "metadata": {},
   "outputs": [],
   "source": [
    "with open('../substrates/calcite/calcite_104_unitcell_test.gro', 'w') as f:\n",
    "    f.write(write_gro(structure.apply_pbc()))"
   ]
  },
  {
   "cell_type": "markdown",
   "metadata": {},
   "source": [
    "---"
   ]
  },
  {
   "cell_type": "markdown",
   "metadata": {},
   "source": [
    "center unitcell"
   ]
  },
  {
   "cell_type": "code",
   "execution_count": 22,
   "metadata": {},
   "outputs": [],
   "source": [
    "def proj(a, b):\n",
    "    return np.dot(a, b) / np.linalg.norm(a)**2 * a"
   ]
  },
  {
   "cell_type": "code",
   "execution_count": 24,
   "metadata": {},
   "outputs": [],
   "source": [
    "structure = read_gro('../substrates/calcite/calcite_104_unitcell_test.gro')"
   ]
  },
  {
   "cell_type": "code",
   "execution_count": 25,
   "metadata": {},
   "outputs": [
    {
     "name": "stdout",
     "output_type": "stream",
     "text": [
      "[ 0.01586 -0.       1.21429]\n",
      "norm: 1.2143935703469448\n"
     ]
    }
   ],
   "source": [
    "z_dir = np.array([structure.box[-2], structure.box[-1], structure.box[2]])\n",
    "z_dir_norm = z_dir / np.linalg.norm(z_dir)\n",
    "print(z_dir)\n",
    "print('norm:', np.linalg.norm(z_dir))"
   ]
  },
  {
   "cell_type": "code",
   "execution_count": 26,
   "metadata": {},
   "outputs": [
    {
     "name": "stdout",
     "output_type": "stream",
     "text": [
      "0.7483050960465677\n"
     ]
    }
   ],
   "source": [
    "alpha = np.arccos(np.dot(z_dir_norm, np.array([0, 0, 1])))\n",
    "print(np.rad2deg(alpha))"
   ]
  },
  {
   "cell_type": "code",
   "execution_count": 27,
   "metadata": {},
   "outputs": [],
   "source": [
    "max_id = 48\n",
    "min_id = 34"
   ]
  },
  {
   "cell_type": "code",
   "execution_count": 28,
   "metadata": {},
   "outputs": [
    {
     "name": "stdout",
     "output_type": "stream",
     "text": [
      "1.089 0.022\n"
     ]
    }
   ],
   "source": [
    "z_max = structure.atoms_xyz[max_id-1, 2]\n",
    "z_min = structure.atoms_xyz[min_id-1, 2]\n",
    "print(z_max, z_min)"
   ]
  },
  {
   "cell_type": "code",
   "execution_count": 29,
   "metadata": {},
   "outputs": [],
   "source": [
    "structure.atoms_xyz += z_dir_norm * ((z_dir[2] - z_max) - z_min) / 2 / np.cos(alpha)"
   ]
  },
  {
   "cell_type": "code",
   "execution_count": 31,
   "metadata": {},
   "outputs": [],
   "source": [
    "with open('../substrates/calcite/calcite_104_unitcell_test.gro', 'w') as f:\n",
    "    f.write(write_gro(structure.apply_pbc()))"
   ]
  },
  {
   "cell_type": "markdown",
   "metadata": {},
   "source": [
    "---"
   ]
  },
  {
   "cell_type": "markdown",
   "metadata": {},
   "source": [
    "renaming atoms"
   ]
  },
  {
   "cell_type": "code",
   "execution_count": 35,
   "metadata": {},
   "outputs": [],
   "source": [
    "structure = read_gro('../substrates/calcite/calcite_104_unitcell.gro')"
   ]
  },
  {
   "cell_type": "code",
   "execution_count": 41,
   "metadata": {},
   "outputs": [],
   "source": [
    "counter_dict = {\"CA\": 0, \"OCA\": 0, \"CCA\": 0}\n",
    "for i, label in np.ndenumerate(structure.atoms):\n",
    "    name = \"\".join([i for i in label.name if not i.isdigit()])\n",
    "\n",
    "    counter_dict[name] += 1\n",
    "    if label.name == \"CCA\":\n",
    "        atom_name = \"C\" + str(counter_dict[name])\n",
    "    elif label.name == \"OCA\":\n",
    "        atom_name = \"O\" + str(counter_dict[name])\n",
    "    elif label.name == \"CA\":\n",
    "        atom_name = \"Ca\" + str(counter_dict[name])\n",
    "\n",
    "    structure.atoms[i].id = i[0]+1\n",
    "    structure.atoms[i[0]].name = atom_name"
   ]
  },
  {
   "cell_type": "code",
   "execution_count": 42,
   "metadata": {},
   "outputs": [],
   "source": [
    "with open('../substrates/calcite/calcite_104_unitcell_test.gro', 'w') as f:\n",
    "    f.write(write_gro(structure.apply_pbc()))"
   ]
  },
  {
   "cell_type": "code",
   "execution_count": null,
   "metadata": {},
   "outputs": [],
   "source": []
  }
 ],
 "metadata": {
  "kernelspec": {
   "display_name": ".venv",
   "language": "python",
   "name": "python3"
  },
  "language_info": {
   "codemirror_mode": {
    "name": "ipython",
    "version": 3
   },
   "file_extension": ".py",
   "mimetype": "text/x-python",
   "name": "python",
   "nbconvert_exporter": "python",
   "pygments_lexer": "ipython3",
   "version": "3.9.6"
  }
 },
 "nbformat": 4,
 "nbformat_minor": 2
}
