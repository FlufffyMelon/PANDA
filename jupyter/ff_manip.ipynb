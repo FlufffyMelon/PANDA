{
 "cells": [
  {
   "cell_type": "code",
   "execution_count": 94,
   "metadata": {},
   "outputs": [],
   "source": [
    "import numpy as np"
   ]
  },
  {
   "cell_type": "markdown",
   "metadata": {},
   "source": [
    "---"
   ]
  },
  {
   "cell_type": "code",
   "execution_count": 15,
   "metadata": {},
   "outputs": [],
   "source": [
    "def C_to_sigma_epsilon(C6=None, C12=None):\n",
    "    assert not((C6 is None) or (C12 is None))\n",
    "\n",
    "    sigma = (C12 / C6)**(1/6)\n",
    "    epsilon = C6**2 / C12 / 4\n",
    "\n",
    "    return {'sigma': sigma, 'epsilon': epsilon}"
   ]
  },
  {
   "cell_type": "code",
   "execution_count": 16,
   "metadata": {},
   "outputs": [],
   "source": [
    "def sigma_epsilon_to_C(sigma=None, epsilon=None):\n",
    "    assert not((sigma is None) or (epsilon is None))\n",
    "\n",
    "    C6 = 4 * epsilon * sigma**6\n",
    "    C12 = 4 * epsilon * sigma**12\n",
    "\n",
    "    return {'C6': C6, 'C12': C12}"
   ]
  },
  {
   "cell_type": "code",
   "execution_count": 95,
   "metadata": {},
   "outputs": [
    {
     "data": {
      "text/plain": [
       "{'C6': 0.003079820481855911, 'C12': 3.060135590437567e-06}"
      ]
     },
     "execution_count": 95,
     "metadata": {},
     "output_type": "execute_result"
    }
   ],
   "source": [
    "sigma_epsilon_to_C(sigma=3.15890e-01, epsilon=7.74908e-01)"
   ]
  },
  {
   "cell_type": "code",
   "execution_count": 13,
   "metadata": {},
   "outputs": [
    {
     "data": {
      "text/plain": [
       "(0.23705658991321404, 2.000396825396826)"
      ]
     },
     "execution_count": 13,
     "metadata": {},
     "output_type": "execute_result"
    }
   ],
   "source": [
    "C_to_sigma_epsilon(C12=2.52e-7, C6=1.42e-3)"
   ]
  },
  {
   "cell_type": "code",
   "execution_count": 14,
   "metadata": {},
   "outputs": [
    {
     "ename": "ZeroDivisionError",
     "evalue": "float division by zero",
     "output_type": "error",
     "traceback": [
      "\u001b[0;31m---------------------------------------------------------------------------\u001b[0m",
      "\u001b[0;31mZeroDivisionError\u001b[0m                         Traceback (most recent call last)",
      "Cell \u001b[0;32mIn[14], line 1\u001b[0m\n\u001b[0;32m----> 1\u001b[0m \u001b[43mC_to_sigma_epsilon\u001b[49m\u001b[43m(\u001b[49m\u001b[43mC12\u001b[49m\u001b[38;5;241;43m=\u001b[39;49m\u001b[38;5;241;43m9.49e-7\u001b[39;49m\u001b[43m,\u001b[49m\u001b[43m \u001b[49m\u001b[43mC6\u001b[49m\u001b[38;5;241;43m=\u001b[39;49m\u001b[38;5;241;43m0\u001b[39;49m\u001b[43m)\u001b[49m\n",
      "Cell \u001b[0;32mIn[12], line 4\u001b[0m, in \u001b[0;36mC_to_sigma_epsilon\u001b[0;34m(C6, C12)\u001b[0m\n\u001b[1;32m      1\u001b[0m \u001b[38;5;28;01mdef\u001b[39;00m \u001b[38;5;21mC_to_sigma_epsilon\u001b[39m(C6\u001b[38;5;241m=\u001b[39m\u001b[38;5;28;01mNone\u001b[39;00m, C12\u001b[38;5;241m=\u001b[39m\u001b[38;5;28;01mNone\u001b[39;00m):\n\u001b[1;32m      2\u001b[0m     \u001b[38;5;28;01massert\u001b[39;00m \u001b[38;5;129;01mnot\u001b[39;00m((C6 \u001b[38;5;129;01mis\u001b[39;00m \u001b[38;5;28;01mNone\u001b[39;00m) \u001b[38;5;129;01mor\u001b[39;00m (C12 \u001b[38;5;129;01mis\u001b[39;00m \u001b[38;5;28;01mNone\u001b[39;00m))\n\u001b[0;32m----> 4\u001b[0m     sigma \u001b[38;5;241m=\u001b[39m (\u001b[43mC12\u001b[49m\u001b[43m \u001b[49m\u001b[38;5;241;43m/\u001b[39;49m\u001b[43m \u001b[49m\u001b[43mC6\u001b[49m)\u001b[38;5;241m*\u001b[39m\u001b[38;5;241m*\u001b[39m(\u001b[38;5;241m1\u001b[39m\u001b[38;5;241m/\u001b[39m\u001b[38;5;241m6\u001b[39m)\n\u001b[1;32m      5\u001b[0m     epsilon \u001b[38;5;241m=\u001b[39m C6\u001b[38;5;241m*\u001b[39m\u001b[38;5;241m*\u001b[39m\u001b[38;5;241m2\u001b[39m \u001b[38;5;241m/\u001b[39m C12 \u001b[38;5;241m/\u001b[39m \u001b[38;5;241m4\u001b[39m\n\u001b[1;32m      7\u001b[0m     \u001b[38;5;28;01mreturn\u001b[39;00m (sigma, epsilon)\n",
      "\u001b[0;31mZeroDivisionError\u001b[0m: float division by zero"
     ]
    }
   ],
   "source": [
    "C_to_sigma_epsilon(C12=9.49e-7, C6=0)"
   ]
  },
  {
   "cell_type": "code",
   "execution_count": 23,
   "metadata": {},
   "outputs": [
    {
     "data": {
      "text/plain": [
       "{'C6': 0.009063745010375976, 'C12': 2.5205498171097134e-05}"
      ]
     },
     "execution_count": 23,
     "metadata": {},
     "output_type": "execute_result"
    }
   ],
   "source": [
    "sigma_epsilon_to_C(sigma=3.75000e-01, epsilon=8.14817e-01)"
   ]
  },
  {
   "cell_type": "code",
   "execution_count": 21,
   "metadata": {},
   "outputs": [
    {
     "data": {
      "text/plain": [
       "6.678622612485302e-07"
      ]
     },
     "execution_count": 21,
     "metadata": {},
     "output_type": "execute_result"
    }
   ],
   "source": [
    "np.sqrt(2.52e-7 * 1.77e-6)"
   ]
  },
  {
   "cell_type": "code",
   "execution_count": 24,
   "metadata": {},
   "outputs": [],
   "source": [
    "C6_CH2, C12_CH2 = 5.81e-03, 2.21e-05\n",
    "C6_CH3, C12_CH3 = 9.06e-03, 2.52e-05"
   ]
  },
  {
   "cell_type": "code",
   "execution_count": 25,
   "metadata": {},
   "outputs": [],
   "source": [
    "C_CH2 = C_to_sigma_epsilon(C6=C6_CH2, C12=C12_CH2)\n",
    "sigma_CH2, epsilon_CH2 = C_CH2['sigma'], C_CH2['epsilon']\n",
    "\n",
    "C_CH3 = C_to_sigma_epsilon(C6=C6_CH3, C12=C12_CH3)\n",
    "sigma_CH3, epsilon_CH3 = C_CH3['sigma'], C_CH3['epsilon']"
   ]
  },
  {
   "cell_type": "code",
   "execution_count": 26,
   "metadata": {},
   "outputs": [],
   "source": [
    "sigma_CH2_CH3 = (sigma_CH2 + sigma_CH3) / 2\n",
    "epsilon_CH2_CH3 = np.sqrt(epsilon_CH2 * epsilon_CH3)"
   ]
  },
  {
   "cell_type": "code",
   "execution_count": 28,
   "metadata": {},
   "outputs": [],
   "source": [
    "C_CH2_CH3 = sigma_epsilon_to_C(sigma=sigma_CH2_CH3, epsilon=epsilon_CH2_CH3)"
   ]
  },
  {
   "cell_type": "code",
   "execution_count": 33,
   "metadata": {},
   "outputs": [
    {
     "data": {
      "text/plain": [
       "'2.369568e-05'"
      ]
     },
     "execution_count": 33,
     "metadata": {},
     "output_type": "execute_result"
    }
   ],
   "source": [
    "\"{:e}\".format(C_CH2_CH3['C12'])"
   ]
  },
  {
   "cell_type": "code",
   "execution_count": 34,
   "metadata": {},
   "outputs": [
    {
     "data": {
      "text/plain": [
       "0.154"
      ]
     },
     "execution_count": 34,
     "metadata": {},
     "output_type": "execute_result"
    }
   ],
   "source": [
    " 1.54e-01"
   ]
  },
  {
   "cell_type": "code",
   "execution_count": 93,
   "metadata": {},
   "outputs": [
    {
     "data": {
      "text/plain": [
       "'1852.437'"
      ]
     },
     "execution_count": 93,
     "metadata": {},
     "output_type": "execute_result"
    }
   ],
   "source": [
    "\"{:.3f}\".format(2.228e5 * 0.00831435)"
   ]
  },
  {
   "cell_type": "code",
   "execution_count": 42,
   "metadata": {},
   "outputs": [
    {
     "data": {
      "text/plain": [
       "'13.159'"
      ]
     },
     "execution_count": 42,
     "metadata": {},
     "output_type": "execute_result"
    }
   ],
   "source": [
    "\"{:.3f}\".format(2 * 791.32 * 0.00831435)"
   ]
  },
  {
   "cell_type": "code",
   "execution_count": 45,
   "metadata": {},
   "outputs": [
    {
     "data": {
      "text/plain": [
       "{'C6': 0.00308662727522345, 'C12': 3.0733122374688184e-06}"
      ]
     },
     "execution_count": 45,
     "metadata": {},
     "output_type": "execute_result"
    }
   ],
   "source": [
    "res = sigma_epsilon_to_C(sigma=3.16e-01, epsilon=7.75e-01)\n",
    "res"
   ]
  },
  {
   "cell_type": "code",
   "execution_count": 50,
   "metadata": {},
   "outputs": [
    {
     "data": {
      "text/plain": [
       "'3.07e-06'"
      ]
     },
     "execution_count": 50,
     "metadata": {},
     "output_type": "execute_result"
    }
   ],
   "source": [
    "\"{:.2e}\".format(res['C12'])"
   ]
  },
  {
   "cell_type": "markdown",
   "metadata": {},
   "source": [
    "---"
   ]
  },
  {
   "cell_type": "code",
   "execution_count": 55,
   "metadata": {},
   "outputs": [],
   "source": [
    "def Ci_Cj_to_Cij(C6i=None, C12i=None, C6j=None, C12j=None, func: int = 2):\n",
    "    assert not((C6i is None) or (C12i is None) or (C6j is None) or (C12j is None))\n",
    "    assert func == 2\n",
    "\n",
    "    sigma_epsilon_i = C_to_sigma_epsilon(C6=C6i, C12=C12i)\n",
    "    sigma_i, epsilon_i = sigma_epsilon_i['sigma'], sigma_epsilon_i['epsilon']\n",
    "\n",
    "    sigma_epsilon_j = C_to_sigma_epsilon(C6=C6j, C12=C12j)\n",
    "    sigma_j, epsilon_j = sigma_epsilon_j['sigma'], sigma_epsilon_j['epsilon']\n",
    "\n",
    "    sigma_ij = (sigma_i + sigma_j) / 2\n",
    "    epsilon_ij = np.sqrt(epsilon_i * epsilon_j)\n",
    "\n",
    "    C_ij = sigma_epsilon_to_C(sigma=sigma_ij, epsilon=epsilon_ij)\n",
    "\n",
    "    return C_ij"
   ]
  },
  {
   "cell_type": "code",
   "execution_count": 56,
   "metadata": {},
   "outputs": [],
   "source": [
    "#      C6        C12\n",
    "CH2 = [5.81e-03, 2.21e-05]\n",
    "CH3 = [9.06e-03, 2.52e-05]\n",
    "\n",
    "OWT = [3.09e-03, 3.07e-06]\n",
    "HWT = [0.00e+00, 0.00e+00]"
   ]
  },
  {
   "cell_type": "code",
   "execution_count": 66,
   "metadata": {},
   "outputs": [],
   "source": [
    "Cij = Ci_Cj_to_Cij(\n",
    "    C6i  = CH3[0],\n",
    "    C12i = CH3[1],\n",
    "    C6j  = OWT[0],\n",
    "    C12j = OWT[1]\n",
    ")"
   ]
  },
  {
   "cell_type": "code",
   "execution_count": 69,
   "metadata": {},
   "outputs": [
    {
     "data": {
      "text/plain": [
       "'9.19e-06'"
      ]
     },
     "execution_count": 69,
     "metadata": {},
     "output_type": "execute_result"
    }
   ],
   "source": [
    "\"{:.2e}\".format(Cij['C12'])"
   ]
  },
  {
   "cell_type": "code",
   "execution_count": 70,
   "metadata": {},
   "outputs": [
    {
     "ename": "ModuleNotFoundError",
     "evalue": "No module named 'gmxapi'",
     "output_type": "error",
     "traceback": [
      "\u001b[0;31m---------------------------------------------------------------------------\u001b[0m",
      "\u001b[0;31mModuleNotFoundError\u001b[0m                       Traceback (most recent call last)",
      "Cell \u001b[0;32mIn[70], line 1\u001b[0m\n\u001b[0;32m----> 1\u001b[0m \u001b[38;5;28;01mimport\u001b[39;00m \u001b[38;5;21;01mgmxapi\u001b[39;00m \u001b[38;5;28;01mas\u001b[39;00m \u001b[38;5;21;01mgmx\u001b[39;00m\n",
      "\u001b[0;31mModuleNotFoundError\u001b[0m: No module named 'gmxapi'"
     ]
    }
   ],
   "source": [
    "import gmxapi as gmx"
   ]
  },
  {
   "cell_type": "code",
   "execution_count": 71,
   "metadata": {},
   "outputs": [],
   "source": [
    "box = np.array([   1.21439   ,0.49900   ,1.21429   ,0.00000   ,0.00000  ,-0.00000   ,0.00000   ,0.01586  ,-0.00000])"
   ]
  },
  {
   "cell_type": "code",
   "execution_count": 90,
   "metadata": {},
   "outputs": [
    {
     "data": {
      "text/plain": [
       "('calcite_104_unitcell', '.gro')"
      ]
     },
     "execution_count": 90,
     "metadata": {},
     "output_type": "execute_result"
    }
   ],
   "source": [
    "import os\n",
    "os.path.splitext(os.path.split('../strucutres/calcite/calcite_104_unitcell.gro')[1])"
   ]
  },
  {
   "cell_type": "code",
   "execution_count": 85,
   "metadata": {},
   "outputs": [
    {
     "data": {
      "text/plain": [
       "('../strucutres/calcite', 'substr')"
      ]
     },
     "execution_count": 85,
     "metadata": {},
     "output_type": "execute_result"
    }
   ],
   "source": [
    "os.path.split(os.path.splitext('../strucutres/calcite/substr.gro')[0])"
   ]
  },
  {
   "cell_type": "code",
   "execution_count": 91,
   "metadata": {},
   "outputs": [],
   "source": [
    "unitcell_path = '../strucutres/calcite/calcite_104_unitcell.gro'\n",
    "folder, unitcell_filename = os.path.split(unitcell_path)\n",
    "unitcell_name = os.path.splitext(unitcell_filename)[0]\n",
    "filename = '_'.join(unitcell_name.split('_')[:-1])"
   ]
  },
  {
   "cell_type": "code",
   "execution_count": 92,
   "metadata": {},
   "outputs": [
    {
     "data": {
      "text/plain": [
       "'calcite_104'"
      ]
     },
     "execution_count": 92,
     "metadata": {},
     "output_type": "execute_result"
    }
   ],
   "source": [
    "filename"
   ]
  },
  {
   "cell_type": "code",
   "execution_count": null,
   "metadata": {},
   "outputs": [],
   "source": [
    "    CA     40.078    1.668  A    1.42e-03    2.52e-07\n",
    "   CCA     12.011    0.999  A    4.61e-03    1.44e-05\n",
    "   OCA     15.999   -0.889  A    2.03e-03    1.77e-06\n",
    "; TraPPE\n",
    "   CH2     14.027    0.000  A    5.81e-03    2.21e-05\n",
    "   CH3     15.035    0.000  A    9.06e-03    2.52e-05"
   ]
  },
  {
   "cell_type": "code",
   "execution_count": 99,
   "metadata": {},
   "outputs": [
    {
     "data": {
      "text/plain": [
       "'4.29e-03'"
      ]
     },
     "execution_count": 99,
     "metadata": {},
     "output_type": "execute_result"
    }
   ],
   "source": [
    "\"{:.2e}\".format(np.sqrt(2.03e-03 * 9.06e-03))"
   ]
  },
  {
   "cell_type": "code",
   "execution_count": null,
   "metadata": {},
   "outputs": [],
   "source": []
  }
 ],
 "metadata": {
  "kernelspec": {
   "display_name": ".venv",
   "language": "python",
   "name": "python3"
  },
  "language_info": {
   "codemirror_mode": {
    "name": "ipython",
    "version": 3
   },
   "file_extension": ".py",
   "mimetype": "text/x-python",
   "name": "python",
   "nbconvert_exporter": "python",
   "pygments_lexer": "ipython3",
   "version": "3.9.6"
  }
 },
 "nbformat": 4,
 "nbformat_minor": 2
}
